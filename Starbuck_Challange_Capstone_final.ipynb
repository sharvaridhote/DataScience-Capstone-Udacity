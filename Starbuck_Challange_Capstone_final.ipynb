{
 "cells": [
  {
   "cell_type": "markdown",
   "metadata": {},
   "source": [
    "# Starbucks Capstone Challenge Notebook\n",
    "\n",
    "\n",
    "\n",
    "## Background : \n",
    "\n",
    "The businesses want to target right customers throughout the customer journey which helps to reduce the marketing budget, customer satisfaction as well increase the profits.  Machine learning (ML) and artificial intelligence (AI) technologies are helping automate the digital marketing with real time decision making such as selecting best messaging platform, best timing, and the best offer to the individual customer by integrating data from different platforms [1-4].\n",
    "\n",
    "Udacity's Starbucks Capstone challenge project  data set contains simulated data that mimics customer behavior on the Starbucks rewards mobile app. Machine learning technique will be used in order to develop effective marketing strategy for the Starbucks business using the available data.  \n",
    "\n",
    "\n",
    "# Problem Statement \n",
    "\n",
    "Starbucks sends out an offer to users of the mobile app every few days. An offer can be merely an advertisement for a drink or an actual offer such as a discount or BOGO (buy one get one free). The given dataset contains demographic data record of transaction and details about offer information. This project is divided in three parts.\n",
    "\n",
    "It is important to know your customers in order to increase business. First, customer segmentation using unsupervised machine learning technique K-means clustering is carried out to understand current customer characteristics and demographics. Second  the best performing supervised machine learning model is built by comparing linear classifier, random forest, decison tree, gradient boost and ada boost ensemble models performance based on the CM, ROC curve to predict if customer will respond to an offer or not for better targeted marketing. \n",
    "\n",
    "\n",
    "## Following are the project design steps carried out to execute this project\n",
    "\n",
    "\n",
    "1. Data cleaning and exploratory data analysis (EDA)\n",
    "\n",
    "\n",
    "2. Feature engineering - Create new features from the \n",
    " \n",
    "\n",
    "3. Customer segmentation to know Starbucks current customers charecteristics\n",
    "\n",
    "4.  Offer prediction model - the best performing supervised machine learning model will be build by comparing random forest and boosting ensemble models based on the metrics to predict if customer will respond to an offer or not for better targeted marketing. \n",
    "    \n",
    "# Challanges \n",
    "\n",
    "- Not all users receive the same offer\n",
    "- Different validity period for the offer type and informational offer to influence customer.\n",
    "- Customer might make a purchase through the app without having received an offer or seen an offer\n",
    "- A user can receive an offer, never actually view the offer, and still complete the offer\n"
   ]
  },
  {
   "cell_type": "code",
   "execution_count": 1,
   "metadata": {},
   "outputs": [],
   "source": [
    "import pandas as pd\n",
    "import numpy as np\n",
    "import math\n",
    "import json\n",
    "import seaborn as sns\n",
    "import matplotlib.pyplot as plt\n",
    "import matplotlib\n",
    "\n",
    "\n",
    "\n"
   ]
  },
  {
   "cell_type": "markdown",
   "metadata": {},
   "source": [
    "# Part 1 :  Initial Dataset Statistics and basic EDA\n",
    "\n"
   ]
  },
  {
   "cell_type": "markdown",
   "metadata": {},
   "source": [
    "### Portfolio Dataset"
   ]
  },
  {
   "cell_type": "code",
   "execution_count": 2,
   "metadata": {
    "scrolled": false
   },
   "outputs": [
    {
     "name": "stdout",
     "output_type": "stream",
     "text": [
      "portfolio shape (10, 6):\n",
      "portfolio statistics:\n",
      "       difficulty   duration     reward\n",
      "count   10.000000  10.000000  10.000000\n",
      "mean     7.700000   6.500000   4.200000\n",
      "std      5.831905   2.321398   3.583915\n",
      "min      0.000000   3.000000   0.000000\n",
      "25%      5.000000   5.000000   2.000000\n",
      "50%      8.500000   7.000000   4.000000\n",
      "75%     10.000000   7.000000   5.000000\n",
      "max     20.000000  10.000000  10.000000\n",
      "portfolio null count:\n",
      "channels      0\n",
      "difficulty    0\n",
      "duration      0\n",
      "id            0\n",
      "offer_type    0\n",
      "reward        0\n",
      "dtype: int64\n"
     ]
    }
   ],
   "source": [
    "# read in the json files\n",
    "portfolio = pd.read_json('portfolio.json', orient='records', lines=True)\n",
    "\n",
    "# Check size of the data set, basic statistics and null value counts\n",
    "print('portfolio shape {}:' .format(portfolio.shape)) \n",
    "print('portfolio statistics:' ) \n",
    "print((portfolio.describe()))\n",
    "print('portfolio null count:') \n",
    "print((portfolio.isnull().sum()))\n",
    " "
   ]
  },
  {
   "cell_type": "markdown",
   "metadata": {},
   "source": [
    "No missing values. "
   ]
  },
  {
   "cell_type": "code",
   "execution_count": 3,
   "metadata": {
    "scrolled": true
   },
   "outputs": [
    {
     "name": "stdout",
     "output_type": "stream",
     "text": [
      "<class 'pandas.core.frame.DataFrame'>\n",
      "RangeIndex: 10 entries, 0 to 9\n",
      "Data columns (total 6 columns):\n",
      "channels      10 non-null object\n",
      "difficulty    10 non-null int64\n",
      "duration      10 non-null int64\n",
      "id            10 non-null object\n",
      "offer_type    10 non-null object\n",
      "reward        10 non-null int64\n",
      "dtypes: int64(3), object(3)\n",
      "memory usage: 560.0+ bytes\n",
      "portfolio data charecteristics  None:\n"
     ]
    }
   ],
   "source": [
    "print('portfolio data charecteristics  {}:' .format(portfolio.info()))"
   ]
  },
  {
   "cell_type": "code",
   "execution_count": 4,
   "metadata": {},
   "outputs": [],
   "source": [
    "# cleaning function portfolio\n",
    "# credit -  https://stackoverflow.com/questions/45312377/how-to-one-hot-encode-from-a-pandas-column-containing-a-list\n",
    "# credit - https://stackoverflow.com/questions/29034928/pandas-convert-a-column-of-list-to-dummies\n",
    "# credit -https://stackoverflow.com/questions/45312377/how-to-one-hot-encode-from-a-pandas-column-containing-a-list/45312577#45312577\n",
    "\n",
    "def portfolio_clean(portfolio):\n",
    "\n",
    "    \"\"\" \n",
    "    Clean, select and transform a DataFrame containing information about offer type and duration\n",
    "    INPUT:\n",
    "        portfolio: DataFrame containing offer ids and meta data about \n",
    "                   each offer (duration, type, etc.)\n",
    "    OUTPUT:\n",
    "        portfolio: clean transformed portfolio DataFrame\n",
    "    \"\"\"  \n",
    "    \n",
    "    portfolio = portfolio.assign(**pd.get_dummies(portfolio.channels.apply(lambda x:pd.Series(x)).stack()\n",
    "                                                    .reset_index(level=1,drop=True)).sum(level=0))\n",
    "    portfolio = portfolio.assign(**pd.get_dummies(portfolio.offer_type.apply(lambda x:pd.Series(x)).stack()\n",
    "                                                   .reset_index(level=1,drop=True)).sum(level=0))\n",
    "    #portfolio['id'] = [offer_id_col[item] for item in portfolio_df['id']] \n",
    "    portfolio.rename(columns={'id':'offer_id', 'reward': 'reward_offered'}, inplace =True)\n",
    "    \n",
    "    offer_type_col = {'bogo':'1', 'informational':'2','discount':'3'}\n",
    "    #portfolio['offer_type'] = [offer_type_col[item] for item in portfolio['offer_type']] \n",
    "    \n",
    "    portfolio.drop(['channels'], axis=1, inplace=True)\n",
    "    \n",
    "    return portfolio\n",
    "\n"
   ]
  },
  {
   "cell_type": "code",
   "execution_count": 5,
   "metadata": {},
   "outputs": [],
   "source": [
    "portfolio_df=portfolio_clean(portfolio)"
   ]
  },
  {
   "cell_type": "markdown",
   "metadata": {},
   "source": [
    "### Summary of  portfolio dataset and statistics\n",
    "- Encode offer_type columns\n",
    "- No direct reward for the information type offer so we will need a strategy to check its offer effetiveness\n",
    "- duration will be helpful to seperate offer and transaction dataframes for further analysis. \n",
    "- Channel feature does not look much helpful. We can see that all the offers have been sent through mobile and email with an exception. \n",
    "- We will not use channel feature in our model or segmentation. \n",
    "- 4 types of bogo, 4 types of discount and 2 types of informational offers were sent. \n",
    "- Offer duration - what is expected from the offer duration if its too long or too short, it may not be effective. We will see the when we will complete the analysis. \n",
    "- Difficulty - it's minium amount to be spent to complete offer. We need to see average amount spend and compare difficulty to see what's effective difficulty level. "
   ]
  },
  {
   "cell_type": "code",
   "execution_count": 6,
   "metadata": {},
   "outputs": [
    {
     "data": {
      "text/html": [
       "<div>\n",
       "<style scoped>\n",
       "    .dataframe tbody tr th:only-of-type {\n",
       "        vertical-align: middle;\n",
       "    }\n",
       "\n",
       "    .dataframe tbody tr th {\n",
       "        vertical-align: top;\n",
       "    }\n",
       "\n",
       "    .dataframe thead th {\n",
       "        text-align: right;\n",
       "    }\n",
       "</style>\n",
       "<table border=\"1\" class=\"dataframe\">\n",
       "  <thead>\n",
       "    <tr style=\"text-align: right;\">\n",
       "      <th></th>\n",
       "      <th>difficulty</th>\n",
       "      <th>duration</th>\n",
       "      <th>offer_id</th>\n",
       "      <th>offer_type</th>\n",
       "      <th>reward_offered</th>\n",
       "      <th>email</th>\n",
       "      <th>mobile</th>\n",
       "      <th>social</th>\n",
       "      <th>web</th>\n",
       "      <th>bogo</th>\n",
       "      <th>discount</th>\n",
       "      <th>informational</th>\n",
       "    </tr>\n",
       "  </thead>\n",
       "  <tbody>\n",
       "    <tr>\n",
       "      <th>0</th>\n",
       "      <td>10</td>\n",
       "      <td>7</td>\n",
       "      <td>ae264e3637204a6fb9bb56bc8210ddfd</td>\n",
       "      <td>bogo</td>\n",
       "      <td>10</td>\n",
       "      <td>1</td>\n",
       "      <td>1</td>\n",
       "      <td>1</td>\n",
       "      <td>0</td>\n",
       "      <td>1</td>\n",
       "      <td>0</td>\n",
       "      <td>0</td>\n",
       "    </tr>\n",
       "    <tr>\n",
       "      <th>1</th>\n",
       "      <td>10</td>\n",
       "      <td>5</td>\n",
       "      <td>4d5c57ea9a6940dd891ad53e9dbe8da0</td>\n",
       "      <td>bogo</td>\n",
       "      <td>10</td>\n",
       "      <td>1</td>\n",
       "      <td>1</td>\n",
       "      <td>1</td>\n",
       "      <td>1</td>\n",
       "      <td>1</td>\n",
       "      <td>0</td>\n",
       "      <td>0</td>\n",
       "    </tr>\n",
       "    <tr>\n",
       "      <th>2</th>\n",
       "      <td>0</td>\n",
       "      <td>4</td>\n",
       "      <td>3f207df678b143eea3cee63160fa8bed</td>\n",
       "      <td>informational</td>\n",
       "      <td>0</td>\n",
       "      <td>1</td>\n",
       "      <td>1</td>\n",
       "      <td>0</td>\n",
       "      <td>1</td>\n",
       "      <td>0</td>\n",
       "      <td>0</td>\n",
       "      <td>1</td>\n",
       "    </tr>\n",
       "    <tr>\n",
       "      <th>3</th>\n",
       "      <td>5</td>\n",
       "      <td>7</td>\n",
       "      <td>9b98b8c7a33c4b65b9aebfe6a799e6d9</td>\n",
       "      <td>bogo</td>\n",
       "      <td>5</td>\n",
       "      <td>1</td>\n",
       "      <td>1</td>\n",
       "      <td>0</td>\n",
       "      <td>1</td>\n",
       "      <td>1</td>\n",
       "      <td>0</td>\n",
       "      <td>0</td>\n",
       "    </tr>\n",
       "    <tr>\n",
       "      <th>4</th>\n",
       "      <td>20</td>\n",
       "      <td>10</td>\n",
       "      <td>0b1e1539f2cc45b7b9fa7c272da2e1d7</td>\n",
       "      <td>discount</td>\n",
       "      <td>5</td>\n",
       "      <td>1</td>\n",
       "      <td>0</td>\n",
       "      <td>0</td>\n",
       "      <td>1</td>\n",
       "      <td>0</td>\n",
       "      <td>1</td>\n",
       "      <td>0</td>\n",
       "    </tr>\n",
       "    <tr>\n",
       "      <th>5</th>\n",
       "      <td>7</td>\n",
       "      <td>7</td>\n",
       "      <td>2298d6c36e964ae4a3e7e9706d1fb8c2</td>\n",
       "      <td>discount</td>\n",
       "      <td>3</td>\n",
       "      <td>1</td>\n",
       "      <td>1</td>\n",
       "      <td>1</td>\n",
       "      <td>1</td>\n",
       "      <td>0</td>\n",
       "      <td>1</td>\n",
       "      <td>0</td>\n",
       "    </tr>\n",
       "    <tr>\n",
       "      <th>6</th>\n",
       "      <td>10</td>\n",
       "      <td>10</td>\n",
       "      <td>fafdcd668e3743c1bb461111dcafc2a4</td>\n",
       "      <td>discount</td>\n",
       "      <td>2</td>\n",
       "      <td>1</td>\n",
       "      <td>1</td>\n",
       "      <td>1</td>\n",
       "      <td>1</td>\n",
       "      <td>0</td>\n",
       "      <td>1</td>\n",
       "      <td>0</td>\n",
       "    </tr>\n",
       "    <tr>\n",
       "      <th>7</th>\n",
       "      <td>0</td>\n",
       "      <td>3</td>\n",
       "      <td>5a8bc65990b245e5a138643cd4eb9837</td>\n",
       "      <td>informational</td>\n",
       "      <td>0</td>\n",
       "      <td>1</td>\n",
       "      <td>1</td>\n",
       "      <td>1</td>\n",
       "      <td>0</td>\n",
       "      <td>0</td>\n",
       "      <td>0</td>\n",
       "      <td>1</td>\n",
       "    </tr>\n",
       "    <tr>\n",
       "      <th>8</th>\n",
       "      <td>5</td>\n",
       "      <td>5</td>\n",
       "      <td>f19421c1d4aa40978ebb69ca19b0e20d</td>\n",
       "      <td>bogo</td>\n",
       "      <td>5</td>\n",
       "      <td>1</td>\n",
       "      <td>1</td>\n",
       "      <td>1</td>\n",
       "      <td>1</td>\n",
       "      <td>1</td>\n",
       "      <td>0</td>\n",
       "      <td>0</td>\n",
       "    </tr>\n",
       "    <tr>\n",
       "      <th>9</th>\n",
       "      <td>10</td>\n",
       "      <td>7</td>\n",
       "      <td>2906b810c7d4411798c6938adc9daaa5</td>\n",
       "      <td>discount</td>\n",
       "      <td>2</td>\n",
       "      <td>1</td>\n",
       "      <td>1</td>\n",
       "      <td>0</td>\n",
       "      <td>1</td>\n",
       "      <td>0</td>\n",
       "      <td>1</td>\n",
       "      <td>0</td>\n",
       "    </tr>\n",
       "  </tbody>\n",
       "</table>\n",
       "</div>"
      ],
      "text/plain": [
       "   difficulty  duration                          offer_id     offer_type  \\\n",
       "0          10         7  ae264e3637204a6fb9bb56bc8210ddfd           bogo   \n",
       "1          10         5  4d5c57ea9a6940dd891ad53e9dbe8da0           bogo   \n",
       "2           0         4  3f207df678b143eea3cee63160fa8bed  informational   \n",
       "3           5         7  9b98b8c7a33c4b65b9aebfe6a799e6d9           bogo   \n",
       "4          20        10  0b1e1539f2cc45b7b9fa7c272da2e1d7       discount   \n",
       "5           7         7  2298d6c36e964ae4a3e7e9706d1fb8c2       discount   \n",
       "6          10        10  fafdcd668e3743c1bb461111dcafc2a4       discount   \n",
       "7           0         3  5a8bc65990b245e5a138643cd4eb9837  informational   \n",
       "8           5         5  f19421c1d4aa40978ebb69ca19b0e20d           bogo   \n",
       "9          10         7  2906b810c7d4411798c6938adc9daaa5       discount   \n",
       "\n",
       "   reward_offered  email  mobile  social  web  bogo  discount  informational  \n",
       "0              10      1       1       1    0     1         0              0  \n",
       "1              10      1       1       1    1     1         0              0  \n",
       "2               0      1       1       0    1     0         0              1  \n",
       "3               5      1       1       0    1     1         0              0  \n",
       "4               5      1       0       0    1     0         1              0  \n",
       "5               3      1       1       1    1     0         1              0  \n",
       "6               2      1       1       1    1     0         1              0  \n",
       "7               0      1       1       1    0     0         0              1  \n",
       "8               5      1       1       1    1     1         0              0  \n",
       "9               2      1       1       0    1     0         1              0  "
      ]
     },
     "execution_count": 6,
     "metadata": {},
     "output_type": "execute_result"
    }
   ],
   "source": [
    "portfolio_df"
   ]
  },
  {
   "cell_type": "markdown",
   "metadata": {},
   "source": [
    "### Profile Dataset"
   ]
  },
  {
   "cell_type": "code",
   "execution_count": 7,
   "metadata": {
    "scrolled": false
   },
   "outputs": [
    {
     "name": "stdout",
     "output_type": "stream",
     "text": [
      "profile  shape is (17000, 5):\n",
      "profile statistics                  age  became_member_on         income\n",
      "count  17000.000000      1.700000e+04   14825.000000\n",
      "mean      62.531412      2.016703e+07   65404.991568\n",
      "std       26.738580      1.167750e+04   21598.299410\n",
      "min       18.000000      2.013073e+07   30000.000000\n",
      "25%       45.000000      2.016053e+07   49000.000000\n",
      "50%       58.000000      2.017080e+07   64000.000000\n",
      "75%       73.000000      2.017123e+07   80000.000000\n",
      "max      118.000000      2.018073e+07  120000.000000:\n",
      "<class 'pandas.core.frame.DataFrame'>\n",
      "RangeIndex: 17000 entries, 0 to 16999\n",
      "Data columns (total 5 columns):\n",
      "age                 17000 non-null int64\n",
      "became_member_on    17000 non-null int64\n",
      "gender              14825 non-null object\n",
      "id                  17000 non-null object\n",
      "income              14825 non-null float64\n",
      "dtypes: float64(1), int64(2), object(2)\n",
      "memory usage: 664.1+ KB\n",
      "profile data charecteristics   None:\n",
      "profile null countage                    0\n",
      "became_member_on       0\n",
      "gender              2175\n",
      "id                     0\n",
      "income              2175\n",
      "dtype: int64:\n"
     ]
    }
   ],
   "source": [
    "# read in the json files\n",
    "profile = pd.read_json('profile.json', orient='records', lines=True)\n",
    "\n",
    "# Check size of the data set, basic statistics and null value counts\n",
    "print('profile  shape is {}:' .format(profile.shape)) \n",
    "print('profile statistics  {}:' .format(profile.describe())) \n",
    "print('profile data charecteristics   {}:' .format(profile.info())) \n",
    "print('profile null count{}:' .format(profile.isnull().sum()))"
   ]
  },
  {
   "cell_type": "markdown",
   "metadata": {},
   "source": [
    "Missing values in gender and income. \n",
    "Age maximum - 118 - looks like a outlier. We will do missing data analysis. "
   ]
  },
  {
   "cell_type": "code",
   "execution_count": 8,
   "metadata": {},
   "outputs": [],
   "source": [
    "# cleaning function profile\n",
    "# credit -  https://stackoverflow.com/questions/43133605/convert-integer-yyyymmdd-to-date-format-mm-dd-yyyy-in-python\n",
    "import datetime\n",
    "\n",
    "def profile_clean(profile):\n",
    "\n",
    "    \"\"\" \n",
    "    Clean, select and transform a DataFrame containing a demographic data for each customer\n",
    "    INPUT:\n",
    "        profile: DataFrame containing offer ids and meta data about \n",
    "                   each offer (duration, type, etc.)\n",
    "    OUTPUT:\n",
    "        profile: clean and transformed profile DataFrame\n",
    "    \"\"\"  \n",
    "  \n",
    "    # We can calculate membershipt years using became member on data to see how long customer is starbucks member\n",
    "    profile['date_time'] =pd.to_datetime(profile['became_member_on'], format = '%Y%m%d')\n",
    "    end_time =(datetime.datetime.today().date())\n",
    "    start_time =(profile['date_time'].dt.date)\n",
    "    \n",
    "    profile['membership_years']=  (end_time -start_time)\n",
    "    profile['membership_years'] = round((pd.to_numeric(profile['membership_years'].dt.days, downcast='integer')/365),)\n",
    "   \n",
    "    # let's fill na with unknown gender.\n",
    "    profile.fillna(profile.mean(), inplace=True)\n",
    "    profile.fillna(profile.mean(), inplace=True)\n",
    "   \n",
    "    profile['year'] = pd.DatetimeIndex(profile['date_time']).year   \n",
    "\n",
    "    profile.rename(columns={'id':'customer_id'}, inplace =True)\n",
    "    profile.drop(['date_time', 'became_member_on'], axis=1,inplace=True)\n",
    "\n",
    "    return profile\n"
   ]
  },
  {
   "cell_type": "code",
   "execution_count": 9,
   "metadata": {},
   "outputs": [],
   "source": [
    "profile_df=profile_clean(profile)"
   ]
  },
  {
   "cell_type": "code",
   "execution_count": 10,
   "metadata": {
    "scrolled": true
   },
   "outputs": [
    {
     "data": {
      "text/html": [
       "<div>\n",
       "<style scoped>\n",
       "    .dataframe tbody tr th:only-of-type {\n",
       "        vertical-align: middle;\n",
       "    }\n",
       "\n",
       "    .dataframe tbody tr th {\n",
       "        vertical-align: top;\n",
       "    }\n",
       "\n",
       "    .dataframe thead th {\n",
       "        text-align: right;\n",
       "    }\n",
       "</style>\n",
       "<table border=\"1\" class=\"dataframe\">\n",
       "  <thead>\n",
       "    <tr style=\"text-align: right;\">\n",
       "      <th></th>\n",
       "      <th>age</th>\n",
       "      <th>gender</th>\n",
       "      <th>customer_id</th>\n",
       "      <th>income</th>\n",
       "      <th>membership_years</th>\n",
       "      <th>year</th>\n",
       "    </tr>\n",
       "  </thead>\n",
       "  <tbody>\n",
       "    <tr>\n",
       "      <th>0</th>\n",
       "      <td>118</td>\n",
       "      <td>None</td>\n",
       "      <td>68be06ca386d4c31939f3a4f0e3dd783</td>\n",
       "      <td>65404.991568</td>\n",
       "      <td>3.0</td>\n",
       "      <td>2017</td>\n",
       "    </tr>\n",
       "    <tr>\n",
       "      <th>1</th>\n",
       "      <td>55</td>\n",
       "      <td>F</td>\n",
       "      <td>0610b486422d4921ae7d2bf64640c50b</td>\n",
       "      <td>112000.000000</td>\n",
       "      <td>3.0</td>\n",
       "      <td>2017</td>\n",
       "    </tr>\n",
       "    <tr>\n",
       "      <th>2</th>\n",
       "      <td>118</td>\n",
       "      <td>None</td>\n",
       "      <td>38fe809add3b4fcf9315a9694bb96ff5</td>\n",
       "      <td>65404.991568</td>\n",
       "      <td>2.0</td>\n",
       "      <td>2018</td>\n",
       "    </tr>\n",
       "    <tr>\n",
       "      <th>3</th>\n",
       "      <td>75</td>\n",
       "      <td>F</td>\n",
       "      <td>78afa995795e4d85b5d9ceeca43f5fef</td>\n",
       "      <td>100000.000000</td>\n",
       "      <td>3.0</td>\n",
       "      <td>2017</td>\n",
       "    </tr>\n",
       "    <tr>\n",
       "      <th>4</th>\n",
       "      <td>118</td>\n",
       "      <td>None</td>\n",
       "      <td>a03223e636434f42ac4c3df47e8bac43</td>\n",
       "      <td>65404.991568</td>\n",
       "      <td>3.0</td>\n",
       "      <td>2017</td>\n",
       "    </tr>\n",
       "  </tbody>\n",
       "</table>\n",
       "</div>"
      ],
      "text/plain": [
       "   age gender                       customer_id         income  \\\n",
       "0  118   None  68be06ca386d4c31939f3a4f0e3dd783   65404.991568   \n",
       "1   55      F  0610b486422d4921ae7d2bf64640c50b  112000.000000   \n",
       "2  118   None  38fe809add3b4fcf9315a9694bb96ff5   65404.991568   \n",
       "3   75      F  78afa995795e4d85b5d9ceeca43f5fef  100000.000000   \n",
       "4  118   None  a03223e636434f42ac4c3df47e8bac43   65404.991568   \n",
       "\n",
       "   membership_years  year  \n",
       "0               3.0  2017  \n",
       "1               3.0  2017  \n",
       "2               2.0  2018  \n",
       "3               3.0  2017  \n",
       "4               3.0  2017  "
      ]
     },
     "execution_count": 10,
     "metadata": {},
     "output_type": "execute_result"
    }
   ],
   "source": [
    "profile_df.head()"
   ]
  },
  {
   "cell_type": "markdown",
   "metadata": {},
   "source": [
    "###  Summary of profile dataframe\n",
    "- Important dataset for the understanding customer demographic. \n",
    "- age, gender catgorical features encode later\n",
    "- become_member_on  changed to membership years.\n",
    "- age maximum value : 118 - looks like outlier\n",
    "- income and gender columns have more missing values - 2175 which are corresponding to age outlier. We will check overall missing values in the combined dataset to decided if we need to impute or delete missing values."
   ]
  },
  {
   "cell_type": "markdown",
   "metadata": {},
   "source": [
    "### Transcript Dataset"
   ]
  },
  {
   "cell_type": "code",
   "execution_count": 11,
   "metadata": {
    "scrolled": false
   },
   "outputs": [
    {
     "name": "stdout",
     "output_type": "stream",
     "text": [
      "transcript  shape is (306534, 4): \n",
      "transcript statistics:\n",
      "                time\n",
      "count  306534.000000\n",
      "mean      366.382940\n",
      "std       200.326314\n",
      "min         0.000000\n",
      "25%       186.000000\n",
      "50%       408.000000\n",
      "75%       528.000000\n",
      "max       714.000000\n",
      "transcript data charecteristics:\n",
      "<class 'pandas.core.frame.DataFrame'>\n",
      "RangeIndex: 306534 entries, 0 to 306533\n",
      "Data columns (total 4 columns):\n",
      "event     306534 non-null object\n",
      "person    306534 non-null object\n",
      "time      306534 non-null int64\n",
      "value     306534 non-null object\n",
      "dtypes: int64(1), object(3)\n",
      "memory usage: 9.4+ MB\n",
      "None\n",
      "transcript null count:\n",
      "event     0\n",
      "person    0\n",
      "time      0\n",
      "value     0\n",
      "dtype: int64\n"
     ]
    }
   ],
   "source": [
    "# read in the json files\n",
    "transcript = pd.read_json('transcript.json', orient='records', lines=True)\n",
    "\n",
    "# Check size of the data set, basic statistics and null value counts\n",
    "print('transcript  shape is {}: ' .format(transcript.shape)) \n",
    "print('transcript statistics:' )\n",
    "print(transcript.describe()) \n",
    "print('transcript data charecteristics:')\n",
    "print(transcript.info())\n",
    "print('transcript null count:' )\n",
    "print(transcript.isnull().sum())"
   ]
  },
  {
   "cell_type": "markdown",
   "metadata": {},
   "source": [
    "No missing values. \n",
    "Value column has dictionary. It contains offer id, reward and amount"
   ]
  },
  {
   "cell_type": "code",
   "execution_count": 12,
   "metadata": {},
   "outputs": [
    {
     "data": {
      "text/html": [
       "<div>\n",
       "<style scoped>\n",
       "    .dataframe tbody tr th:only-of-type {\n",
       "        vertical-align: middle;\n",
       "    }\n",
       "\n",
       "    .dataframe tbody tr th {\n",
       "        vertical-align: top;\n",
       "    }\n",
       "\n",
       "    .dataframe thead th {\n",
       "        text-align: right;\n",
       "    }\n",
       "</style>\n",
       "<table border=\"1\" class=\"dataframe\">\n",
       "  <thead>\n",
       "    <tr style=\"text-align: right;\">\n",
       "      <th></th>\n",
       "      <th>event</th>\n",
       "      <th>person</th>\n",
       "      <th>time</th>\n",
       "      <th>value</th>\n",
       "    </tr>\n",
       "  </thead>\n",
       "  <tbody>\n",
       "    <tr>\n",
       "      <th>0</th>\n",
       "      <td>offer received</td>\n",
       "      <td>78afa995795e4d85b5d9ceeca43f5fef</td>\n",
       "      <td>0</td>\n",
       "      <td>{'offer id': '9b98b8c7a33c4b65b9aebfe6a799e6d9'}</td>\n",
       "    </tr>\n",
       "    <tr>\n",
       "      <th>1</th>\n",
       "      <td>offer received</td>\n",
       "      <td>a03223e636434f42ac4c3df47e8bac43</td>\n",
       "      <td>0</td>\n",
       "      <td>{'offer id': '0b1e1539f2cc45b7b9fa7c272da2e1d7'}</td>\n",
       "    </tr>\n",
       "    <tr>\n",
       "      <th>2</th>\n",
       "      <td>offer received</td>\n",
       "      <td>e2127556f4f64592b11af22de27a7932</td>\n",
       "      <td>0</td>\n",
       "      <td>{'offer id': '2906b810c7d4411798c6938adc9daaa5'}</td>\n",
       "    </tr>\n",
       "    <tr>\n",
       "      <th>3</th>\n",
       "      <td>offer received</td>\n",
       "      <td>8ec6ce2a7e7949b1bf142def7d0e0586</td>\n",
       "      <td>0</td>\n",
       "      <td>{'offer id': 'fafdcd668e3743c1bb461111dcafc2a4'}</td>\n",
       "    </tr>\n",
       "    <tr>\n",
       "      <th>4</th>\n",
       "      <td>offer received</td>\n",
       "      <td>68617ca6246f4fbc85e91a2a49552598</td>\n",
       "      <td>0</td>\n",
       "      <td>{'offer id': '4d5c57ea9a6940dd891ad53e9dbe8da0'}</td>\n",
       "    </tr>\n",
       "  </tbody>\n",
       "</table>\n",
       "</div>"
      ],
      "text/plain": [
       "            event                            person  time  \\\n",
       "0  offer received  78afa995795e4d85b5d9ceeca43f5fef     0   \n",
       "1  offer received  a03223e636434f42ac4c3df47e8bac43     0   \n",
       "2  offer received  e2127556f4f64592b11af22de27a7932     0   \n",
       "3  offer received  8ec6ce2a7e7949b1bf142def7d0e0586     0   \n",
       "4  offer received  68617ca6246f4fbc85e91a2a49552598     0   \n",
       "\n",
       "                                              value  \n",
       "0  {'offer id': '9b98b8c7a33c4b65b9aebfe6a799e6d9'}  \n",
       "1  {'offer id': '0b1e1539f2cc45b7b9fa7c272da2e1d7'}  \n",
       "2  {'offer id': '2906b810c7d4411798c6938adc9daaa5'}  \n",
       "3  {'offer id': 'fafdcd668e3743c1bb461111dcafc2a4'}  \n",
       "4  {'offer id': '4d5c57ea9a6940dd891ad53e9dbe8da0'}  "
      ]
     },
     "execution_count": 12,
     "metadata": {},
     "output_type": "execute_result"
    }
   ],
   "source": [
    "transcript.head()"
   ]
  },
  {
   "cell_type": "code",
   "execution_count": 13,
   "metadata": {
    "scrolled": true
   },
   "outputs": [
    {
     "data": {
      "text/html": [
       "<div>\n",
       "<style scoped>\n",
       "    .dataframe tbody tr th:only-of-type {\n",
       "        vertical-align: middle;\n",
       "    }\n",
       "\n",
       "    .dataframe tbody tr th {\n",
       "        vertical-align: top;\n",
       "    }\n",
       "\n",
       "    .dataframe thead th {\n",
       "        text-align: right;\n",
       "    }\n",
       "</style>\n",
       "<table border=\"1\" class=\"dataframe\">\n",
       "  <thead>\n",
       "    <tr style=\"text-align: right;\">\n",
       "      <th></th>\n",
       "      <th>event</th>\n",
       "      <th>person</th>\n",
       "      <th>time</th>\n",
       "      <th>value</th>\n",
       "    </tr>\n",
       "  </thead>\n",
       "  <tbody>\n",
       "    <tr>\n",
       "      <th>306529</th>\n",
       "      <td>transaction</td>\n",
       "      <td>b3a1272bc9904337b331bf348c3e8c17</td>\n",
       "      <td>714</td>\n",
       "      <td>{'amount': 1.5899999999999999}</td>\n",
       "    </tr>\n",
       "    <tr>\n",
       "      <th>306530</th>\n",
       "      <td>transaction</td>\n",
       "      <td>68213b08d99a4ae1b0dcb72aebd9aa35</td>\n",
       "      <td>714</td>\n",
       "      <td>{'amount': 9.53}</td>\n",
       "    </tr>\n",
       "    <tr>\n",
       "      <th>306531</th>\n",
       "      <td>transaction</td>\n",
       "      <td>a00058cf10334a308c68e7631c529907</td>\n",
       "      <td>714</td>\n",
       "      <td>{'amount': 3.61}</td>\n",
       "    </tr>\n",
       "    <tr>\n",
       "      <th>306532</th>\n",
       "      <td>transaction</td>\n",
       "      <td>76ddbd6576844afe811f1a3c0fbb5bec</td>\n",
       "      <td>714</td>\n",
       "      <td>{'amount': 3.5300000000000002}</td>\n",
       "    </tr>\n",
       "    <tr>\n",
       "      <th>306533</th>\n",
       "      <td>transaction</td>\n",
       "      <td>c02b10e8752c4d8e9b73f918558531f7</td>\n",
       "      <td>714</td>\n",
       "      <td>{'amount': 4.05}</td>\n",
       "    </tr>\n",
       "  </tbody>\n",
       "</table>\n",
       "</div>"
      ],
      "text/plain": [
       "              event                            person  time  \\\n",
       "306529  transaction  b3a1272bc9904337b331bf348c3e8c17   714   \n",
       "306530  transaction  68213b08d99a4ae1b0dcb72aebd9aa35   714   \n",
       "306531  transaction  a00058cf10334a308c68e7631c529907   714   \n",
       "306532  transaction  76ddbd6576844afe811f1a3c0fbb5bec   714   \n",
       "306533  transaction  c02b10e8752c4d8e9b73f918558531f7   714   \n",
       "\n",
       "                                 value  \n",
       "306529  {'amount': 1.5899999999999999}  \n",
       "306530                {'amount': 9.53}  \n",
       "306531                {'amount': 3.61}  \n",
       "306532  {'amount': 3.5300000000000002}  \n",
       "306533                {'amount': 4.05}  "
      ]
     },
     "execution_count": 13,
     "metadata": {},
     "output_type": "execute_result"
    }
   ],
   "source": [
    "# transcript value contains amount related to transaction, offer id and reward given \n",
    "transcript.tail(5)"
   ]
  },
  {
   "cell_type": "code",
   "execution_count": 14,
   "metadata": {},
   "outputs": [
    {
     "data": {
      "text/plain": [
       "{'offer id': '2298d6c36e964ae4a3e7e9706d1fb8c2'}                 14983\n",
       "{'offer id': 'fafdcd668e3743c1bb461111dcafc2a4'}                 14924\n",
       "{'offer id': '4d5c57ea9a6940dd891ad53e9dbe8da0'}                 14891\n",
       "{'offer id': 'f19421c1d4aa40978ebb69ca19b0e20d'}                 14835\n",
       "{'offer id': 'ae264e3637204a6fb9bb56bc8210ddfd'}                 14374\n",
       "{'offer id': '5a8bc65990b245e5a138643cd4eb9837'}                 14305\n",
       "{'offer id': '9b98b8c7a33c4b65b9aebfe6a799e6d9'}                 11848\n",
       "{'offer id': '3f207df678b143eea3cee63160fa8bed'}                 11761\n",
       "{'offer id': '2906b810c7d4411798c6938adc9daaa5'}                 11750\n",
       "{'offer id': '0b1e1539f2cc45b7b9fa7c272da2e1d7'}                 10331\n",
       "{'offer_id': 'fafdcd668e3743c1bb461111dcafc2a4', 'reward': 2}     5317\n",
       "{'offer_id': '2298d6c36e964ae4a3e7e9706d1fb8c2', 'reward': 3}     5156\n",
       "{'offer_id': '9b98b8c7a33c4b65b9aebfe6a799e6d9', 'reward': 5}     4354\n",
       "{'offer_id': 'f19421c1d4aa40978ebb69ca19b0e20d', 'reward': 5}     4296\n",
       "{'offer_id': '2906b810c7d4411798c6938adc9daaa5', 'reward': 2}     4017\n",
       "Name: value, dtype: int64"
      ]
     },
     "execution_count": 14,
     "metadata": {},
     "output_type": "execute_result"
    }
   ],
   "source": [
    "# let's check what value discitonary includes. \n",
    "transcript.value.value_counts().head(15)"
   ]
  },
  {
   "cell_type": "code",
   "execution_count": 15,
   "metadata": {},
   "outputs": [],
   "source": [
    "# cleaning function transcript\n",
    "# credit - https://stackoverflow.com/questions/58383927/convert-series-of-dict-and-concat-to-dataframe\n",
    "#https://stackoverflow.com/questions/38134012/pandas-dataframe-fillna-only-some-columns-in-place\n",
    "\n",
    "def transcript_clean(transcript):\n",
    "\n",
    "    \"\"\" \n",
    "    Clean, select and transform a DataFrame containing the records for transactions,\n",
    "    offer types : received, viewed, completed\n",
    "    INPUT:\n",
    "        transcript: DataFrame containing records of transaction, customer id, time and value\n",
    "                   each offer (duration, type, etc.)\n",
    "    OUTPUT:\n",
    "        transcript: clean and transformed transcript DataFrame\n",
    "    \"\"\"  \n",
    "    # value column contains disctionary with amount, reward and offer id \n",
    "    # it results in nan columns which we will clean later\n",
    "    transcript = pd.concat([transcript, transcript['value'].apply(pd.Series)], axis = 1)\n",
    "    \n",
    "    # we will delete offer id column , it contains duplicate/missing information from offer_id related to reward - \n",
    "    #we can fill that information from offer_id column - reward offer id\n",
    "    transcript['offer_id'].fillna(transcript['offer id'],inplace=True)\n",
    "    transcript.rename(columns={'person':'customer_id', 'reward':'reward_given'}, inplace =True)\n",
    "    \n",
    "    #convert number of days - time column to \n",
    "    transcript['time'] = round(transcript['time']/24).astype(int)\n",
    "    #transcript= pd.concat([transcript, pd.get_dummies(transcript['event'])], axis= 1)\n",
    "    transcript.drop(['value', 'offer id'], axis=1,inplace=True)\n",
    "\n",
    "    return transcript"
   ]
  },
  {
   "cell_type": "code",
   "execution_count": 16,
   "metadata": {},
   "outputs": [],
   "source": [
    "transcript_df=transcript_clean(transcript)"
   ]
  },
  {
   "cell_type": "code",
   "execution_count": 17,
   "metadata": {
    "scrolled": true
   },
   "outputs": [
    {
     "data": {
      "text/html": [
       "<div>\n",
       "<style scoped>\n",
       "    .dataframe tbody tr th:only-of-type {\n",
       "        vertical-align: middle;\n",
       "    }\n",
       "\n",
       "    .dataframe tbody tr th {\n",
       "        vertical-align: top;\n",
       "    }\n",
       "\n",
       "    .dataframe thead th {\n",
       "        text-align: right;\n",
       "    }\n",
       "</style>\n",
       "<table border=\"1\" class=\"dataframe\">\n",
       "  <thead>\n",
       "    <tr style=\"text-align: right;\">\n",
       "      <th></th>\n",
       "      <th>event</th>\n",
       "      <th>customer_id</th>\n",
       "      <th>time</th>\n",
       "      <th>amount</th>\n",
       "      <th>offer_id</th>\n",
       "      <th>reward_given</th>\n",
       "    </tr>\n",
       "  </thead>\n",
       "  <tbody>\n",
       "    <tr>\n",
       "      <th>0</th>\n",
       "      <td>offer received</td>\n",
       "      <td>78afa995795e4d85b5d9ceeca43f5fef</td>\n",
       "      <td>0</td>\n",
       "      <td>NaN</td>\n",
       "      <td>9b98b8c7a33c4b65b9aebfe6a799e6d9</td>\n",
       "      <td>NaN</td>\n",
       "    </tr>\n",
       "    <tr>\n",
       "      <th>1</th>\n",
       "      <td>offer received</td>\n",
       "      <td>a03223e636434f42ac4c3df47e8bac43</td>\n",
       "      <td>0</td>\n",
       "      <td>NaN</td>\n",
       "      <td>0b1e1539f2cc45b7b9fa7c272da2e1d7</td>\n",
       "      <td>NaN</td>\n",
       "    </tr>\n",
       "    <tr>\n",
       "      <th>2</th>\n",
       "      <td>offer received</td>\n",
       "      <td>e2127556f4f64592b11af22de27a7932</td>\n",
       "      <td>0</td>\n",
       "      <td>NaN</td>\n",
       "      <td>2906b810c7d4411798c6938adc9daaa5</td>\n",
       "      <td>NaN</td>\n",
       "    </tr>\n",
       "    <tr>\n",
       "      <th>3</th>\n",
       "      <td>offer received</td>\n",
       "      <td>8ec6ce2a7e7949b1bf142def7d0e0586</td>\n",
       "      <td>0</td>\n",
       "      <td>NaN</td>\n",
       "      <td>fafdcd668e3743c1bb461111dcafc2a4</td>\n",
       "      <td>NaN</td>\n",
       "    </tr>\n",
       "    <tr>\n",
       "      <th>4</th>\n",
       "      <td>offer received</td>\n",
       "      <td>68617ca6246f4fbc85e91a2a49552598</td>\n",
       "      <td>0</td>\n",
       "      <td>NaN</td>\n",
       "      <td>4d5c57ea9a6940dd891ad53e9dbe8da0</td>\n",
       "      <td>NaN</td>\n",
       "    </tr>\n",
       "  </tbody>\n",
       "</table>\n",
       "</div>"
      ],
      "text/plain": [
       "            event                       customer_id  time  amount  \\\n",
       "0  offer received  78afa995795e4d85b5d9ceeca43f5fef     0     NaN   \n",
       "1  offer received  a03223e636434f42ac4c3df47e8bac43     0     NaN   \n",
       "2  offer received  e2127556f4f64592b11af22de27a7932     0     NaN   \n",
       "3  offer received  8ec6ce2a7e7949b1bf142def7d0e0586     0     NaN   \n",
       "4  offer received  68617ca6246f4fbc85e91a2a49552598     0     NaN   \n",
       "\n",
       "                           offer_id  reward_given  \n",
       "0  9b98b8c7a33c4b65b9aebfe6a799e6d9           NaN  \n",
       "1  0b1e1539f2cc45b7b9fa7c272da2e1d7           NaN  \n",
       "2  2906b810c7d4411798c6938adc9daaa5           NaN  \n",
       "3  fafdcd668e3743c1bb461111dcafc2a4           NaN  \n",
       "4  4d5c57ea9a6940dd891ad53e9dbe8da0           NaN  "
      ]
     },
     "execution_count": 17,
     "metadata": {},
     "output_type": "execute_result"
    }
   ],
   "source": [
    "transcript_df.head()"
   ]
  },
  {
   "cell_type": "markdown",
   "metadata": {},
   "source": [
    "###  Summary of Transcript dataframe"
   ]
  },
  {
   "cell_type": "markdown",
   "metadata": {},
   "source": [
    "###  Missing Data analysis \n",
    "Rule of thumb, if there is less than 5% of missing data and features are not important then we can delete. However, We have almost 12.79% missing customers profile. It belongs to gender and income  columns. To further understand mising data : We will have a closer look at the transcript and profile combined dataframe. We can check that how it can affect overall segmentation analysis and offer predictions modeling. "
   ]
  },
  {
   "cell_type": "code",
   "execution_count": 18,
   "metadata": {
    "scrolled": true
   },
   "outputs": [],
   "source": [
    "profile.rename(columns={'id':'customer_id'}, inplace =True)\n",
    "#profile.drop(['reward_given', 'date_time id'], axis=1,inplace=True)\n",
    "df_merged=pd.merge(transcript_df,  profile_df, on='customer_id', how='left')\n",
    "df_temp=pd.merge(df_merged,  portfolio_df, on='offer_id', how='left')"
   ]
  },
  {
   "cell_type": "code",
   "execution_count": 19,
   "metadata": {},
   "outputs": [
    {
     "data": {
      "text/html": [
       "<div>\n",
       "<style scoped>\n",
       "    .dataframe tbody tr th:only-of-type {\n",
       "        vertical-align: middle;\n",
       "    }\n",
       "\n",
       "    .dataframe tbody tr th {\n",
       "        vertical-align: top;\n",
       "    }\n",
       "\n",
       "    .dataframe thead th {\n",
       "        text-align: right;\n",
       "    }\n",
       "</style>\n",
       "<table border=\"1\" class=\"dataframe\">\n",
       "  <thead>\n",
       "    <tr style=\"text-align: right;\">\n",
       "      <th></th>\n",
       "      <th>event</th>\n",
       "      <th>customer_id</th>\n",
       "      <th>time</th>\n",
       "      <th>amount</th>\n",
       "      <th>offer_id</th>\n",
       "      <th>reward_given</th>\n",
       "      <th>age</th>\n",
       "      <th>gender</th>\n",
       "      <th>income</th>\n",
       "      <th>membership_years</th>\n",
       "      <th>year</th>\n",
       "    </tr>\n",
       "  </thead>\n",
       "  <tbody>\n",
       "    <tr>\n",
       "      <th>0</th>\n",
       "      <td>offer received</td>\n",
       "      <td>78afa995795e4d85b5d9ceeca43f5fef</td>\n",
       "      <td>0</td>\n",
       "      <td>NaN</td>\n",
       "      <td>9b98b8c7a33c4b65b9aebfe6a799e6d9</td>\n",
       "      <td>NaN</td>\n",
       "      <td>75</td>\n",
       "      <td>F</td>\n",
       "      <td>100000.000000</td>\n",
       "      <td>3.0</td>\n",
       "      <td>2017</td>\n",
       "    </tr>\n",
       "    <tr>\n",
       "      <th>1</th>\n",
       "      <td>offer received</td>\n",
       "      <td>a03223e636434f42ac4c3df47e8bac43</td>\n",
       "      <td>0</td>\n",
       "      <td>NaN</td>\n",
       "      <td>0b1e1539f2cc45b7b9fa7c272da2e1d7</td>\n",
       "      <td>NaN</td>\n",
       "      <td>118</td>\n",
       "      <td>None</td>\n",
       "      <td>65404.991568</td>\n",
       "      <td>3.0</td>\n",
       "      <td>2017</td>\n",
       "    </tr>\n",
       "    <tr>\n",
       "      <th>2</th>\n",
       "      <td>offer received</td>\n",
       "      <td>e2127556f4f64592b11af22de27a7932</td>\n",
       "      <td>0</td>\n",
       "      <td>NaN</td>\n",
       "      <td>2906b810c7d4411798c6938adc9daaa5</td>\n",
       "      <td>NaN</td>\n",
       "      <td>68</td>\n",
       "      <td>M</td>\n",
       "      <td>70000.000000</td>\n",
       "      <td>2.0</td>\n",
       "      <td>2018</td>\n",
       "    </tr>\n",
       "    <tr>\n",
       "      <th>3</th>\n",
       "      <td>offer received</td>\n",
       "      <td>8ec6ce2a7e7949b1bf142def7d0e0586</td>\n",
       "      <td>0</td>\n",
       "      <td>NaN</td>\n",
       "      <td>fafdcd668e3743c1bb461111dcafc2a4</td>\n",
       "      <td>NaN</td>\n",
       "      <td>118</td>\n",
       "      <td>None</td>\n",
       "      <td>65404.991568</td>\n",
       "      <td>2.0</td>\n",
       "      <td>2017</td>\n",
       "    </tr>\n",
       "    <tr>\n",
       "      <th>4</th>\n",
       "      <td>offer received</td>\n",
       "      <td>68617ca6246f4fbc85e91a2a49552598</td>\n",
       "      <td>0</td>\n",
       "      <td>NaN</td>\n",
       "      <td>4d5c57ea9a6940dd891ad53e9dbe8da0</td>\n",
       "      <td>NaN</td>\n",
       "      <td>118</td>\n",
       "      <td>None</td>\n",
       "      <td>65404.991568</td>\n",
       "      <td>2.0</td>\n",
       "      <td>2017</td>\n",
       "    </tr>\n",
       "  </tbody>\n",
       "</table>\n",
       "</div>"
      ],
      "text/plain": [
       "            event                       customer_id  time  amount  \\\n",
       "0  offer received  78afa995795e4d85b5d9ceeca43f5fef     0     NaN   \n",
       "1  offer received  a03223e636434f42ac4c3df47e8bac43     0     NaN   \n",
       "2  offer received  e2127556f4f64592b11af22de27a7932     0     NaN   \n",
       "3  offer received  8ec6ce2a7e7949b1bf142def7d0e0586     0     NaN   \n",
       "4  offer received  68617ca6246f4fbc85e91a2a49552598     0     NaN   \n",
       "\n",
       "                           offer_id  reward_given  age gender         income  \\\n",
       "0  9b98b8c7a33c4b65b9aebfe6a799e6d9           NaN   75      F  100000.000000   \n",
       "1  0b1e1539f2cc45b7b9fa7c272da2e1d7           NaN  118   None   65404.991568   \n",
       "2  2906b810c7d4411798c6938adc9daaa5           NaN   68      M   70000.000000   \n",
       "3  fafdcd668e3743c1bb461111dcafc2a4           NaN  118   None   65404.991568   \n",
       "4  4d5c57ea9a6940dd891ad53e9dbe8da0           NaN  118   None   65404.991568   \n",
       "\n",
       "   membership_years  year  \n",
       "0               3.0  2017  \n",
       "1               3.0  2017  \n",
       "2               2.0  2018  \n",
       "3               2.0  2017  \n",
       "4               2.0  2017  "
      ]
     },
     "execution_count": 19,
     "metadata": {},
     "output_type": "execute_result"
    }
   ],
   "source": [
    "df_merged.head()"
   ]
  },
  {
   "cell_type": "code",
   "execution_count": 20,
   "metadata": {},
   "outputs": [
    {
     "name": "stdout",
     "output_type": "stream",
     "text": [
      "Missing offer completed data  due to missing  gender and age data\n",
      "3.3800887459424045\n"
     ]
    }
   ],
   "source": [
    "print('Missing offer completed data  due to missing  gender and age data')\n",
    "print(df_merged[(df_merged['gender'].isna())&(df_merged['event']=='offer completed')\n",
    "               ].customer_id.count()*100/df_merged[(df_merged['event']=='offer completed')].customer_id.count())   "
   ]
  },
  {
   "cell_type": "code",
   "execution_count": 21,
   "metadata": {
    "scrolled": true
   },
   "outputs": [
    {
     "name": "stdout",
     "output_type": "stream",
     "text": [
      "Missing data percentage in the profile dataset \n",
      "age                  0.000000\n",
      "gender              12.794118\n",
      "customer_id          0.000000\n",
      "income               0.000000\n",
      "membership_years     0.000000\n",
      "year                 0.000000\n",
      "dtype: float64\n"
     ]
    }
   ],
   "source": [
    "print('Missing data percentage in the profile dataset ')\n",
    "print(profile.isna().sum()*100/(profile.customer_id.count()))"
   ]
  },
  {
   "cell_type": "code",
   "execution_count": 22,
   "metadata": {},
   "outputs": [
    {
     "name": "stdout",
     "output_type": "stream",
     "text": [
      "Missing transaction related data due to missing gender and age data\n",
      "10.79213834893813\n"
     ]
    }
   ],
   "source": [
    "print('Missing transaction related data due to missing gender and age data')\n",
    "print(df_merged[(df_merged['gender'].isna())&(df_merged['event']=='transaction')\n",
    "               ].customer_id.count()*100/df_merged[(df_merged['event']=='transaction')].customer_id.count())   "
   ]
  },
  {
   "cell_type": "markdown",
   "metadata": {},
   "source": [
    "###  Missing Data Imputation\n",
    "We will impute age and gender values with mean and median values. \n"
   ]
  },
  {
   "cell_type": "code",
   "execution_count": 25,
   "metadata": {},
   "outputs": [],
   "source": [
    " # only gender and income column showed nan values. We will clean the data # dropped data comment\n",
    "# fill gender as unknown - other -O\n",
    "df_temp.gender.fillna('O', inplace =True)\n",
    "# we will replace age with mean\n",
    "mean_age=df_temp.age.mean\n",
    "df_temp['age'].replace(to_replace=[118], value=mean_age,inplace=True)\n",
    "    \n",
    "    "
   ]
  },
  {
   "cell_type": "markdown",
   "metadata": {},
   "source": [
    "### Exploratory Data Analysis (EDA)  "
   ]
  },
  {
   "cell_type": "markdown",
   "metadata": {},
   "source": [
    "### 1. Offer Type "
   ]
  },
  {
   "cell_type": "code",
   "execution_count": 53,
   "metadata": {
    "scrolled": false
   },
   "outputs": [
    {
     "data": {
      "image/png": "[encoded data removed]",
      "text/plain": [
       "<Figure size 432x288 with 1 Axes>"
      ]
     },
     "metadata": {
      "needs_background": "light"
     },
     "output_type": "display_data"
    },
    {
     "name": "stdout",
     "output_type": "stream",
     "text": [
      "event\n",
      "offer completed     33579\n",
      "offer received      76277\n",
      "offer viewed        57725\n",
      "transaction        138953\n",
      "Name: customer_id, dtype: int64 event            offer_type   \n",
      "offer completed  bogo             15669\n",
      "                 discount         17910\n",
      "offer received   bogo             30499\n",
      "                 discount         30543\n",
      "                 informational    15235\n",
      "offer viewed     bogo             25449\n",
      "                 discount         21445\n",
      "                 informational    10831\n",
      "Name: customer_id, dtype: int64\n"
     ]
    }
   ],
   "source": [
    "#Let's check different offer type and transactions event counts\n",
    "\n",
    "#Let's check offer type count by event\n",
    "df_temp.groupby(['event','offer_type'])['customer_id'].count().plot.bar()\n",
    "\n",
    "plt.xlabel('Event feature')\n",
    "plt.ylabel('Count')\n",
    "plt.title('Event count Distribution')\n",
    "plt.show()\n",
    "list1=df_temp.groupby(['event']).customer_id.count()\n",
    "list2=df_temp.groupby(['event','offer_type'])['customer_id'].count()\n",
    "print(list1,list2)"
   ]
  },
  {
   "cell_type": "code",
   "execution_count": 55,
   "metadata": {
    "scrolled": true
   },
   "outputs": [
    {
     "data": {
      "image/png": "[encoded data removed]",
      "text/plain": [
       "<Figure size 432x288 with 1 Axes>"
      ]
     },
     "metadata": {
      "needs_background": "light"
     },
     "output_type": "display_data"
    },
    {
     "name": "stdout",
     "output_type": "stream",
     "text": [
      "Offer completed transaction count  24.165725101293244  % from customer transactions\n",
      "and many customers recieved more than 4 offers.\n"
     ]
    }
   ],
   "source": [
    "#### Let's see hpw many offers recieved per customers\n",
    "\n",
    "df_temp[df_temp['event']=='offer received'].groupby('customer_id')['event'].count().hist()\n",
    "plt.xlabel('Number of offers received per customer')\n",
    "plt.ylabel('Count')\n",
    "plt.title('Counting number of Offer received by customer')\n",
    "plt.show()\n",
    "\n",
    "# we have not seperated informational offer transactions. \n",
    "print('Offer completed transaction count ',(df_temp[(df_temp['event']=='offer completed')].customer_id.count()*100/\n",
    "                                           df_temp[(df_temp['event']=='transaction')].event.count()),' % from customer transactions' )\n",
    "print('and many customers recieved more than 4 offers.')"
   ]
  },
  {
   "cell_type": "markdown",
   "metadata": {},
   "source": [
    "- ### Offer Type Analysis\n",
    "\n",
    "- Almost same number of bogo and discount offers were sent to the customers. \n",
    "- Bogo offer : More bogo offers were viewed as compared to dicount offers. However, bogo offer view rate is above 80% and bogo\n",
    "  offer completion rate is around 50%. \n",
    "- Discount offer : More discount offers were completed as compared to bogo offers. Discount offer view rate is around 85% and\n",
    "  offer completion rate is 58%\n",
    "- Informational offer - offer view rate is around 70%, We will calculate informational offer completion rate later. \n",
    "- Overall, offer completion rate 45% and offer view rate is 76%. We need to count informational offer related transaction later. and informational offer completion rate. \n",
    "- 45% transaction data and 24% offer related transaction data. "
   ]
  },
  {
   "cell_type": "code",
   "execution_count": null,
   "metadata": {},
   "outputs": [],
   "source": [
    "# Starbuck has more male customers. membership year and gender plot "
   ]
  },
  {
   "cell_type": "code",
   "execution_count": null,
   "metadata": {},
   "outputs": [],
   "source": [
    "df_merged.head()"
   ]
  },
  {
   "cell_type": "code",
   "execution_count": null,
   "metadata": {},
   "outputs": [],
   "source": [
    "import seaborn as sns\n",
    "#df_merged.groupby('membership_years')['gender'].count().plot.bar()\n",
    "#import seaborn as sns\n",
    "#sns.barplot(x=df_temp.gender.value_counts().index, y=df_temp.membership_years.value_counts())\n",
    "\n",
    "sns.countplot(x='membership_years', hue=\"gender\", data=df_merged)"
   ]
  },
  {
   "cell_type": "code",
   "execution_count": null,
   "metadata": {
    "scrolled": true
   },
   "outputs": [],
   "source": [
    "sns.countplot(x='year', hue=\"gender\", data=df_merged)"
   ]
  },
  {
   "cell_type": "code",
   "execution_count": null,
   "metadata": {},
   "outputs": [],
   "source": [
    "# Let's check how many rewards are given overall \n",
    "#df_temp.groupby('offer_type')['reward_given'].count().plot.bar()"
   ]
  },
  {
   "cell_type": "markdown",
   "metadata": {},
   "source": [
    "## Part II\n",
    "  scaling, and feature engineering. \n"
   ]
  },
  {
   "cell_type": "markdown",
   "metadata": {},
   "source": [
    "offer_completion_rate = Number of completed offers trasaction / Number of offers sent (all offers sum)\n",
    "# Lets check how many offer related transaction\n",
    "54% of data will be used to charecterize demographic#http://fluidsurveys.com/university/difference-response-rate-completion-rate/\n",
    "# offer completion rate \n",
    "#df_temp2['offer_completion_rate'] ="
   ]
  },
  {
   "cell_type": "code",
   "execution_count": null,
   "metadata": {
    "scrolled": true
   },
   "outputs": [],
   "source": [
    "df_merged.head()"
   ]
  },
  {
   "cell_type": "code",
   "execution_count": null,
   "metadata": {},
   "outputs": [],
   "source": [
    "df_merged.columns"
   ]
  },
  {
   "cell_type": "code",
   "execution_count": null,
   "metadata": {},
   "outputs": [],
   "source": [
    "df_merged=df_merged.merge(portfolio_df, on='offer_id', how='left')\n",
    "\n",
    "# sort by 'customer_id','offer_id','time'\n",
    "df_merged.sort_values(by=['customer_id','offer_id','time'], inplace=True)\n",
    "\n",
    "# rearrange columns\n",
    "df_merged = df_merged[['customer_id', 'offer_id', 'time', 'event', 'amount', 'reward_given', \\\n",
    "                     'difficulty', 'duration', 'offer_type', 'reward_offered','age', 'gender', 'income', 'membership_years', 'year']]\n",
    "\n",
    "# rename columns\n",
    "#df_merged.columns = ['customer_id', 'offer_id', 'time', 'event', 'amount', 'reward_given', \\\n",
    "                     #'difficulty', 'duration', 'offer_type', 'reward_offered']\n",
    "# Create a copy\n",
    "df_temp = df_merged.copy()"
   ]
  },
  {
   "cell_type": "code",
   "execution_count": null,
   "metadata": {
    "scrolled": false
   },
   "outputs": [],
   "source": [
    "df_temp.head()"
   ]
  },
  {
   "cell_type": "code",
   "execution_count": null,
   "metadata": {},
   "outputs": [],
   "source": [
    "df_temp['offer_success'] = 0\n",
    "\n",
    "df_temp.loc[( ((df_temp.offer_type=='discount') | (df_temp.offer_type=='bogo' ))\\\n",
    "        &( df_temp.customer_id==df_temp.customer_id.shift(1) )\\\n",
    "        &( df_temp.offer_id==df_temp.offer_id.shift(1) )\\\n",
    "        &( df_temp.offer_type==df_temp.offer_type.shift(1) )\\\n",
    "        &( df_temp.customer_id==df_temp.customer_id.shift(2) )\\\n",
    "        &( df_temp.offer_id==df_temp.offer_id.shift(2) )\\\n",
    "        &( df_temp.offer_type==df_temp.offer_type.shift(2) )\\\n",
    "        &( df_temp.event=='offer completed' )\\\n",
    "        &( df_temp.event.shift(1)=='offer viewed')\\\n",
    "        &( df_temp.event.shift(2)=='offer received' )\\\n",
    "        &( (df_temp.time-df_temp.time.shift(1)) <= df_temp.duration )\\\n",
    "        &( (df_temp.time-df_temp.time.shift(2)) <= df_temp.duration )\\\n",
    "        &( (df_temp.time-df_temp.time.shift(1)) >=0 )\\\n",
    "        &( (df_temp.time-df_temp.time.shift(2)) >=0 ) \\\n",
    "       ), 'offer_success'] = 1"
   ]
  },
  {
   "cell_type": "code",
   "execution_count": null,
   "metadata": {},
   "outputs": [],
   "source": [
    "df_temp.loc[( (df_temp.offer_type=='informational')\\\n",
    "        &( df_temp.customer_id==df_temp.customer_id.shift(1) )\\\n",
    "        &( df_temp.offer_id==df_temp.offer_id.shift(1) )\\\n",
    "        &( df_temp.offer_type==df_temp.offer_type.shift(1) )\\\n",
    "        &( df_temp.event=='offer viewed' )\\\n",
    "        &( df_temp.event.shift(1)=='offer received')\\\n",
    "        &( (df_temp.time-df_temp.time.shift(1)) <= df_temp.duration )\\\n",
    "        &( (df_temp.time-df_temp.time.shift(1)) >=0 )\\\n",
    "#         &( (df.time-df.time.shift(2)) >=0 ) \\\n",
    "       ), 'offer_success'] = 1"
   ]
  },
  {
   "cell_type": "code",
   "execution_count": null,
   "metadata": {},
   "outputs": [],
   "source": [
    "df_temp['offer_completed_informational']=0\n",
    "offer_completed_informational =df_temp.loc[( (df_temp.offer_type=='informational')\\\n",
    "        &( df_temp.customer_id==df_temp.customer_id.shift(1) )\\\n",
    "        &( df_temp.offer_id==df_temp.offer_id.shift(1) )\\\n",
    "        &( df_temp.offer_type==df_temp.offer_type.shift(1) )\\\n",
    "        &( df_temp.event=='offer viewed' )\\\n",
    "        &( df_temp.event.shift(1)=='offer received')\\\n",
    "        &( (df_temp.time-df_temp.time.shift(1)) <= df_temp.duration )\\\n",
    "        &( (df_temp.time-df_temp.time.shift(1)) >=0 )\\\n",
    "#         &( (df.time-df.time.shift(2)) >=0 ) \\\n",
    "       ), 'offer_completed_informational'] = 1"
   ]
  },
  {
   "cell_type": "code",
   "execution_count": null,
   "metadata": {
    "scrolled": false
   },
   "outputs": [],
   "source": [
    "df_temp.head()"
   ]
  },
  {
   "cell_type": "code",
   "execution_count": null,
   "metadata": {},
   "outputs": [],
   "source": [
    "#count ho many offers viewed by each customer\n",
    "offer_viewed =df_temp[df_temp['event']=='offer viewed'].groupby('customer_id').offer_type.value_counts().unstack()\n",
    "offer_viewed.reset_index(drop=False,inplace=True)\n",
    "offer_viewed=offer_viewed.fillna(0)\n",
    "offer_viewed['total_offer_viewed'] = offer_viewed['bogo'] + offer_viewed['discount']+offer_viewed['informational']\n",
    "offer_viewed['total_off_viewed_bo+dis'] = offer_viewed['bogo'] + offer_viewed['discount']\n",
    "offer_viewed['total_off_viewed_informational'] = offer_viewed['total_offer_viewed']-offer_viewed['total_off_viewed_bo+dis'] \n",
    "offer_viewed.rename(columns={'bogo':'offer_viewed_bogo', 'discount':'offer_viewed_discount',\n",
    "                                    'informational': 'offer_viewed_informational'},inplace =True)"
   ]
  },
  {
   "cell_type": "code",
   "execution_count": null,
   "metadata": {},
   "outputs": [],
   "source": [
    "offer_viewed.head()"
   ]
  },
  {
   "cell_type": "code",
   "execution_count": null,
   "metadata": {},
   "outputs": [],
   "source": [
    "# calculate total transaction amount for each customer.\n",
    "total_transaction_amount=df_temp.groupby(['customer_id'], as_index=False).amount.sum()\n",
    "total_transaction_amount.rename(columns={'amount':'total_transaction_amount'},inplace=True)\n",
    "# calculate total transaction count for each customer\n",
    "total_transaction_count=df_temp[df_temp['event']=='transaction'].groupby('customer_id').event.count().to_frame().reset_index()\n",
    "total_transaction_count.rename(columns={'event':'total_transaction_count'},inplace=True)\n",
    "#calculate total reward given to each customer\n",
    "total_reward_given = df_temp.groupby('customer_id').reward_given.sum().to_frame().reset_index()\n",
    "total_reward_given.rename(columns={'reward_given':'total_reward_given'},inplace=True)\n",
    "#offer_difficulty=df_temp[df_temp['event']=='offer completed'].groupby(['customer_id'], as_index=False).difficulty.mean()\n",
    "\n",
    "\n",
    "#total_transaction_amount=df_temp.groupby('customer_id').amount.sum().to_frame().reset_index()\n",
    "\n",
    "#difficulty=df_temp.groupby('customer_id').amount.sum().to_frame().reset_index()\n",
    "# calculate total offer related transaction count \n",
    "#temp4=df_temp[(transcript_dummy['transaction']==1)&((transcript_dummy['offer completed']==1))].groupby('customer_id').event.count().to_frame().reset_index()\n",
    "#temp4.rename(columns={'event':'total_transaction_count'},inplace=True)"
   ]
  },
  {
   "cell_type": "code",
   "execution_count": null,
   "metadata": {},
   "outputs": [],
   "source": [
    "offer_difficulty=df_temp[df_temp['event']=='offer completed'].groupby(['customer_id'], as_index=False).difficulty.mean()"
   ]
  },
  {
   "cell_type": "code",
   "execution_count": null,
   "metadata": {},
   "outputs": [],
   "source": [
    "offer_difficulty.head()"
   ]
  },
  {
   "cell_type": "code",
   "execution_count": null,
   "metadata": {},
   "outputs": [],
   "source": [
    "print(len(df_temp.groupby(['customer_id'], as_index=False).amount.sum()))"
   ]
  },
  {
   "cell_type": "code",
   "execution_count": null,
   "metadata": {},
   "outputs": [],
   "source": [
    "offer_success=df_temp.groupby('customer_id').offer_success.sum().to_frame().reset_index()"
   ]
  },
  {
   "cell_type": "code",
   "execution_count": null,
   "metadata": {},
   "outputs": [],
   "source": [
    "df_temp.head()"
   ]
  },
  {
   "cell_type": "code",
   "execution_count": null,
   "metadata": {},
   "outputs": [],
   "source": [
    "#count offer completed by each customer\n",
    "offer_completed =df_temp[df_temp['event']=='offer completed'].groupby('customer_id').offer_type.value_counts().unstack()\n",
    "offer_completed.reset_index(drop=False,inplace=True)\n",
    "offer_completed=offer_completed.fillna(0)\n",
    "offer_completed.rename_axis(None, axis=1,inplace =True)\n",
    "offer_completed['total_offer_completed'] = offer_completed['bogo'] + offer_completed['discount']\n",
    "offer_completed.rename(columns={'bogo':'offer_completed_bogo', 'discount':'offer_completed_discount'}, inplace =True)\n",
    "offer_completed['reward_received'] = df_temp['reward_given'] - df_temp['difficulty']\n",
    "#offer_completed['offer_difficulty'] = df_temp[df_temp['event']=='offer completed'].groupby('customer_id').offer_type.value_counts().unstack()\n",
    "\n"
   ]
  },
  {
   "cell_type": "code",
   "execution_count": null,
   "metadata": {},
   "outputs": [],
   "source": [
    "\n",
    "df_temp[df_temp['event']=='offer completed'].groupby('customer_id').difficulty\n",
    "\n"
   ]
  },
  {
   "cell_type": "code",
   "execution_count": null,
   "metadata": {},
   "outputs": [],
   "source": [
    "# count informational offer completed by each customer\n",
    "offer_informational_completed =df_temp[df_temp['offer_completed_informational']==1].groupby('customer_id').offer_type.value_counts().unstack()\n",
    "offer_informational_completed.reset_index(drop=False,inplace=True)\n",
    "offer_informational_completed=offer_informational_completed.fillna(0)\n",
    "offer_informational_completed.rename_axis(None, axis=1,inplace =True)\n",
    "offer_informational_completed.rename(columns={'informational':'offer_completed_informational'}, inplace =True)"
   ]
  },
  {
   "cell_type": "code",
   "execution_count": null,
   "metadata": {},
   "outputs": [],
   "source": [
    "# count bogo, discount and informational  offer received by customer\n",
    "offer_received = df_temp[df_temp['event']=='offer received'].groupby('customer_id').offer_type.value_counts().unstack()\n",
    "offer_received.reset_index(drop=False,inplace=True)\n",
    "offer_received=offer_received.fillna(0)\n",
    "offer_received.rename_axis(None, axis=1,inplace =True)\n",
    "offer_received['total_offer_recieved'] = offer_received['bogo'] + offer_received['discount']+offer_received['informational']\n",
    "offer_received['total_off_recev_bo_dis'] = offer_received['bogo'] + offer_received['discount']\n",
    "\n",
    "\n",
    "offer_received.rename(columns={'bogo':'offer_recieved_bogo', 'discount':'offer_recieved_discount',\n",
    "                                    'informational': 'offer_recieved_informational'},inplace =True)"
   ]
  },
  {
   "cell_type": "code",
   "execution_count": null,
   "metadata": {},
   "outputs": [],
   "source": [
    "print(total_transaction_amount.isna().sum())\n",
    "print(total_transaction_count.isna().sum())\n",
    "print(total_reward_given.isna().sum())\n",
    "print(offer_success.isna().sum())"
   ]
  },
  {
   "cell_type": "code",
   "execution_count": null,
   "metadata": {},
   "outputs": [],
   "source": []
  },
  {
   "cell_type": "code",
   "execution_count": null,
   "metadata": {},
   "outputs": [],
   "source": [
    "portfolio_df.head()"
   ]
  },
  {
   "cell_type": "code",
   "execution_count": null,
   "metadata": {},
   "outputs": [],
   "source": [
    "from functools import reduce\n",
    "demographic_df=reduce(lambda x,y: pd.merge(x,y, on='customer_id', how='outer'),\n",
    "                      [offer_received,offer_viewed,offer_completed,offer_informational_completed, total_transaction_amount,\n",
    "                       total_transaction_count,total_reward_given,offer_success,offer_difficulty])"
   ]
  },
  {
   "cell_type": "code",
   "execution_count": null,
   "metadata": {},
   "outputs": [],
   "source": [
    "demographic_df.count()\n"
   ]
  },
  {
   "cell_type": "code",
   "execution_count": null,
   "metadata": {
    "scrolled": true
   },
   "outputs": [],
   "source": [
    "df_temp.head()"
   ]
  },
  {
   "cell_type": "code",
   "execution_count": null,
   "metadata": {},
   "outputs": [],
   "source": [
    "demographic_df.columns"
   ]
  },
  {
   "cell_type": "code",
   "execution_count": null,
   "metadata": {},
   "outputs": [],
   "source": [
    "# transaction only customers - i.e. transaction occured without offer\n",
    "demographic_df['transaction_onlycustomers'] = np.where((demographic_df['total_offer_completed'].isnull()&demographic_df['offer_viewed_informational'].isnull()), 1, 0)\n",
    "# offer view rate - all type of offer sent and viewed to check how much effective \n",
    "demographic_df['offer_view_rate']= demographic_df['total_offer_viewed']/demographic_df['total_offer_recieved']\n",
    "# how\n",
    "demographic_df['offer_completion_rate']=demographic_df['total_offer_completed']/demographic_df['total_off_recev_bo_dis']\n",
    "#\n",
    "demographic_df['bogo_completion_rate']=demographic_df['offer_completed_bogo']/demographic_df['offer_recieved_bogo']\n",
    "#\n",
    "demographic_df['discount_completion_rate']=demographic_df['offer_completed_discount']/demographic_df['offer_recieved_discount']\n",
    "# informational offer completion rate - if transaction followed by informational offer\n",
    "demographic_df['informational_view_rate']=demographic_df['offer_viewed_informational']/demographic_df['offer_recieved_informational']\n",
    "# we will calculate total_offer_completion_rate after we obtaine informational offer \n",
    "demographic_df['informational_completion_rate']=demographic_df['offer_completed_informational']/demographic_df['offer_recieved_informational']"
   ]
  },
  {
   "cell_type": "code",
   "execution_count": null,
   "metadata": {
    "scrolled": true
   },
   "outputs": [],
   "source": [
    "demographic_df.isna().sum()"
   ]
  },
  {
   "cell_type": "code",
   "execution_count": null,
   "metadata": {},
   "outputs": [],
   "source": [
    "demographic_df.fillna(0, inplace=True)"
   ]
  },
  {
   "cell_type": "code",
   "execution_count": null,
   "metadata": {},
   "outputs": [],
   "source": [
    "#df_temp[df_temp['customer_id'].str.match('0020ccbbb6d84e358d3414a3ff76cffd')]\n",
    "\n"
   ]
  },
  {
   "cell_type": "code",
   "execution_count": null,
   "metadata": {},
   "outputs": [],
   "source": [
    "demographic_df.isna().sum()"
   ]
  },
  {
   "cell_type": "code",
   "execution_count": null,
   "metadata": {},
   "outputs": [],
   "source": [
    "print(transcript_df.groupby(['event']).customer_id.count())"
   ]
  },
  {
   "cell_type": "code",
   "execution_count": null,
   "metadata": {},
   "outputs": [],
   "source": [
    "print(df_temp.groupby(['customer_id']).offer_type.count().sum())"
   ]
  },
  {
   "cell_type": "code",
   "execution_count": null,
   "metadata": {},
   "outputs": [],
   "source": [
    "71717+69898+26066"
   ]
  },
  {
   "cell_type": "code",
   "execution_count": null,
   "metadata": {},
   "outputs": [],
   "source": [
    "print(demographic_df.groupby(['customer_id']).offer_completed_bogo.count().sum())       \n",
    "\n",
    "    "
   ]
  },
  {
   "cell_type": "code",
   "execution_count": null,
   "metadata": {},
   "outputs": [],
   "source": [
    "print(demographic_df.groupby(['customer_id']).total_offer_completed.count().sum())"
   ]
  },
  {
   "cell_type": "code",
   "execution_count": null,
   "metadata": {},
   "outputs": [],
   "source": [
    "print(demographic_df.groupby(['offer_completed_informational']).customer_id.count().sum())"
   ]
  },
  {
   "cell_type": "code",
   "execution_count": null,
   "metadata": {},
   "outputs": [],
   "source": [
    "46632+30030"
   ]
  },
  {
   "cell_type": "code",
   "execution_count": null,
   "metadata": {},
   "outputs": [],
   "source": [
    "46632-33579"
   ]
  },
  {
   "cell_type": "code",
   "execution_count": null,
   "metadata": {},
   "outputs": [],
   "source": [
    "demographic_df.total_transaction_count.isna().count()"
   ]
  },
  {
   "cell_type": "code",
   "execution_count": null,
   "metadata": {
    "scrolled": false
   },
   "outputs": [],
   "source": [
    "demographic_df.fillna(0).head()"
   ]
  },
  {
   "cell_type": "code",
   "execution_count": null,
   "metadata": {},
   "outputs": [],
   "source": [
    "profile_df['gender'].map({'M':1, 'F':2, 'O':3, 'U':4}).head()"
   ]
  },
  {
   "cell_type": "code",
   "execution_count": null,
   "metadata": {},
   "outputs": [],
   "source": [
    "final_customer_df= pd.merge(demographic_df, profile_df, on= 'customer_id', how='left')\n",
    "\n",
    "final_customer_df= pd.concat([final_customer_df, pd.get_dummies(final_customer_df['gender'])], axis= 1)\n",
    "\n",
    "final_customer_df['income']=final_customer_df['income'].astype(int, inplace=True)\n",
    "\n",
    "final_customer_df['gender']=final_customer_df['gender'].map({'M':1, 'F':2, 'O':3, 'U':4})\n",
    "final_customer_df.fillna(0, inplace=True)"
   ]
  },
  {
   "cell_type": "code",
   "execution_count": null,
   "metadata": {
    "scrolled": false
   },
   "outputs": [],
   "source": [
    "final_customer_df.head()"
   ]
  },
  {
   "cell_type": "code",
   "execution_count": null,
   "metadata": {},
   "outputs": [],
   "source": [
    "final_customer_df.columns"
   ]
  },
  {
   "cell_type": "code",
   "execution_count": null,
   "metadata": {},
   "outputs": [],
   "source": []
  },
  {
   "cell_type": "code",
   "execution_count": null,
   "metadata": {},
   "outputs": [],
   "source": [
    "#g=sns.countplot(x='year', hue=\"total_transaction_count\", data=final_customer_df)\n",
    "\n"
   ]
  },
  {
   "cell_type": "code",
   "execution_count": null,
   "metadata": {
    "scrolled": true
   },
   "outputs": [],
   "source": [
    "final_customer_df.columns"
   ]
  },
  {
   "cell_type": "code",
   "execution_count": null,
   "metadata": {},
   "outputs": [],
   "source": [
    "bins = [20, 30, 40, 50, 60, 70, 90,100]\n",
    "labels =  ['18-25','26-35','36-45','46-55','56-75','75-90','90+']\n",
    "final_customer_df['age_range'] = pd.cut(final_customer_df.age, bins, labels = labels,include_lowest = True)\n",
    "\n",
    "df_gp_1 = final_customer_df[['customer_id', 'income']].groupby('customer_id').agg(np.mean).reset_index()\n",
    "df_gp_2 = final_customer_df[['customer_id', 'gender', 'age_range']].groupby('customer_id').agg(max).reset_index()\n",
    "df_gp = pd.merge(df_gp_1, df_gp_2, on = ['customer_id'])\n",
    "freq = ((df_gp.age_range.value_counts(normalize = True).reset_index().sort_values(by = 'index').age_range)*100).tolist()\n",
    "freq"
   ]
  },
  {
   "cell_type": "code",
   "execution_count": null,
   "metadata": {},
   "outputs": [],
   "source": [
    "pd.crosstab(final_customer_df['year'],final_customer_df['gender']).plot.bar()"
   ]
  },
  {
   "cell_type": "code",
   "execution_count": null,
   "metadata": {},
   "outputs": [],
   "source": [
    "#https://stackoverflow.com/questions/45299305/how-to-plot-pandas-groupby-values-in-a-graph\n",
    "    \n",
    "pd.crosstab(final_customer_df['gender'],final_customer_df['membership_years']).plot.bar()"
   ]
  },
  {
   "cell_type": "markdown",
   "metadata": {},
   "source": [
    "#### profile data analysis"
   ]
  },
  {
   "cell_type": "markdown",
   "metadata": {},
   "source": [
    "Female "
   ]
  },
  {
   "cell_type": "markdown",
   "metadata": {},
   "source": [
    "We can see that salary range "
   ]
  },
  {
   "cell_type": "code",
   "execution_count": null,
   "metadata": {},
   "outputs": [],
   "source": [
    "in30K_50K = final_customer_df['income'][(final_customer_df['income'] >= 30000) & (final_customer_df['income'] <= 50000)]\n",
    "in51K_70K = final_customer_df['income'][(final_customer_df['income'] >= 50001) & (final_customer_df['income'] <= 70000)]\n",
    "in71K_90K = final_customer_df['income'][(final_customer_df['income'] >= 70001) & (final_customer_df['income'] <= 90000)]\n",
    "in91K_120K = final_customer_df['income'][(final_customer_df['income'] >= 90001) & (final_customer_df['income'] <= 120000)]\n",
    "\n",
    "\n",
    "income_range = [ \"$30K_50K\", \"$51K_70K\", \"$71K_90K\", \"$91K_120K\"]\n",
    "frequency = [len(in30K_50K.values), len(in51K_70K.values), len(in71K_90K.values), len(in91K_120K.values)]\n",
    "\n",
    "plt.figure(figsize=(5,5))\n",
    "sns.barplot(x=income_range, y=frequency)\n",
    "plt.title(\"Annual Incomes\")\n",
    "plt.xlabel(\"Income (k$)\")\n",
    "plt.ylabel(\"Number of Customer\")\n",
    "plt.show()"
   ]
  },
  {
   "cell_type": "code",
   "execution_count": null,
   "metadata": {
    "scrolled": true
   },
   "outputs": [],
   "source": [
    "import seaborn as sns\n",
    "#https://github.com/cdabakoglu/data-science/blob/master/Mall_Customers_KMeans/Mall_Customers_KMeans.ipynb\n",
    "age18_25 = final_customer_df.age[(final_customer_df.age <= 25) & (final_customer_df.age >= 18)]\n",
    "age26_35 = final_customer_df.age[(final_customer_df.age <= 35) & (final_customer_df.age >= 26)]\n",
    "age36_45 = final_customer_df.age[(final_customer_df.age <= 45) & (final_customer_df.age >= 36)]\n",
    "age46_55 = final_customer_df.age[(final_customer_df.age <= 55) & (final_customer_df.age >= 46)]\n",
    "age56_75 = final_customer_df.age[(final_customer_df.age <= 75) & (final_customer_df.age >= 56)]\n",
    "age76_90 = final_customer_df.age[(final_customer_df.age <= 90) & (final_customer_df.age >= 76)]\n",
    "age90above = final_customer_df.age[final_customer_df.age >= 91]\n",
    "age_range= ['18-25','26-35','36-45','46-55','56-75','76-90','90+']\n",
    "count = [len(age18_25.values),len(age26_35.values),len(age36_45.values),len(age46_55.values),\n",
    "         len(age56_75.values),len(age76_90.values),len(age90above.values)]\n",
    "\n",
    "plt.figure(figsize=(5,5))\n",
    "sns.barplot(x=age_range, y=count)\n",
    "plt.title(\"Customer Age Frequecy\")\n",
    "plt.xlabel(\"Age\")\n",
    "plt.ylabel(\"Number of Customers\")\n",
    "plt.show()"
   ]
  },
  {
   "cell_type": "code",
   "execution_count": null,
   "metadata": {
    "scrolled": true
   },
   "outputs": [],
   "source": [
    "final_customer_df.head()"
   ]
  },
  {
   "cell_type": "code",
   "execution_count": null,
   "metadata": {},
   "outputs": [],
   "source": [
    "offer_completion = final_customer_df.groupby('gender', as_index = False).agg({'offer_completion_rate': 'mean'})\n",
    "offer_completion"
   ]
  },
  {
   "cell_type": "code",
   "execution_count": null,
   "metadata": {},
   "outputs": [],
   "source": [
    "offer_completion = final_customer_df.groupby('gender', as_index = False).agg({'offer_completion_rate': 'mean'})\n",
    "plt.bar(offer_completion.gender.tolist(), offer_completion.offer_completion_rate.tolist())\n",
    "plt.title('Percentage of Offer Completed by Gender')\n",
    "plt.xlabel('Gender')\n",
    "plt.ylabel('Offer Completion Rate by Gender')\n",
    "plt.show();"
   ]
  },
  {
   "cell_type": "code",
   "execution_count": null,
   "metadata": {},
   "outputs": [],
   "source": [
    "#total_transaction = final_customer_df.groupby('gender', as_index = False).agg({'total_transaction_count': 'mean'})\n",
    "plt.bar(final_customer_df.gender, final_customer_df.total_transaction_count)\n",
    "plt.title('Total transaction count by Gender')\n",
    "plt.xlabel('Gender')\n",
    "plt.ylabel('total_transaction_count by Gender')\n",
    "plt.show();"
   ]
  },
  {
   "cell_type": "code",
   "execution_count": null,
   "metadata": {},
   "outputs": [],
   "source": [
    "#total_transaction = final_customer_df.groupby('gender', as_index = False).agg({'total_transaction_count': 'mean'})\n",
    "plt.bar(final_customer_df.gender, final_customer_df.offer_success)\n",
    "plt.title('Successful offer count by Gender')\n",
    "plt.xlabel('Gender')\n",
    "plt.ylabel('Offer success count')\n",
    "plt.show();"
   ]
  },
  {
   "cell_type": "code",
   "execution_count": null,
   "metadata": {},
   "outputs": [],
   "source": [
    "#total_transaction = final_customer_df.groupby('gender', as_index = False).agg({'total_transaction_count': 'mean'})\n",
    "plt.bar(final_customer_df.gender, final_customer_df.income)\n",
    "plt.title('Percentage of Offer Completed by Gender')\n",
    "plt.xlabel('Gender')\n",
    "plt.ylabel('Income')\n",
    "plt.show();"
   ]
  },
  {
   "cell_type": "markdown",
   "metadata": {},
   "source": [
    "Overall startbucks promotional offer effectiveness "
   ]
  },
  {
   "cell_type": "markdown",
   "metadata": {},
   "source": [
    "# Let's confirm the values from demographic dataframe"
   ]
  },
  {
   "cell_type": "code",
   "execution_count": null,
   "metadata": {},
   "outputs": [],
   "source": [
    "demographic_df[demographic_df['customer_id'].str.match('0009655768c64bdeb2e877511632db8f')]\n"
   ]
  },
  {
   "cell_type": "code",
   "execution_count": null,
   "metadata": {},
   "outputs": [],
   "source": [
    "final_customer_df[final_customer_df['customer_id'].str.match('12ede229379747bd8d74ccdc20097ca3')]"
   ]
  },
  {
   "cell_type": "code",
   "execution_count": null,
   "metadata": {},
   "outputs": [],
   "source": [
    "len(final_customer_df)"
   ]
  },
  {
   "cell_type": "code",
   "execution_count": null,
   "metadata": {},
   "outputs": [],
   "source": [
    "final_customer_df[final_customer_df.duplicated(['customer_id'], keep=False)]"
   ]
  },
  {
   "cell_type": "code",
   "execution_count": null,
   "metadata": {},
   "outputs": [],
   "source": [
    "demographic_df[demographic_df['customer_id'].str.match('8dbfa485249f409aa223a2130f40634a')]"
   ]
  },
  {
   "cell_type": "code",
   "execution_count": null,
   "metadata": {},
   "outputs": [],
   "source": [
    "profile_df[profile_df['customer_id'].str.match('8dbfa485249f409aa223a2130f40634a')]"
   ]
  },
  {
   "cell_type": "code",
   "execution_count": null,
   "metadata": {},
   "outputs": [],
   "source": [
    "df_temp[df_temp['customer_id'].str.match('8dbfa485249f409aa223a2130f40634a')].head()\n",
    "\n"
   ]
  },
  {
   "cell_type": "code",
   "execution_count": null,
   "metadata": {},
   "outputs": [],
   "source": [
    "profile_df[profile_df['customer_id'].str.match('eb540099db834cf59001f83a4561aef3')]"
   ]
  },
  {
   "cell_type": "code",
   "execution_count": null,
   "metadata": {},
   "outputs": [],
   "source": [
    "df_temp[df_temp['customer_id'].str.match('0020ccbbb6d84e358d3414a3ff76cffd')]\n",
    "\n"
   ]
  },
  {
   "cell_type": "code",
   "execution_count": null,
   "metadata": {},
   "outputs": [],
   "source": [
    "df_temp[df_temp['customer_id'].str.match('12ede229379747bd8d74ccdc20097ca3')]\n",
    "\n"
   ]
  },
  {
   "cell_type": "code",
   "execution_count": null,
   "metadata": {},
   "outputs": [],
   "source": [
    "df_temp.offer_id.isna().sum()"
   ]
  },
  {
   "cell_type": "code",
   "execution_count": null,
   "metadata": {},
   "outputs": [],
   "source": [
    "final_customer_df.head()"
   ]
  },
  {
   "cell_type": "code",
   "execution_count": null,
   "metadata": {},
   "outputs": [],
   "source": [
    "final_customer_df.tail()"
   ]
  },
  {
   "cell_type": "code",
   "execution_count": null,
   "metadata": {},
   "outputs": [],
   "source": [
    "final_customer_df.offer_success.value_counts()"
   ]
  },
  {
   "cell_type": "markdown",
   "metadata": {},
   "source": [
    "- Offer receive ---> offer completed  (unsuccessful offer)\n",
    "- offer reeived---offer viwed --- trasaction --offer completed (successful offer)\n",
    "- offer received --- offer viewed --(unsuccessful offer)\n",
    "- trasaction - no reward and no offer id (transaction customer)\n",
    "- offer received- offer completed -- trasaction --offer viewed (unsuccessful offer)\n",
    "\n",
    "\n"
   ]
  },
  {
   "cell_type": "code",
   "execution_count": null,
   "metadata": {},
   "outputs": [],
   "source": [
    "customer_df=final_customer_df.copy()\n",
    "customer_df.drop(columns={'customer_id', 'gender', 'age_range'}, inplace =True)\n"
   ]
  },
  {
   "cell_type": "code",
   "execution_count": null,
   "metadata": {},
   "outputs": [],
   "source": [
    "customer_df.head()"
   ]
  },
  {
   "cell_type": "code",
   "execution_count": null,
   "metadata": {},
   "outputs": [],
   "source": [
    "# not scaling age\n",
    "from sklearn.cluster import KMeans\n",
    "from sklearn.preprocessing import StandardScaler\n",
    "ss= StandardScaler()\n",
    "customer_df_ss = ss.fit_transform(customer_df)\n",
    "\n",
    "wcss = []\n",
    "for i in range(1, 15):\n",
    "    kmeans = KMeans(n_clusters = i, init = 'k-means++', max_iter = 300, n_init = 10,random_state = 42)\n",
    "    kmeans.fit(customer_df_ss)\n",
    "    wcss.append(kmeans.inertia_)\n",
    "plt.plot( wcss, linestyle='--', marker='o', color='b')\n",
    "plt.title('The Elbow Method')\n",
    "plt.xlabel('Number of clusters')\n",
    "plt.ylabel('WCSS')\n",
    "plt.show()"
   ]
  },
  {
   "cell_type": "markdown",
   "metadata": {},
   "source": [
    "Number of clusters : 3"
   ]
  },
  {
   "cell_type": "code",
   "execution_count": null,
   "metadata": {},
   "outputs": [],
   "source": [
    "# Fit K-means \n",
    "km_3 = KMeans(n_clusters = 3)\n",
    "km_fit=km_3.fit_predict(customer_df_ss)\n",
    "# Cluster assignment\n",
    "cluster_assigned = pd.DataFrame(ss.inverse_transform(customer_df_ss), columns = customer_df.columns)\n",
    "cluster_assigned['cluster_label'] = km_3.labels_ \n",
    "cluster_center = pd.DataFrame(km_3.cluster_centers_, columns = customer_df.columns)\n"
   ]
  },
  {
   "cell_type": "code",
   "execution_count": null,
   "metadata": {
    "scrolled": true
   },
   "outputs": [],
   "source": [
    "cluster_center"
   ]
  },
  {
   "cell_type": "code",
   "execution_count": null,
   "metadata": {},
   "outputs": [],
   "source": [
    "km = KMeans(n_clusters = 3)\n",
    "final_customer_df['cluster']=km.fit_predict(customer_df_ss)"
   ]
  },
  {
   "cell_type": "code",
   "execution_count": null,
   "metadata": {},
   "outputs": [],
   "source": [
    "final_customer_df.head()"
   ]
  },
  {
   "cell_type": "code",
   "execution_count": null,
   "metadata": {},
   "outputs": [],
   "source": [
    "sns.scatterplot(cluster_assigned['income'], cluster_assigned['total_transaction_amount'], \n",
    "                hue= cluster_assigned['cluster_label'])\n",
    "\n",
    "centers = kmeans.cluster_centers_\n",
    "plt.scatter(centers[:, 1], centers[:, 2], c='black', s=50, alpha=1);"
   ]
  },
  {
   "cell_type": "code",
   "execution_count": null,
   "metadata": {},
   "outputs": [],
   "source": [
    "\n",
    "sns.scatterplot(cluster_assigned['age'], cluster_assigned['total_transaction_amount'], \n",
    "                hue= cluster_assigned['cluster_label'])\n",
    "\n",
    "centers = kmeans.cluster_centers_\n",
    "plt.scatter(centers[:, 1], centers[:, 2], c='black', s=100, alpha=1);"
   ]
  },
  {
   "cell_type": "code",
   "execution_count": null,
   "metadata": {},
   "outputs": [],
   "source": [
    "g= sns.scatterplot(cluster_assigned['total_transaction_amount'], cluster_assigned['total_transaction_count'],hue= cluster_assigned['cluster_label'])\n",
    "\n",
    "centers = kmeans.cluster_centers_\n",
    "#plt.scatter(centers[:, 1], centers[:, 2], c='black', s=100, alpha=1);"
   ]
  },
  {
   "cell_type": "code",
   "execution_count": null,
   "metadata": {},
   "outputs": [],
   "source": []
  },
  {
   "cell_type": "code",
   "execution_count": null,
   "metadata": {},
   "outputs": [],
   "source": [
    "# informational offer related transaction \n",
    "\n",
    "\n"
   ]
  },
  {
   "cell_type": "code",
   "execution_count": null,
   "metadata": {},
   "outputs": [],
   "source": [
    "#https://towardsdatascience.com/a-step-by-step-guide-for-creating-advanced-python-data-visualizations-with-seaborn-matplotlib-1579d6a1a7d0\n",
    "import matplotlib.pyplot as plt\n",
    "from matplotlib import gridspec\n",
    "\n",
    "df_gp_1 = final_customer_df[['customer_id', 'income']].groupby('customer_id').agg(np.mean).reset_index()\n",
    "df_gp_2 = final_customer_df[['customer_id', 'gender', 'age_range']].groupby('customer_id').agg(max).reset_index()\n",
    "df_gp = pd.merge(df_gp_1, df_gp_2, on = ['customer_id'])\n",
    "\n",
    "freq = ((df_gp.age_range.value_counts(normalize = True).reset_index().sort_values(by = 'index').age_range)*100).tolist()\n",
    "number_gp = 7\n",
    "\n",
    "# freq = the percentage for each age group, and there’re 7 age groups.\n",
    "def ax_settings(ax, var_name, x_min, x_max):\n",
    "    ax.set_xlim(x_min,x_max)\n",
    "    ax.set_yticks([])\n",
    "    \n",
    "    ax.spines['left'].set_visible(False)\n",
    "    ax.spines['right'].set_visible(False)\n",
    "    ax.spines['top'].set_visible(False)\n",
    "    \n",
    "    ax.spines['bottom'].set_edgecolor('#444444')\n",
    "    ax.spines['bottom'].set_linewidth(2)\n",
    "    \n",
    "    ax.text(0.02, 0.05, var_name, fontsize=17, fontweight=\"bold\", transform = ax.transAxes) \n",
    "    return None\n",
    "\n",
    "# Manipulate each axes object in the left. Try to tune some parameters and you'll know how each command works.\n",
    "fig = plt.figure(figsize=(12,7))\n",
    "\n",
    "gs = gridspec.GridSpec(nrows=number_gp, \n",
    "                       ncols=2, \n",
    "                       figure=fig, \n",
    "                       width_ratios= [3, 1],\n",
    "                       height_ratios= [1]*number_gp,\n",
    "                       wspace=0.2, hspace=0.05\n",
    "                      )\n",
    "ax = [None]*(number_gp + 1)\n",
    "features =  ['18-25','26-35','36-45','46-55','56-75','76-90','90+']\n",
    "\n",
    "# Create a figure, partition the figure into 7*2 boxes, set up an ax array to store axes objects, and create a list of age group names.  \n",
    "for i in range(number_gp):\n",
    "    ax[i] = fig.add_subplot(gs[i, 0])\n",
    "    \n",
    "    ax_settings(ax[i], 'age_range: ' + str(features[i]), 10000, 120000)    \n",
    "    \n",
    "    sns.kdeplot(data=df_gp[(df_gp.gender == 'M') & (df_gp.age_range == features[i])].income, \n",
    "            ax=ax[i], shade=True, color=\"blue\",  bw=300, legend=False)\n",
    "    sns.kdeplot(data=df_gp[(df_gp.gender == 'F') & (df_gp.age_range == features[i])].income, \n",
    "            ax=ax[i], shade=True, color=\"red\",  bw=300, legend=False)\n",
    "    \n",
    "    if i < (number_gp - 1): \n",
    "        ax[i].set_xticks([])\n",
    "        \n",
    "# this 'for loop' is to create a bunch of axes objects, and link them to GridSpec boxes. Then, we manipulate them with sns.kdeplot() and ax_settings() we just defined.\n",
    "ax[0].legend(['Male', 'Female'], facecolor='w')\n",
    "# adding legends on the top axes object     \n",
    "\n",
    "ax[number_gp] = fig.add_subplot(gs[:, 1])\n",
    "ax[number_gp].spines['right'].set_visible(False)\n",
    "ax[number_gp].spines['top'].set_visible(False)\n",
    "ax[number_gp].barh(features, freq, color='#004c99', height=0.4)\n",
    "ax[number_gp].set_xlim(0,30)\n",
    "ax[number_gp].invert_yaxis()\n",
    "ax[number_gp].text(1.09, -0.04, '(%)', fontsize=10, transform = ax[number_gp].transAxes)   \n",
    "ax[number_gp].tick_params(axis='y', labelsize = 14)\n",
    "# manipulate the bar plot on the right. Try to comment out some of the commands to see what they actually do to the bar plot.\n",
    "plt.show()"
   ]
  },
  {
   "cell_type": "code",
   "execution_count": null,
   "metadata": {},
   "outputs": [],
   "source": [
    "cluster0=final_customer_df[final_customer_df['cluster']==0].copy()\n",
    "cluster1=final_customer_df[final_customer_df['cluster']==1].copy()\n",
    "cluster2=final_customer_df[final_customer_df['cluster']==2].copy()"
   ]
  },
  {
   "cell_type": "code",
   "execution_count": null,
   "metadata": {},
   "outputs": [],
   "source": [
    "sns.countplot(final_customer_df['cluster'])"
   ]
  },
  {
   "cell_type": "code",
   "execution_count": null,
   "metadata": {},
   "outputs": [],
   "source": [
    "\"\"\" Visualise Cluster with TSNE\"\"\"\n",
    "\"\"\"from sklearn.manifold import TSNE\n",
    "\n",
    "tsne = TSNE(random_state=42).fit_transform(pca_transform_main)\n",
    "tsne_df = pd.DataFrame(tsne, columns=['xs', 'ys'])\n",
    "tsne_df['cluster'] = ['c_' + str(i) for i in preds_main]\n",
    "\n",
    "#plot tsne\n",
    "f,ax = plt.subplots(figsize=(10,8))\n",
    "sns.scatterplot('xs','ys', hue='cluster', data=tsne_df, ax=ax, hue_order=['c_' + str(i) for i in range(0,9)])\n",
    "ax.set_title(\"Main Profile Cluster with TSNE\")\n",
    "#save fig\n",
    "f.savefig('main_tsne.png', dpi = 300)\"\"\""
   ]
  },
  {
   "cell_type": "markdown",
   "metadata": {},
   "source": [
    "Cluster-0 - regular customer who\n",
    "\n",
    "  Cluster 0: high income, higher spend, Male customers which are not influenced by offer\n",
    "  Cluster 1: Low income, low annual spend\n",
    "  Cluster 2: High income, high annual spend\n",
    " \n",
    "        A typical strategy would focus certain promotional efforts for the high value customers of Cluster 6 & Cluster 3.\n",
    "    Cluster 4 is a unique customer segment, where in spite of their relatively lower annual income, these customers tend to spend more on the site, indicating their loyalty. There could be some discounted pricing based promotional campaigns for this group so as to retain them.\n",
    "    For Cluster 2 where both the income and annual spend are low, further analysis could be needed to find the reasons for the lower spend and price-sensitive strategies could be introduced to increase the spend from this segment.\n",
    "    Customers in clusters 1 and 5 are not spending enough on the site in spite of a good annual income — further analysis of these segments could lead to insights on the satisfaction / dissatisfaction of these customers or lesser visibility of the e-commerce site to these customers. Strategies could be evolved accordingly.\n",
    "\n"
   ]
  },
  {
   "cell_type": "code",
   "execution_count": null,
   "metadata": {
    "scrolled": true
   },
   "outputs": [],
   "source": [
    "cluster0.iloc[:,15:].describe()"
   ]
  },
  {
   "cell_type": "code",
   "execution_count": null,
   "metadata": {
    "scrolled": false
   },
   "outputs": [],
   "source": [
    "cluster1.iloc[:,15:].describe()"
   ]
  },
  {
   "cell_type": "code",
   "execution_count": null,
   "metadata": {
    "scrolled": true
   },
   "outputs": [],
   "source": [
    "#https://towardsdatascience.com/clustering-algorithms-for-customer-segmentation-af637c6830ac\n",
    "cluster2.iloc[:,15:].describe()"
   ]
  },
  {
   "cell_type": "code",
   "execution_count": null,
   "metadata": {},
   "outputs": [],
   "source": [
    "sns.lmplot(x='total_transaction_amount', y='total_transaction_count', hue='cluster', data=final_customer_df)"
   ]
  },
  {
   "cell_type": "code",
   "execution_count": null,
   "metadata": {},
   "outputs": [],
   "source": [
    "#sns.lmplot(x='total_transaction_amount', y='total_transaction_count', hue=final_customer_df['cluster']==0, data=final_customer_df)"
   ]
  },
  {
   "cell_type": "code",
   "execution_count": null,
   "metadata": {
    "scrolled": true
   },
   "outputs": [],
   "source": [
    "sns.scatterplot(data=cluster0,x='income', y='total_transaction_count' )"
   ]
  },
  {
   "cell_type": "code",
   "execution_count": null,
   "metadata": {
    "scrolled": true
   },
   "outputs": [],
   "source": [
    "sns.scatterplot(data=cluster0,x='income', y='total_transaction_amount' )"
   ]
  },
  {
   "cell_type": "code",
   "execution_count": null,
   "metadata": {},
   "outputs": [],
   "source": [
    "amount_low =final_customer_df[(final_customer_df['total_transaction_amount'] <200)&(final_customer_df['cluster']==0)]\n",
    "amount_high =final_customer_df[(final_customer_df['total_transaction_amount'] >200)&(final_customer_df['cluster']==0)]\n"
   ]
  },
  {
   "cell_type": "code",
   "execution_count": null,
   "metadata": {},
   "outputs": [],
   "source": [
    "final_customer_df.to_csv(\"final_customer_df.csv\", index=False)"
   ]
  },
  {
   "cell_type": "code",
   "execution_count": null,
   "metadata": {},
   "outputs": [],
   "source": [
    "sns.scatterplot(data=amount_low,x='age', y='total_transaction_amount' )"
   ]
  },
  {
   "cell_type": "code",
   "execution_count": null,
   "metadata": {},
   "outputs": [],
   "source": [
    "sns.scatterplot(data=amount_high,x='age', y='total_transaction_amount' )"
   ]
  },
  {
   "cell_type": "code",
   "execution_count": null,
   "metadata": {},
   "outputs": [],
   "source": [
    "high_one_transaction =final_customer_df[(final_customer_df['total_transaction_amount'] >200)]\n",
    "print(len(high_one_transaction))\n",
    "\n",
    "low_one_transaction =final_customer_df[(final_customer_df['total_transaction_amount'] <200)]\n",
    "print(len(low_one_transaction))"
   ]
  },
  {
   "cell_type": "code",
   "execution_count": null,
   "metadata": {},
   "outputs": [],
   "source": [
    "sns.lmplot(x='total_transaction_amount', y='total_transaction_count', hue='cluster', data=high_one_transaction)\n",
    "sns.lmplot(x='total_transaction_amount', y='total_transaction_count', hue='cluster', data=low_one_transaction)"
   ]
  },
  {
   "cell_type": "code",
   "execution_count": null,
   "metadata": {},
   "outputs": [],
   "source": [
    "high_one_transaction.iloc[:,10:].head()"
   ]
  },
  {
   "cell_type": "code",
   "execution_count": null,
   "metadata": {},
   "outputs": [],
   "source": [
    "sns.scatterplot(data=high_one_transaction,x='age', y='total_transaction_amount' )\n",
    "sns.scatterplot(data=high_one_transaction,x='age', y='total_transaction_amount' )"
   ]
  },
  {
   "cell_type": "code",
   "execution_count": null,
   "metadata": {},
   "outputs": [],
   "source": [
    "sns.scatterplot(data=cluster2,x='total_transaction_amount', y='total_transaction_count' )"
   ]
  },
  {
   "cell_type": "code",
   "execution_count": null,
   "metadata": {},
   "outputs": [],
   "source": [
    "sns.scatterplot(data=cluster1,x='total_transaction_amount', y='total_transaction_count' )"
   ]
  },
  {
   "cell_type": "code",
   "execution_count": null,
   "metadata": {},
   "outputs": [],
   "source": []
  },
  {
   "cell_type": "code",
   "execution_count": null,
   "metadata": {},
   "outputs": [],
   "source": []
  },
  {
   "cell_type": "code",
   "execution_count": null,
   "metadata": {},
   "outputs": [],
   "source": [
    "#Machine Learning model"
   ]
  },
  {
   "cell_type": "code",
   "execution_count": null,
   "metadata": {},
   "outputs": [],
   "source": [
    "plt.figure(figsize = (20,10))\n",
    "sns.lmplot(x='total_transaction_amount', y='total_transaction_count', hue='cluster2'\n",
    "           , data=final_customer_df, fit_reg=False);"
   ]
  },
  {
   "cell_type": "markdown",
   "metadata": {},
   "source": [
    "# Reference\n",
    "https://stackoverflow.com/questions/27298178/concatenate-strings-from-several-rows-using-pandas-groupby/45925961\n",
    "https://stackoverflow.com/questions/51102205/how-to-know-the-labels-assigned-by-astypecategory-cat-codes\n",
    "https://stackoverflow.com/questions/45312377/how-to-one-hot-encode-from-a-pandas-column-containing-a-list\n",
    "https://stackoverflow.com/questions/50522146/pandas-column-dict-split-to-new-column-and-rows\n",
    "https://stackoverflow.com/questions/56421683/how-to-apply-a-function-for-each-row-of-a-dataframe-which-checks-keys-of-embedd\n",
    "https://stackoverflow.com/questions/41455967/convert-datetime-string-to-new-columns-of-day-month-year-in-pandas-data-frame/41456152\n",
    "\n",
    "https://stackoverflow.com/questions/43133605/convert-integer-yyyymmdd-to-date-format-mm-dd-yyyy-in-python\n",
    "https://stackoverflow.com/questions/17134716/convert-dataframe-column-type-from-string-to-datetime-dd-mm-yyyy-format\n",
    "\n",
    "https://stackoverflow.com/questions/49742938/checking-isdigit-on-python\n",
    " https://towardsdatascience.com/flattening-json-objects-in-python-f5343c794b10\n",
    " \n",
    " https://medium.com/@vinitasilaparasetty/guide-to-defining-problem-statements-baf52219ea5b\n",
    " \n",
    " https://medium.com/@george.drakos62/handling-missing-values-in-machine-learning-part-1-dda69d4f88ca"
   ]
  },
  {
   "cell_type": "markdown",
   "metadata": {},
   "source": [
    "# we need to seperate effective offer dataset\n",
    "\n",
    "1 - effective offer \n",
    "0 - not an effective\n",
    "informational offer\n"
   ]
  }
 ],
 "metadata": {
  "kernelspec": {
   "display_name": "Python 3",
   "language": "python",
   "name": "python3"
  },
  "language_info": {
   "codemirror_mode": {
    "name": "ipython",
    "version": 3
   },
   "file_extension": ".py",
   "mimetype": "text/x-python",
   "name": "python",
   "nbconvert_exporter": "python",
   "pygments_lexer": "ipython3",
   "version": "3.7.3"
  }
 },
 "nbformat": 4,
 "nbformat_minor": 2
}
