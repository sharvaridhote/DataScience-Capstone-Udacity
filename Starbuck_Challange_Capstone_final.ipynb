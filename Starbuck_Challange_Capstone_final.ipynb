{
 "cells": [
  {
   "cell_type": "markdown",
   "metadata": {},
   "source": [
    "# Starbucks Capstone Challenge Notebook\n",
    "\n",
    "%%latex\n",
    "\n",
    "## Background : \n",
    "\n",
    "The businesses want to target right customers throughout the customer journey which helps to reduce the marketing budget, customer satisfaction as well increase the profits.  Machine learning (ML) and artificial intelligence (AI) technologies are helping automate the digital marketing with real time decision making such as selecting best messaging platform, best timing, and the best offering to the individual customer by integrating data from different platforms \\cite{linkedin,digitalmarketinginstitute,urbancursor,medium}.\n",
    "\n",
    "Udacity's Starbucks Capstone challenge project  data set contains simulated data that mimics customer behavior on the Starbucks rewards mobile app. Machine learning technique will be used in order to develop effective marketing strategy for the Starbucks business using the available data.  \n",
    "\n",
    "\n",
    "# Problem Statement \n",
    "\n",
    "Starbucks sends out an offer to users of the mobile app every few days. An offer can be merely an advertisement for a drink or an actual offer such as a discount or BOGO (buy one get one free). The given dataset contains demographic data a record of transaction and details about offer information. Before developing a predictive model, exploratory data analysis and customer segmentation will be carried out which will help Starbucks business in better targeted marketing.  \n",
    "\n",
    "\\textit{It is important to know your customers in order to increase business. First, customer segmentation using unsupervised machine learning technique K-means clustering will be carried out to understand current customer characteristics and demographics. Second  the best performing supervised machine learning model will be build by comparing random forest and boosting ensemble models performance based on the defined metrics to predict if customer will respond to an offer or not for better targeted marketing. }\n",
    "\n",
    "\n",
    "# Project Design \n",
    "\n",
    "Following are the project design steps carried out to execute this project\n",
    "\n",
    "## Part I \n",
    "- Data Exploration & : First step is to know the data. Matplotlib/Seaborn/plotly libraries will be used for the exploratory data analysis (EDA). Study the data statistic, count missing values, plot different variables and understand and explore the data.\n",
    "- Model pre-processing and cleaning : Basic cleaning steps such as filling missing, checking outliers, dropping unimportant and duplicate columns, Encoding categorical variables..\n",
    "## Part II\n",
    " Data Wranglling -  scaling, and feature engineering. \n",
    "## Part II\n",
    "- Next, customer segmentation will be carried out to group the demographic and purchase data.  \n",
    "- Train and Test data : Labeled dataset will be prepared and split randomly to train and test dataset. \n",
    "## Part III\n",
    "- Model training and implementation : Five different models will be implemented and based on the AUC value and other metrics, best model will be selected. \n",
    "- Model validation : Test data will be used to validate the model performance with defined metrics. \n",
    "- Model selection and optimization : Selected model will be tuned using a grid search. \n",
    "    \n",
    "# Challanges \n",
    "\n",
    "- Not all users receive the same offer\n",
    "- Different validity period the offer type and informational offer to influence customer.\n",
    "- Customer might make a purchase through the app without having received an offer or seen an offer\n",
    "- A user can receive an offer, never actually view the offer, and still complete the offer\n"
   ]
  },
  {
   "cell_type": "markdown",
   "metadata": {},
   "source": [
    "# Data Sets\n",
    "\n",
    "The data is contained in three files:\n",
    "\n",
    "* portfolio.json - containing offer ids and meta data about each offer (duration, type, etc.)\n",
    "* profile.json - demographic data for each customer\n",
    "* transcript.json - records for transactions, offers received, offers viewed, and offers completed\n",
    "\n",
    "Here is the schema and explanation of each variable in the files:\n",
    "\n",
    "**portfolio.json**\n",
    "* id (string) - offer id\n",
    "* offer_type (string) - type of offer ie BOGO, discount, informational\n",
    "* difficulty (int) - minimum required spend to complete an offer\n",
    "* reward (int) - reward given for completing an offer\n",
    "* duration (int) - time for offer to be open, in days\n",
    "* channels (list of strings)\n",
    "\n",
    "**profile.json**\n",
    "* age (int) - age of the customer \n",
    "* became_member_on (int) - date when customer created an app account\n",
    "* gender (str) - gender of the customer (note some entries contain 'O' for other rather than M or F)\n",
    "* id (str) - customer id\n",
    "* income (float) - customer's income\n",
    "\n",
    "**transcript.json**\n",
    "* event (str) - record description (ie transaction, offer received, offer viewed, etc.)\n",
    "* person (str) - customer id\n",
    "* time (int) - time in hours since start of test. The data begins at time t=0\n",
    "* value - (dict of strings) - either an offer id or transaction amount depending on the record\n",
    "\n"
   ]
  },
  {
   "cell_type": "markdown",
   "metadata": {},
   "source": [
    "# Rreference\n",
    "https://stackoverflow.com/questions/27298178/concatenate-strings-from-several-rows-using-pandas-groupby/45925961\n",
    "https://stackoverflow.com/questions/51102205/how-to-know-the-labels-assigned-by-astypecategory-cat-codes\n",
    "https://stackoverflow.com/questions/45312377/how-to-one-hot-encode-from-a-pandas-column-containing-a-list\n",
    "https://stackoverflow.com/questions/50522146/pandas-column-dict-split-to-new-column-and-rows\n",
    "https://stackoverflow.com/questions/56421683/how-to-apply-a-function-for-each-row-of-a-dataframe-which-checks-keys-of-embedd\n",
    "https://stackoverflow.com/questions/41455967/convert-datetime-string-to-new-columns-of-day-month-year-in-pandas-data-frame/41456152\n",
    "\n",
    "https://stackoverflow.com/questions/43133605/convert-integer-yyyymmdd-to-date-format-mm-dd-yyyy-in-python\n",
    "https://stackoverflow.com/questions/17134716/convert-dataframe-column-type-from-string-to-datetime-dd-mm-yyyy-format\n",
    "\n",
    "https://stackoverflow.com/questions/49742938/checking-isdigit-on-python\n",
    " https://towardsdatascience.com/flattening-json-objects-in-python-f5343c794b10"
   ]
  },
  {
   "cell_type": "code",
   "execution_count": 1,
   "metadata": {},
   "outputs": [],
   "source": [
    "import pandas as pd\n",
    "import numpy as np\n",
    "import math\n",
    "import json\n",
    "import matplotlib.pyplot as plt\n",
    "import matplotlib\n",
    "#% matplotlib inline|\n",
    "\n"
   ]
  },
  {
   "cell_type": "markdown",
   "metadata": {},
   "source": [
    "# Part 1 :  Initial Dataset Statistics and basic EDA\n",
    "\n"
   ]
  },
  {
   "cell_type": "markdown",
   "metadata": {},
   "source": [
    "## summary of portfolio statistics\n",
    "- profile dataframe has age, gender catgorical features which we will need to encode\n",
    "- become member on need to be changed to membership years.\n",
    "- age max value 118 - looks like outlier\n",
    "- only income and gender columns have more missing values - 2175 which are corresponding to age outlier. We will check overall missing values in the combined dataset to decided if we need to impute or delete missing values.\n",
    "\n"
   ]
  },
  {
   "cell_type": "markdown",
   "metadata": {},
   "source": [
    "def basic_EDA(df):\n",
    "    \n",
    "\n",
    "def plot_hist(df)\n",
    "\n"
   ]
  },
  {
   "cell_type": "code",
   "execution_count": 2,
   "metadata": {},
   "outputs": [
    {
     "name": "stdout",
     "output_type": "stream",
     "text": [
      "portfolio  shape is (10, 6):\n"
     ]
    }
   ],
   "source": [
    "# read in the json files\n",
    "portfolio = pd.read_json('portfolio.json', orient='records', lines=True)\n",
    "\n",
    "# Check size of the data set\n",
    "print('portfolio  shape is {}:' .format(portfolio.shape)) \n",
    "\n"
   ]
  },
  {
   "cell_type": "code",
   "execution_count": 3,
   "metadata": {
    "scrolled": true
   },
   "outputs": [
    {
     "name": "stdout",
     "output_type": "stream",
     "text": [
      "portfolio statistics         difficulty   duration     reward\n",
      "count   10.000000  10.000000  10.000000\n",
      "mean     7.700000   6.500000   4.200000\n",
      "std      5.831905   2.321398   3.583915\n",
      "min      0.000000   3.000000   0.000000\n",
      "25%      5.000000   5.000000   2.000000\n",
      "50%      8.500000   7.000000   4.000000\n",
      "75%     10.000000   7.000000   5.000000\n",
      "max     20.000000  10.000000  10.000000:\n",
      "portfolio null count channels      0\n",
      "difficulty    0\n",
      "duration      0\n",
      "id            0\n",
      "offer_type    0\n",
      "reward        0\n",
      "dtype: int64:\n"
     ]
    }
   ],
   "source": [
    "# Check size of the basic statistics\n",
    "print('portfolio statistics  {}:' .format(portfolio.describe())) \n",
    "print('portfolio null count {}:' .format(portfolio.isnull().sum())) \n",
    " "
   ]
  },
  {
   "cell_type": "code",
   "execution_count": 4,
   "metadata": {},
   "outputs": [
    {
     "name": "stdout",
     "output_type": "stream",
     "text": [
      "<class 'pandas.core.frame.DataFrame'>\n",
      "RangeIndex: 10 entries, 0 to 9\n",
      "Data columns (total 6 columns):\n",
      "channels      10 non-null object\n",
      "difficulty    10 non-null int64\n",
      "duration      10 non-null int64\n",
      "id            10 non-null object\n",
      "offer_type    10 non-null object\n",
      "reward        10 non-null int64\n",
      "dtypes: int64(3), object(3)\n",
      "memory usage: 560.0+ bytes\n",
      "portfolio data   None:\n"
     ]
    }
   ],
   "source": [
    "print('portfolio data   {}:' .format(portfolio.info()))"
   ]
  },
  {
   "cell_type": "code",
   "execution_count": 5,
   "metadata": {},
   "outputs": [],
   "source": [
    "# cleaning function portfolio\n",
    "# credit -  https://stackoverflow.com/questions/45312377/how-to-one-hot-encode-from-a-pandas-column-containing-a-list\n",
    "# credit - https://stackoverflow.com/questions/29034928/pandas-convert-a-column-of-list-to-dummies\n",
    "# credit -https://stackoverflow.com/questions/45312377/how-to-one-hot-encode-from-a-pandas-column-containing-a-list/45312577#45312577\n",
    "\n",
    "def portfolio_clean(portfolio):\n",
    "\n",
    "    \"\"\" \n",
    "    Clean, select and transform a DataFrame containing information about offer type and duration\n",
    "    INPUT:\n",
    "        portfolio: DataFrame containing offer ids and meta data about \n",
    "                   each offer (duration, type, etc.)\n",
    "    OUTPUT:\n",
    "        portfolio: clean transformed portfolio DataFrame\n",
    "    \"\"\"  \n",
    "    \n",
    "    portfolio = portfolio.assign(**pd.get_dummies(portfolio.channels.apply(lambda x:pd.Series(x)).stack()\n",
    "                                                    .reset_index(level=1,drop=True)).sum(level=0))\n",
    "    portfolio = portfolio.assign(**pd.get_dummies(portfolio.offer_type.apply(lambda x:pd.Series(x)).stack()\n",
    "                                                    .reset_index(level=1,drop=True)).sum(level=0))\n",
    "    #portfolio['id'] = [offer_id_col[item] for item in portfolio_df['id']] \n",
    "    portfolio.rename(columns={'id':'offer_id', 'reward': 'reward_offered'}, inplace =True)\n",
    "    \n",
    "    #offer_type_col = {'bogo':'1', 'informational':'2','discount':'3'}\n",
    "    #portfolio['offer_type'] = [offer_type_col[item] for item in portfolio['offer_type']] \n",
    "    \n",
    "    portfolio.drop(['channels','offer_type'], axis=1, inplace=True)\n",
    "    \n",
    "    return portfolio\n",
    "\n"
   ]
  },
  {
   "cell_type": "code",
   "execution_count": 6,
   "metadata": {},
   "outputs": [],
   "source": [
    "portfolio_df=portfolio_clean(portfolio)"
   ]
  },
  {
   "cell_type": "code",
   "execution_count": 7,
   "metadata": {},
   "outputs": [
    {
     "data": {
      "text/html": [
       "<div>\n",
       "<style scoped>\n",
       "    .dataframe tbody tr th:only-of-type {\n",
       "        vertical-align: middle;\n",
       "    }\n",
       "\n",
       "    .dataframe tbody tr th {\n",
       "        vertical-align: top;\n",
       "    }\n",
       "\n",
       "    .dataframe thead th {\n",
       "        text-align: right;\n",
       "    }\n",
       "</style>\n",
       "<table border=\"1\" class=\"dataframe\">\n",
       "  <thead>\n",
       "    <tr style=\"text-align: right;\">\n",
       "      <th></th>\n",
       "      <th>difficulty</th>\n",
       "      <th>duration</th>\n",
       "      <th>offer_id</th>\n",
       "      <th>reward_offered</th>\n",
       "      <th>email</th>\n",
       "      <th>mobile</th>\n",
       "      <th>social</th>\n",
       "      <th>web</th>\n",
       "      <th>bogo</th>\n",
       "      <th>discount</th>\n",
       "      <th>informational</th>\n",
       "    </tr>\n",
       "  </thead>\n",
       "  <tbody>\n",
       "    <tr>\n",
       "      <th>0</th>\n",
       "      <td>10</td>\n",
       "      <td>7</td>\n",
       "      <td>ae264e3637204a6fb9bb56bc8210ddfd</td>\n",
       "      <td>10</td>\n",
       "      <td>1</td>\n",
       "      <td>1</td>\n",
       "      <td>1</td>\n",
       "      <td>0</td>\n",
       "      <td>1</td>\n",
       "      <td>0</td>\n",
       "      <td>0</td>\n",
       "    </tr>\n",
       "    <tr>\n",
       "      <th>1</th>\n",
       "      <td>10</td>\n",
       "      <td>5</td>\n",
       "      <td>4d5c57ea9a6940dd891ad53e9dbe8da0</td>\n",
       "      <td>10</td>\n",
       "      <td>1</td>\n",
       "      <td>1</td>\n",
       "      <td>1</td>\n",
       "      <td>1</td>\n",
       "      <td>1</td>\n",
       "      <td>0</td>\n",
       "      <td>0</td>\n",
       "    </tr>\n",
       "    <tr>\n",
       "      <th>2</th>\n",
       "      <td>0</td>\n",
       "      <td>4</td>\n",
       "      <td>3f207df678b143eea3cee63160fa8bed</td>\n",
       "      <td>0</td>\n",
       "      <td>1</td>\n",
       "      <td>1</td>\n",
       "      <td>0</td>\n",
       "      <td>1</td>\n",
       "      <td>0</td>\n",
       "      <td>0</td>\n",
       "      <td>1</td>\n",
       "    </tr>\n",
       "    <tr>\n",
       "      <th>3</th>\n",
       "      <td>5</td>\n",
       "      <td>7</td>\n",
       "      <td>9b98b8c7a33c4b65b9aebfe6a799e6d9</td>\n",
       "      <td>5</td>\n",
       "      <td>1</td>\n",
       "      <td>1</td>\n",
       "      <td>0</td>\n",
       "      <td>1</td>\n",
       "      <td>1</td>\n",
       "      <td>0</td>\n",
       "      <td>0</td>\n",
       "    </tr>\n",
       "    <tr>\n",
       "      <th>4</th>\n",
       "      <td>20</td>\n",
       "      <td>10</td>\n",
       "      <td>0b1e1539f2cc45b7b9fa7c272da2e1d7</td>\n",
       "      <td>5</td>\n",
       "      <td>1</td>\n",
       "      <td>0</td>\n",
       "      <td>0</td>\n",
       "      <td>1</td>\n",
       "      <td>0</td>\n",
       "      <td>1</td>\n",
       "      <td>0</td>\n",
       "    </tr>\n",
       "  </tbody>\n",
       "</table>\n",
       "</div>"
      ],
      "text/plain": [
       "   difficulty  duration                          offer_id  reward_offered  \\\n",
       "0          10         7  ae264e3637204a6fb9bb56bc8210ddfd              10   \n",
       "1          10         5  4d5c57ea9a6940dd891ad53e9dbe8da0              10   \n",
       "2           0         4  3f207df678b143eea3cee63160fa8bed               0   \n",
       "3           5         7  9b98b8c7a33c4b65b9aebfe6a799e6d9               5   \n",
       "4          20        10  0b1e1539f2cc45b7b9fa7c272da2e1d7               5   \n",
       "\n",
       "   email  mobile  social  web  bogo  discount  informational  \n",
       "0      1       1       1    0     1         0              0  \n",
       "1      1       1       1    1     1         0              0  \n",
       "2      1       1       0    1     0         0              1  \n",
       "3      1       1       0    1     1         0              0  \n",
       "4      1       0       0    1     0         1              0  "
      ]
     },
     "execution_count": 7,
     "metadata": {},
     "output_type": "execute_result"
    }
   ],
   "source": [
    "portfolio_df.head()"
   ]
  },
  {
   "cell_type": "markdown",
   "metadata": {},
   "source": [
    "## summary of profile statistics\n",
    "- profile dataset\n",
    "-\n",
    "-"
   ]
  },
  {
   "cell_type": "code",
   "execution_count": 8,
   "metadata": {
    "scrolled": false
   },
   "outputs": [
    {
     "name": "stdout",
     "output_type": "stream",
     "text": [
      "profile  shape is (17000, 5):\n"
     ]
    }
   ],
   "source": [
    "# read in the json files\n",
    "\n",
    "profile = pd.read_json('profile.json', orient='records', lines=True)\n",
    "# Check size of the data set\n",
    "print('profile  shape is {}:' .format(profile.shape)) \n",
    " \n"
   ]
  },
  {
   "cell_type": "code",
   "execution_count": 9,
   "metadata": {},
   "outputs": [
    {
     "name": "stdout",
     "output_type": "stream",
     "text": [
      "profile statistics                  age  became_member_on         income\n",
      "count  17000.000000      1.700000e+04   14825.000000\n",
      "mean      62.531412      2.016703e+07   65404.991568\n",
      "std       26.738580      1.167750e+04   21598.299410\n",
      "min       18.000000      2.013073e+07   30000.000000\n",
      "25%       45.000000      2.016053e+07   49000.000000\n",
      "50%       58.000000      2.017080e+07   64000.000000\n",
      "75%       73.000000      2.017123e+07   80000.000000\n",
      "max      118.000000      2.018073e+07  120000.000000:\n",
      "<class 'pandas.core.frame.DataFrame'>\n",
      "RangeIndex: 17000 entries, 0 to 16999\n",
      "Data columns (total 5 columns):\n",
      "age                 17000 non-null int64\n",
      "became_member_on    17000 non-null int64\n",
      "gender              14825 non-null object\n",
      "id                  17000 non-null object\n",
      "income              14825 non-null float64\n",
      "dtypes: float64(1), int64(2), object(2)\n",
      "memory usage: 664.1+ KB\n",
      "profile data   None:\n",
      "profile null countage                    0\n",
      "became_member_on       0\n",
      "gender              2175\n",
      "id                     0\n",
      "income              2175\n",
      "dtype: int64:\n"
     ]
    }
   ],
   "source": [
    "print('profile statistics  {}:' .format(profile.describe())) \n",
    "print('profile data   {}:' .format(profile.info())) \n",
    "print('profile null count{}:' .format(profile.isnull().sum()))"
   ]
  },
  {
   "cell_type": "code",
   "execution_count": 10,
   "metadata": {},
   "outputs": [],
   "source": [
    "# cleaning function profile\n",
    "# credit -  https://stackoverflow.com/questions/43133605/convert-integer-yyyymmdd-to-date-format-mm-dd-yyyy-in-python\n",
    "import datetime\n",
    "\n",
    "def profile_clean(profile):\n",
    "\n",
    "    \"\"\" \n",
    "    Clean, select and transform a DataFrame containing a demographic data for each customer\n",
    "    INPUT:\n",
    "        profile: DataFrame containing offer ids and meta data about \n",
    "                   each offer (duration, type, etc.)\n",
    "    OUTPUT:\n",
    "        profile: clean and transformed profile DataFrame\n",
    "    \"\"\"  \n",
    "    \n",
    "\n",
    "    #profile['date_time']  = profile[['became_member_on']].applymap(str).applymap(lambda s: \"{}/{}/{}\"\n",
    "                                                                                # .format( s[0:4],s[4:6],s[6:]))\n",
    "    profile['date_time'] =pd.to_datetime(profile['became_member_on'], format = '%Y%m%d')\n",
    "    end_time =(datetime.datetime.today().date())\n",
    "    start_time =(profile['date_time'].dt.date)\n",
    "    \n",
    "    profile['membership_years']=  (end_time -start_time)\n",
    "    profile['membership_years'] = round((pd.to_numeric(profile['membership_years'].dt.days, downcast='integer'))/365,2)\n",
    "   \n",
    "    \n",
    "                            \n",
    "    # only gender and income column showed nan values. We will clean the data # dropped data comment\n",
    "    profile= profile.dropna(axis=0, subset=['gender'])\n",
    "    \n",
    "    # keep only year unless want to calculate membership period then we may need month and date \n",
    "    profile['year'] = pd.DatetimeIndex(profile['date_time']).year   \n",
    "\n",
    "    profile.rename(columns={'id':'customer_id'}, inplace =True)\n",
    "    profile.drop(['date_time', 'became_member_on'], axis=1,inplace=True)\n",
    "\n",
    "    return profile\n"
   ]
  },
  {
   "cell_type": "code",
   "execution_count": 11,
   "metadata": {},
   "outputs": [
    {
     "name": "stderr",
     "output_type": "stream",
     "text": [
      "C:\\ProgramData\\Anaconda3\\lib\\site-packages\\ipykernel_launcher.py:32: SettingWithCopyWarning: \n",
      "A value is trying to be set on a copy of a slice from a DataFrame.\n",
      "Try using .loc[row_indexer,col_indexer] = value instead\n",
      "\n",
      "See the caveats in the documentation: http://pandas.pydata.org/pandas-docs/stable/indexing.html#indexing-view-versus-copy\n",
      "C:\\ProgramData\\Anaconda3\\lib\\site-packages\\pandas\\core\\frame.py:4025: SettingWithCopyWarning: \n",
      "A value is trying to be set on a copy of a slice from a DataFrame\n",
      "\n",
      "See the caveats in the documentation: http://pandas.pydata.org/pandas-docs/stable/indexing.html#indexing-view-versus-copy\n",
      "  return super(DataFrame, self).rename(**kwargs)\n",
      "C:\\ProgramData\\Anaconda3\\lib\\site-packages\\pandas\\core\\frame.py:3940: SettingWithCopyWarning: \n",
      "A value is trying to be set on a copy of a slice from a DataFrame\n",
      "\n",
      "See the caveats in the documentation: http://pandas.pydata.org/pandas-docs/stable/indexing.html#indexing-view-versus-copy\n",
      "  errors=errors)\n"
     ]
    }
   ],
   "source": [
    "profile_df=profile_clean(profile)"
   ]
  },
  {
   "cell_type": "code",
   "execution_count": 12,
   "metadata": {},
   "outputs": [
    {
     "data": {
      "text/html": [
       "<div>\n",
       "<style scoped>\n",
       "    .dataframe tbody tr th:only-of-type {\n",
       "        vertical-align: middle;\n",
       "    }\n",
       "\n",
       "    .dataframe tbody tr th {\n",
       "        vertical-align: top;\n",
       "    }\n",
       "\n",
       "    .dataframe thead th {\n",
       "        text-align: right;\n",
       "    }\n",
       "</style>\n",
       "<table border=\"1\" class=\"dataframe\">\n",
       "  <thead>\n",
       "    <tr style=\"text-align: right;\">\n",
       "      <th></th>\n",
       "      <th>age</th>\n",
       "      <th>gender</th>\n",
       "      <th>customer_id</th>\n",
       "      <th>income</th>\n",
       "      <th>membership_years</th>\n",
       "      <th>year</th>\n",
       "    </tr>\n",
       "  </thead>\n",
       "  <tbody>\n",
       "    <tr>\n",
       "      <th>1</th>\n",
       "      <td>55</td>\n",
       "      <td>F</td>\n",
       "      <td>0610b486422d4921ae7d2bf64640c50b</td>\n",
       "      <td>112000.0</td>\n",
       "      <td>2.66</td>\n",
       "      <td>2017</td>\n",
       "    </tr>\n",
       "    <tr>\n",
       "      <th>3</th>\n",
       "      <td>75</td>\n",
       "      <td>F</td>\n",
       "      <td>78afa995795e4d85b5d9ceeca43f5fef</td>\n",
       "      <td>100000.0</td>\n",
       "      <td>2.84</td>\n",
       "      <td>2017</td>\n",
       "    </tr>\n",
       "    <tr>\n",
       "      <th>5</th>\n",
       "      <td>68</td>\n",
       "      <td>M</td>\n",
       "      <td>e2127556f4f64592b11af22de27a7932</td>\n",
       "      <td>70000.0</td>\n",
       "      <td>1.88</td>\n",
       "      <td>2018</td>\n",
       "    </tr>\n",
       "    <tr>\n",
       "      <th>8</th>\n",
       "      <td>65</td>\n",
       "      <td>M</td>\n",
       "      <td>389bc3fa690240e798340f5a15918d5c</td>\n",
       "      <td>53000.0</td>\n",
       "      <td>2.08</td>\n",
       "      <td>2018</td>\n",
       "    </tr>\n",
       "    <tr>\n",
       "      <th>12</th>\n",
       "      <td>58</td>\n",
       "      <td>M</td>\n",
       "      <td>2eeac8d8feae4a8cad5a6af0499a211d</td>\n",
       "      <td>51000.0</td>\n",
       "      <td>2.33</td>\n",
       "      <td>2017</td>\n",
       "    </tr>\n",
       "  </tbody>\n",
       "</table>\n",
       "</div>"
      ],
      "text/plain": [
       "    age gender                       customer_id    income  membership_years  \\\n",
       "1    55      F  0610b486422d4921ae7d2bf64640c50b  112000.0              2.66   \n",
       "3    75      F  78afa995795e4d85b5d9ceeca43f5fef  100000.0              2.84   \n",
       "5    68      M  e2127556f4f64592b11af22de27a7932   70000.0              1.88   \n",
       "8    65      M  389bc3fa690240e798340f5a15918d5c   53000.0              2.08   \n",
       "12   58      M  2eeac8d8feae4a8cad5a6af0499a211d   51000.0              2.33   \n",
       "\n",
       "    year  \n",
       "1   2017  \n",
       "3   2017  \n",
       "5   2018  \n",
       "8   2018  \n",
       "12  2017  "
      ]
     },
     "execution_count": 12,
     "metadata": {},
     "output_type": "execute_result"
    }
   ],
   "source": [
    "profile_df.head()"
   ]
  },
  {
   "cell_type": "markdown",
   "metadata": {},
   "source": [
    "\n",
    "## summary of transcript statistics\n",
    "- transcript dataframe\n",
    "-b\n",
    "-a\n",
    "-c\n",
    "-d\n",
    "\n",
    "\n"
   ]
  },
  {
   "cell_type": "code",
   "execution_count": 13,
   "metadata": {
    "scrolled": false
   },
   "outputs": [
    {
     "name": "stdout",
     "output_type": "stream",
     "text": [
      "transcript  shape is (306534, 4): \n"
     ]
    }
   ],
   "source": [
    "# read in the json files\n",
    "transcript = pd.read_json('transcript.json', orient='records', lines=True)\n",
    "\n",
    "# Check size of the data set\n",
    "print('transcript  shape is {}: ' .format(transcript.shape)) \n"
   ]
  },
  {
   "cell_type": "code",
   "execution_count": 14,
   "metadata": {},
   "outputs": [
    {
     "name": "stdout",
     "output_type": "stream",
     "text": [
      "transcript statistics                  time\n",
      "count  306534.000000\n",
      "mean      366.382940\n",
      "std       200.326314\n",
      "min         0.000000\n",
      "25%       186.000000\n",
      "50%       408.000000\n",
      "75%       528.000000\n",
      "max       714.000000:\n",
      "<class 'pandas.core.frame.DataFrame'>\n",
      "RangeIndex: 306534 entries, 0 to 306533\n",
      "Data columns (total 4 columns):\n",
      "event     306534 non-null object\n",
      "person    306534 non-null object\n",
      "time      306534 non-null int64\n",
      "value     306534 non-null object\n",
      "dtypes: int64(1), object(3)\n",
      "memory usage: 9.4+ MB\n",
      "transcript data   None:\n",
      "transcript null countevent     0\n",
      "person    0\n",
      "time      0\n",
      "value     0\n",
      "dtype: int64: \n"
     ]
    }
   ],
   "source": [
    "print('transcript statistics  {}:' .format(transcript.describe())) \n",
    "\n",
    "print('transcript data   {}:' .format(transcript.info()))  \n",
    "\n",
    "print('transcript null count{}: ' .format(transcript.isnull().sum())) "
   ]
  },
  {
   "cell_type": "code",
   "execution_count": 15,
   "metadata": {},
   "outputs": [],
   "source": [
    "# cleaning function transcript\n",
    "# credit - https://stackoverflow.com/questions/58383927/convert-series-of-dict-and-concat-to-dataframe\n",
    "#https://stackoverflow.com/questions/38134012/pandas-dataframe-fillna-only-some-columns-in-place\n",
    "\n",
    "def transcript_clean(transcript):\n",
    "\n",
    "    \"\"\" \n",
    "    Clean, select and transform a DataFrame containing the records for transactions,\n",
    "    offer types : received, viewed, completed\n",
    "    INPUT:\n",
    "        transcript: DataFrame containing records of transaction, customer id, time and value\n",
    "                   each offer (duration, type, etc.)\n",
    "    OUTPUT:\n",
    "        transcript: clean and transformed transcript DataFrame\n",
    "    \"\"\"  \n",
    "    # value column contains disctionary with amount, reward and offer id \n",
    "    # it results in nan columns which we will clean later\n",
    "    transcript = pd.concat([transcript, transcript['value'].apply(pd.Series)], axis = 1)\n",
    "    transcript = transcript.assign(**pd.get_dummies(transcript.event.apply(lambda x:pd.Series(x)).stack()\n",
    "                                                    .reset_index(level=1,drop=True)).sum(level=0))\n",
    "    # we will delete offer_id column , it contains duplicate/missing information from offer id related to reward - \n",
    "    #we can fill that information from offer_id column - reward offer id\n",
    "    transcript['offer_id'].fillna(transcript['offer id'],inplace=True)\n",
    "    transcript.rename(columns={'person':'customer_id', 'reward':'reward_given'}, inplace =True)\n",
    "    \n",
    "    #convert number of days - time column to \n",
    "    transcript['time'] = round(transcript['time']/24).astype(int)\n",
    "    #transcript= pd.concat([transcript, pd.get_dummies(transcript['event'])], axis= 1)\n",
    "    transcript.drop(['value', 'offer id','event'], axis=1,inplace=True)\n",
    "\n",
    "    return transcript"
   ]
  },
  {
   "cell_type": "code",
   "execution_count": 16,
   "metadata": {},
   "outputs": [],
   "source": [
    "transcript_df=transcript_clean(transcript)"
   ]
  },
  {
   "cell_type": "code",
   "execution_count": 17,
   "metadata": {},
   "outputs": [
    {
     "data": {
      "text/html": [
       "<div>\n",
       "<style scoped>\n",
       "    .dataframe tbody tr th:only-of-type {\n",
       "        vertical-align: middle;\n",
       "    }\n",
       "\n",
       "    .dataframe tbody tr th {\n",
       "        vertical-align: top;\n",
       "    }\n",
       "\n",
       "    .dataframe thead th {\n",
       "        text-align: right;\n",
       "    }\n",
       "</style>\n",
       "<table border=\"1\" class=\"dataframe\">\n",
       "  <thead>\n",
       "    <tr style=\"text-align: right;\">\n",
       "      <th></th>\n",
       "      <th>customer_id</th>\n",
       "      <th>time</th>\n",
       "      <th>amount</th>\n",
       "      <th>offer_id</th>\n",
       "      <th>reward_given</th>\n",
       "      <th>offer completed</th>\n",
       "      <th>offer received</th>\n",
       "      <th>offer viewed</th>\n",
       "      <th>transaction</th>\n",
       "    </tr>\n",
       "  </thead>\n",
       "  <tbody>\n",
       "    <tr>\n",
       "      <th>0</th>\n",
       "      <td>78afa995795e4d85b5d9ceeca43f5fef</td>\n",
       "      <td>0</td>\n",
       "      <td>NaN</td>\n",
       "      <td>9b98b8c7a33c4b65b9aebfe6a799e6d9</td>\n",
       "      <td>NaN</td>\n",
       "      <td>0</td>\n",
       "      <td>1</td>\n",
       "      <td>0</td>\n",
       "      <td>0</td>\n",
       "    </tr>\n",
       "    <tr>\n",
       "      <th>1</th>\n",
       "      <td>a03223e636434f42ac4c3df47e8bac43</td>\n",
       "      <td>0</td>\n",
       "      <td>NaN</td>\n",
       "      <td>0b1e1539f2cc45b7b9fa7c272da2e1d7</td>\n",
       "      <td>NaN</td>\n",
       "      <td>0</td>\n",
       "      <td>1</td>\n",
       "      <td>0</td>\n",
       "      <td>0</td>\n",
       "    </tr>\n",
       "    <tr>\n",
       "      <th>2</th>\n",
       "      <td>e2127556f4f64592b11af22de27a7932</td>\n",
       "      <td>0</td>\n",
       "      <td>NaN</td>\n",
       "      <td>2906b810c7d4411798c6938adc9daaa5</td>\n",
       "      <td>NaN</td>\n",
       "      <td>0</td>\n",
       "      <td>1</td>\n",
       "      <td>0</td>\n",
       "      <td>0</td>\n",
       "    </tr>\n",
       "    <tr>\n",
       "      <th>3</th>\n",
       "      <td>8ec6ce2a7e7949b1bf142def7d0e0586</td>\n",
       "      <td>0</td>\n",
       "      <td>NaN</td>\n",
       "      <td>fafdcd668e3743c1bb461111dcafc2a4</td>\n",
       "      <td>NaN</td>\n",
       "      <td>0</td>\n",
       "      <td>1</td>\n",
       "      <td>0</td>\n",
       "      <td>0</td>\n",
       "    </tr>\n",
       "    <tr>\n",
       "      <th>4</th>\n",
       "      <td>68617ca6246f4fbc85e91a2a49552598</td>\n",
       "      <td>0</td>\n",
       "      <td>NaN</td>\n",
       "      <td>4d5c57ea9a6940dd891ad53e9dbe8da0</td>\n",
       "      <td>NaN</td>\n",
       "      <td>0</td>\n",
       "      <td>1</td>\n",
       "      <td>0</td>\n",
       "      <td>0</td>\n",
       "    </tr>\n",
       "  </tbody>\n",
       "</table>\n",
       "</div>"
      ],
      "text/plain": [
       "                        customer_id  time  amount  \\\n",
       "0  78afa995795e4d85b5d9ceeca43f5fef     0     NaN   \n",
       "1  a03223e636434f42ac4c3df47e8bac43     0     NaN   \n",
       "2  e2127556f4f64592b11af22de27a7932     0     NaN   \n",
       "3  8ec6ce2a7e7949b1bf142def7d0e0586     0     NaN   \n",
       "4  68617ca6246f4fbc85e91a2a49552598     0     NaN   \n",
       "\n",
       "                           offer_id  reward_given  offer completed  \\\n",
       "0  9b98b8c7a33c4b65b9aebfe6a799e6d9           NaN                0   \n",
       "1  0b1e1539f2cc45b7b9fa7c272da2e1d7           NaN                0   \n",
       "2  2906b810c7d4411798c6938adc9daaa5           NaN                0   \n",
       "3  fafdcd668e3743c1bb461111dcafc2a4           NaN                0   \n",
       "4  4d5c57ea9a6940dd891ad53e9dbe8da0           NaN                0   \n",
       "\n",
       "   offer received  offer viewed  transaction  \n",
       "0               1             0            0  \n",
       "1               1             0            0  \n",
       "2               1             0            0  \n",
       "3               1             0            0  \n",
       "4               1             0            0  "
      ]
     },
     "execution_count": 17,
     "metadata": {},
     "output_type": "execute_result"
    }
   ],
   "source": [
    "transcript_df.head()"
   ]
  },
  {
   "cell_type": "markdown",
   "metadata": {},
   "source": [
    "## Missing Value Analysis \n",
    "Rule of thumb, if there is less than 5% of missing data and features are not important then we can delete. However, We have almost 12.79% missing customer profile. It belongs to gender and income  columns.\n",
    "\n",
    "To further understand mising data : We will have closer look at the combined dataframe. We can check that how it can affect overall segmentation analysis and offer predictions modeling. \n",
    "Total trasaction - 306534\n",
    "total completed offer with nan gender and age/total trasaction = 3.37% missing data \n",
    "checking how many transactions for income and age data with missing values = 10.79%\n",
    "\n",
    "We will delete these values, since offer related missing trasaction data is less than 5%. \n",
    "\n",
    "https://medium.com/@george.drakos62/handling-missing-values-in-machine-learning-part-1-dda69d4f88ca"
   ]
  },
  {
   "cell_type": "code",
   "execution_count": 18,
   "metadata": {},
   "outputs": [
    {
     "name": "stdout",
     "output_type": "stream",
     "text": [
      "age                  0.000000\n",
      "became_member_on     0.000000\n",
      "gender              12.794118\n",
      "id                   0.000000\n",
      "income              12.794118\n",
      "date_time            0.000000\n",
      "membership_years     0.000000\n",
      "dtype: float64\n"
     ]
    }
   ],
   "source": [
    "print(profile.isna().sum()*100/(len(profile)))"
   ]
  },
  {
   "cell_type": "code",
   "execution_count": 19,
   "metadata": {},
   "outputs": [],
   "source": [
    "transcript.rename(columns={'person':'customer_id'}, inplace =True)\n",
    "profile.rename(columns={'id':'customer_id'}, inplace =True)"
   ]
  },
  {
   "cell_type": "code",
   "execution_count": 20,
   "metadata": {},
   "outputs": [],
   "source": [
    "df_merged=pd.merge(transcript, profile, on='customer_id', how='left')"
   ]
  },
  {
   "cell_type": "code",
   "execution_count": 21,
   "metadata": {},
   "outputs": [
    {
     "data": {
      "text/html": [
       "<div>\n",
       "<style scoped>\n",
       "    .dataframe tbody tr th:only-of-type {\n",
       "        vertical-align: middle;\n",
       "    }\n",
       "\n",
       "    .dataframe tbody tr th {\n",
       "        vertical-align: top;\n",
       "    }\n",
       "\n",
       "    .dataframe thead th {\n",
       "        text-align: right;\n",
       "    }\n",
       "</style>\n",
       "<table border=\"1\" class=\"dataframe\">\n",
       "  <thead>\n",
       "    <tr style=\"text-align: right;\">\n",
       "      <th></th>\n",
       "      <th>event</th>\n",
       "      <th>customer_id</th>\n",
       "      <th>time</th>\n",
       "      <th>value</th>\n",
       "      <th>age</th>\n",
       "      <th>became_member_on</th>\n",
       "      <th>gender</th>\n",
       "      <th>income</th>\n",
       "      <th>date_time</th>\n",
       "      <th>membership_years</th>\n",
       "    </tr>\n",
       "  </thead>\n",
       "  <tbody>\n",
       "    <tr>\n",
       "      <th>0</th>\n",
       "      <td>offer received</td>\n",
       "      <td>78afa995795e4d85b5d9ceeca43f5fef</td>\n",
       "      <td>0</td>\n",
       "      <td>{'offer id': '9b98b8c7a33c4b65b9aebfe6a799e6d9'}</td>\n",
       "      <td>75</td>\n",
       "      <td>20170509</td>\n",
       "      <td>F</td>\n",
       "      <td>100000.0</td>\n",
       "      <td>2017-05-09</td>\n",
       "      <td>2.84</td>\n",
       "    </tr>\n",
       "    <tr>\n",
       "      <th>1</th>\n",
       "      <td>offer received</td>\n",
       "      <td>a03223e636434f42ac4c3df47e8bac43</td>\n",
       "      <td>0</td>\n",
       "      <td>{'offer id': '0b1e1539f2cc45b7b9fa7c272da2e1d7'}</td>\n",
       "      <td>118</td>\n",
       "      <td>20170804</td>\n",
       "      <td>None</td>\n",
       "      <td>NaN</td>\n",
       "      <td>2017-08-04</td>\n",
       "      <td>2.60</td>\n",
       "    </tr>\n",
       "    <tr>\n",
       "      <th>2</th>\n",
       "      <td>offer received</td>\n",
       "      <td>e2127556f4f64592b11af22de27a7932</td>\n",
       "      <td>0</td>\n",
       "      <td>{'offer id': '2906b810c7d4411798c6938adc9daaa5'}</td>\n",
       "      <td>68</td>\n",
       "      <td>20180426</td>\n",
       "      <td>M</td>\n",
       "      <td>70000.0</td>\n",
       "      <td>2018-04-26</td>\n",
       "      <td>1.88</td>\n",
       "    </tr>\n",
       "    <tr>\n",
       "      <th>3</th>\n",
       "      <td>offer received</td>\n",
       "      <td>8ec6ce2a7e7949b1bf142def7d0e0586</td>\n",
       "      <td>0</td>\n",
       "      <td>{'offer id': 'fafdcd668e3743c1bb461111dcafc2a4'}</td>\n",
       "      <td>118</td>\n",
       "      <td>20170925</td>\n",
       "      <td>None</td>\n",
       "      <td>NaN</td>\n",
       "      <td>2017-09-25</td>\n",
       "      <td>2.46</td>\n",
       "    </tr>\n",
       "    <tr>\n",
       "      <th>4</th>\n",
       "      <td>offer received</td>\n",
       "      <td>68617ca6246f4fbc85e91a2a49552598</td>\n",
       "      <td>0</td>\n",
       "      <td>{'offer id': '4d5c57ea9a6940dd891ad53e9dbe8da0'}</td>\n",
       "      <td>118</td>\n",
       "      <td>20171002</td>\n",
       "      <td>None</td>\n",
       "      <td>NaN</td>\n",
       "      <td>2017-10-02</td>\n",
       "      <td>2.44</td>\n",
       "    </tr>\n",
       "  </tbody>\n",
       "</table>\n",
       "</div>"
      ],
      "text/plain": [
       "            event                       customer_id  time  \\\n",
       "0  offer received  78afa995795e4d85b5d9ceeca43f5fef     0   \n",
       "1  offer received  a03223e636434f42ac4c3df47e8bac43     0   \n",
       "2  offer received  e2127556f4f64592b11af22de27a7932     0   \n",
       "3  offer received  8ec6ce2a7e7949b1bf142def7d0e0586     0   \n",
       "4  offer received  68617ca6246f4fbc85e91a2a49552598     0   \n",
       "\n",
       "                                              value  age  became_member_on  \\\n",
       "0  {'offer id': '9b98b8c7a33c4b65b9aebfe6a799e6d9'}   75          20170509   \n",
       "1  {'offer id': '0b1e1539f2cc45b7b9fa7c272da2e1d7'}  118          20170804   \n",
       "2  {'offer id': '2906b810c7d4411798c6938adc9daaa5'}   68          20180426   \n",
       "3  {'offer id': 'fafdcd668e3743c1bb461111dcafc2a4'}  118          20170925   \n",
       "4  {'offer id': '4d5c57ea9a6940dd891ad53e9dbe8da0'}  118          20171002   \n",
       "\n",
       "  gender    income  date_time  membership_years  \n",
       "0      F  100000.0 2017-05-09              2.84  \n",
       "1   None       NaN 2017-08-04              2.60  \n",
       "2      M   70000.0 2018-04-26              1.88  \n",
       "3   None       NaN 2017-09-25              2.46  \n",
       "4   None       NaN 2017-10-02              2.44  "
      ]
     },
     "execution_count": 21,
     "metadata": {},
     "output_type": "execute_result"
    }
   ],
   "source": [
    "df_merged.head()"
   ]
  },
  {
   "cell_type": "code",
   "execution_count": 22,
   "metadata": {
    "scrolled": true
   },
   "outputs": [
    {
     "name": "stdout",
     "output_type": "stream",
     "text": [
      "Total Trasactions 306534\n"
     ]
    },
    {
     "data": {
      "text/html": [
       "<div>\n",
       "<style scoped>\n",
       "    .dataframe tbody tr th:only-of-type {\n",
       "        vertical-align: middle;\n",
       "    }\n",
       "\n",
       "    .dataframe tbody tr th {\n",
       "        vertical-align: top;\n",
       "    }\n",
       "\n",
       "    .dataframe thead th {\n",
       "        text-align: right;\n",
       "    }\n",
       "</style>\n",
       "<table border=\"1\" class=\"dataframe\">\n",
       "  <thead>\n",
       "    <tr style=\"text-align: right;\">\n",
       "      <th></th>\n",
       "      <th>Sum_null</th>\n",
       "      <th>Percent Null</th>\n",
       "    </tr>\n",
       "  </thead>\n",
       "  <tbody>\n",
       "    <tr>\n",
       "      <th>income</th>\n",
       "      <td>33772</td>\n",
       "      <td>0.110174</td>\n",
       "    </tr>\n",
       "    <tr>\n",
       "      <th>gender</th>\n",
       "      <td>33772</td>\n",
       "      <td>0.110174</td>\n",
       "    </tr>\n",
       "    <tr>\n",
       "      <th>membership_years</th>\n",
       "      <td>0</td>\n",
       "      <td>0.000000</td>\n",
       "    </tr>\n",
       "    <tr>\n",
       "      <th>date_time</th>\n",
       "      <td>0</td>\n",
       "      <td>0.000000</td>\n",
       "    </tr>\n",
       "    <tr>\n",
       "      <th>became_member_on</th>\n",
       "      <td>0</td>\n",
       "      <td>0.000000</td>\n",
       "    </tr>\n",
       "  </tbody>\n",
       "</table>\n",
       "</div>"
      ],
      "text/plain": [
       "                  Sum_null  Percent Null\n",
       "income               33772      0.110174\n",
       "gender               33772      0.110174\n",
       "membership_years         0      0.000000\n",
       "date_time                0      0.000000\n",
       "became_member_on         0      0.000000"
      ]
     },
     "execution_count": 22,
     "metadata": {},
     "output_type": "execute_result"
    }
   ],
   "source": [
    "# https://medium.com/@george.drakos62/handling-missing-values-in-machine-learning-part-1-dda69d4f88ca\n",
    "#https://stackoverflow.com/questions/26266362/how-to-count-the-nan-values-in-a-column-in-pandas-dataframe/39734251\n",
    "sum_null = df_merged.isna().sum().sort_values(ascending=False)\n",
    "print('Total Trasactions',len(df_merged))\n",
    "percent_null= (df_merged.isna().sum()/df_merged.isna().count()).sort_values(ascending=False)\n",
    "missing_values= pd.concat([sum_null, percent_null], axis=1, keys=['Sum_null', 'Percent Null'])\n",
    "missing_values.head()"
   ]
  },
  {
   "cell_type": "code",
   "execution_count": 23,
   "metadata": {},
   "outputs": [
    {
     "name": "stdout",
     "output_type": "stream",
     "text": [
      "missing offer completed data : 3.3800887459424045\n"
     ]
    }
   ],
   "source": [
    "# We will lose very less offer related information. \n",
    "temp_1=df_merged[(df_merged['gender'].isna())&(df_merged['event']=='offer completed')]\n",
    "temp_2 = df_merged[(df_merged['event']=='offer completed')]\n",
    "print('missing offer completed data :',(len(temp_1)*100)/(len(temp_2)))"
   ]
  },
  {
   "cell_type": "code",
   "execution_count": 24,
   "metadata": {},
   "outputs": [
    {
     "name": "stdout",
     "output_type": "stream",
     "text": [
      "missing  trasaction data : 10.79213834893813\n"
     ]
    }
   ],
   "source": [
    "temp_3 = df_merged[(df_merged['gender'].isna())&(df_merged['event']=='transaction')]\n",
    "temp_4 = df_merged[(df_merged['event']=='transaction')]\n",
    "print('missing  trasaction data :',(len(temp_3)*100)/(len(temp_4)))\n"
   ]
  },
  {
   "cell_type": "code",
   "execution_count": 25,
   "metadata": {},
   "outputs": [
    {
     "data": {
      "text/plain": [
       "<matplotlib.axes._subplots.AxesSubplot at 0x184216edfd0>"
      ]
     },
     "execution_count": 25,
     "metadata": {},
     "output_type": "execute_result"
    },
    {
     "data": {
      "image/png": "[encoded data removed]",
      "text/plain": [
       "<Figure size 432x288 with 1 Axes>"
      ]
     },
     "metadata": {
      "needs_background": "light"
     },
     "output_type": "display_data"
    }
   ],
   "source": [
    "transcript['event'].value_counts().plot.bar()"
   ]
  },
  {
   "cell_type": "code",
   "execution_count": 26,
   "metadata": {},
   "outputs": [
    {
     "data": {
      "image/png": "[encoded data removed]",
      "text/plain": [
       "<Figure size 432x288 with 1 Axes>"
      ]
     },
     "metadata": {
      "needs_background": "light"
     },
     "output_type": "display_data"
    }
   ],
   "source": [
    "#https://stackoverflow.com/questions/43005462/pandas-bar-plot-with-binned-range\n",
    "# plot function everything together\n",
    "import seaborn as sns\n",
    "age_bin = pd.cut(df_merged['age'], bins=[0, 20, 40, 60, 80,100], include_lowest=True)\n",
    "\n",
    "ax = age_bin.value_counts(sort=False).plot.bar(rot=0, color=\"b\", figsize=(6,4))\n",
    "#ax.set_xticklabels([ c[1:-1].replace(\",\",\" to\") for c in age_bin.cat.categories])\n",
    "plt.xlabel('Customer Age range')\n",
    "plt.ylabel('Frequency')\n",
    "plt.title('Customer Age Frequency Distribution')\n",
    "plt.show()"
   ]
  },
  {
   "cell_type": "markdown",
   "metadata": {},
   "source": [
    "## Part II\n",
    "  scaling, and feature engineering. \n"
   ]
  },
  {
   "cell_type": "code",
   "execution_count": 36,
   "metadata": {},
   "outputs": [],
   "source": [
    "df_temp = pd.merge(transcript_df,profile_df, on='customer_id', how='left')\n",
    "demographic_df = pd.merge(df_temp, portfolio_df, on='offer_id', how='left')"
   ]
  },
  {
   "cell_type": "code",
   "execution_count": 37,
   "metadata": {},
   "outputs": [
    {
     "data": {
      "text/html": [
       "<div>\n",
       "<style scoped>\n",
       "    .dataframe tbody tr th:only-of-type {\n",
       "        vertical-align: middle;\n",
       "    }\n",
       "\n",
       "    .dataframe tbody tr th {\n",
       "        vertical-align: top;\n",
       "    }\n",
       "\n",
       "    .dataframe thead th {\n",
       "        text-align: right;\n",
       "    }\n",
       "</style>\n",
       "<table border=\"1\" class=\"dataframe\">\n",
       "  <thead>\n",
       "    <tr style=\"text-align: right;\">\n",
       "      <th></th>\n",
       "      <th>customer_id</th>\n",
       "      <th>time</th>\n",
       "      <th>amount</th>\n",
       "      <th>offer_id</th>\n",
       "      <th>reward_given</th>\n",
       "      <th>offer completed</th>\n",
       "      <th>offer received</th>\n",
       "      <th>offer viewed</th>\n",
       "      <th>transaction</th>\n",
       "      <th>age</th>\n",
       "      <th>...</th>\n",
       "      <th>difficulty</th>\n",
       "      <th>duration</th>\n",
       "      <th>reward_offered</th>\n",
       "      <th>email</th>\n",
       "      <th>mobile</th>\n",
       "      <th>social</th>\n",
       "      <th>web</th>\n",
       "      <th>bogo</th>\n",
       "      <th>discount</th>\n",
       "      <th>informational</th>\n",
       "    </tr>\n",
       "  </thead>\n",
       "  <tbody>\n",
       "    <tr>\n",
       "      <th>0</th>\n",
       "      <td>78afa995795e4d85b5d9ceeca43f5fef</td>\n",
       "      <td>0</td>\n",
       "      <td>NaN</td>\n",
       "      <td>9b98b8c7a33c4b65b9aebfe6a799e6d9</td>\n",
       "      <td>NaN</td>\n",
       "      <td>0</td>\n",
       "      <td>1</td>\n",
       "      <td>0</td>\n",
       "      <td>0</td>\n",
       "      <td>75.0</td>\n",
       "      <td>...</td>\n",
       "      <td>5.0</td>\n",
       "      <td>7.0</td>\n",
       "      <td>5.0</td>\n",
       "      <td>1.0</td>\n",
       "      <td>1.0</td>\n",
       "      <td>0.0</td>\n",
       "      <td>1.0</td>\n",
       "      <td>1.0</td>\n",
       "      <td>0.0</td>\n",
       "      <td>0.0</td>\n",
       "    </tr>\n",
       "    <tr>\n",
       "      <th>1</th>\n",
       "      <td>a03223e636434f42ac4c3df47e8bac43</td>\n",
       "      <td>0</td>\n",
       "      <td>NaN</td>\n",
       "      <td>0b1e1539f2cc45b7b9fa7c272da2e1d7</td>\n",
       "      <td>NaN</td>\n",
       "      <td>0</td>\n",
       "      <td>1</td>\n",
       "      <td>0</td>\n",
       "      <td>0</td>\n",
       "      <td>NaN</td>\n",
       "      <td>...</td>\n",
       "      <td>20.0</td>\n",
       "      <td>10.0</td>\n",
       "      <td>5.0</td>\n",
       "      <td>1.0</td>\n",
       "      <td>0.0</td>\n",
       "      <td>0.0</td>\n",
       "      <td>1.0</td>\n",
       "      <td>0.0</td>\n",
       "      <td>1.0</td>\n",
       "      <td>0.0</td>\n",
       "    </tr>\n",
       "    <tr>\n",
       "      <th>2</th>\n",
       "      <td>e2127556f4f64592b11af22de27a7932</td>\n",
       "      <td>0</td>\n",
       "      <td>NaN</td>\n",
       "      <td>2906b810c7d4411798c6938adc9daaa5</td>\n",
       "      <td>NaN</td>\n",
       "      <td>0</td>\n",
       "      <td>1</td>\n",
       "      <td>0</td>\n",
       "      <td>0</td>\n",
       "      <td>68.0</td>\n",
       "      <td>...</td>\n",
       "      <td>10.0</td>\n",
       "      <td>7.0</td>\n",
       "      <td>2.0</td>\n",
       "      <td>1.0</td>\n",
       "      <td>1.0</td>\n",
       "      <td>0.0</td>\n",
       "      <td>1.0</td>\n",
       "      <td>0.0</td>\n",
       "      <td>1.0</td>\n",
       "      <td>0.0</td>\n",
       "    </tr>\n",
       "    <tr>\n",
       "      <th>3</th>\n",
       "      <td>8ec6ce2a7e7949b1bf142def7d0e0586</td>\n",
       "      <td>0</td>\n",
       "      <td>NaN</td>\n",
       "      <td>fafdcd668e3743c1bb461111dcafc2a4</td>\n",
       "      <td>NaN</td>\n",
       "      <td>0</td>\n",
       "      <td>1</td>\n",
       "      <td>0</td>\n",
       "      <td>0</td>\n",
       "      <td>NaN</td>\n",
       "      <td>...</td>\n",
       "      <td>10.0</td>\n",
       "      <td>10.0</td>\n",
       "      <td>2.0</td>\n",
       "      <td>1.0</td>\n",
       "      <td>1.0</td>\n",
       "      <td>1.0</td>\n",
       "      <td>1.0</td>\n",
       "      <td>0.0</td>\n",
       "      <td>1.0</td>\n",
       "      <td>0.0</td>\n",
       "    </tr>\n",
       "    <tr>\n",
       "      <th>4</th>\n",
       "      <td>68617ca6246f4fbc85e91a2a49552598</td>\n",
       "      <td>0</td>\n",
       "      <td>NaN</td>\n",
       "      <td>4d5c57ea9a6940dd891ad53e9dbe8da0</td>\n",
       "      <td>NaN</td>\n",
       "      <td>0</td>\n",
       "      <td>1</td>\n",
       "      <td>0</td>\n",
       "      <td>0</td>\n",
       "      <td>NaN</td>\n",
       "      <td>...</td>\n",
       "      <td>10.0</td>\n",
       "      <td>5.0</td>\n",
       "      <td>10.0</td>\n",
       "      <td>1.0</td>\n",
       "      <td>1.0</td>\n",
       "      <td>1.0</td>\n",
       "      <td>1.0</td>\n",
       "      <td>1.0</td>\n",
       "      <td>0.0</td>\n",
       "      <td>0.0</td>\n",
       "    </tr>\n",
       "  </tbody>\n",
       "</table>\n",
       "<p>5 rows × 24 columns</p>\n",
       "</div>"
      ],
      "text/plain": [
       "                        customer_id  time  amount  \\\n",
       "0  78afa995795e4d85b5d9ceeca43f5fef     0     NaN   \n",
       "1  a03223e636434f42ac4c3df47e8bac43     0     NaN   \n",
       "2  e2127556f4f64592b11af22de27a7932     0     NaN   \n",
       "3  8ec6ce2a7e7949b1bf142def7d0e0586     0     NaN   \n",
       "4  68617ca6246f4fbc85e91a2a49552598     0     NaN   \n",
       "\n",
       "                           offer_id  reward_given  offer completed  \\\n",
       "0  9b98b8c7a33c4b65b9aebfe6a799e6d9           NaN                0   \n",
       "1  0b1e1539f2cc45b7b9fa7c272da2e1d7           NaN                0   \n",
       "2  2906b810c7d4411798c6938adc9daaa5           NaN                0   \n",
       "3  fafdcd668e3743c1bb461111dcafc2a4           NaN                0   \n",
       "4  4d5c57ea9a6940dd891ad53e9dbe8da0           NaN                0   \n",
       "\n",
       "   offer received  offer viewed  transaction   age  ... difficulty  duration  \\\n",
       "0               1             0            0  75.0  ...        5.0       7.0   \n",
       "1               1             0            0   NaN  ...       20.0      10.0   \n",
       "2               1             0            0  68.0  ...       10.0       7.0   \n",
       "3               1             0            0   NaN  ...       10.0      10.0   \n",
       "4               1             0            0   NaN  ...       10.0       5.0   \n",
       "\n",
       "   reward_offered  email  mobile  social  web  bogo  discount  informational  \n",
       "0             5.0    1.0     1.0     0.0  1.0   1.0       0.0            0.0  \n",
       "1             5.0    1.0     0.0     0.0  1.0   0.0       1.0            0.0  \n",
       "2             2.0    1.0     1.0     0.0  1.0   0.0       1.0            0.0  \n",
       "3             2.0    1.0     1.0     1.0  1.0   0.0       1.0            0.0  \n",
       "4            10.0    1.0     1.0     1.0  1.0   1.0       0.0            0.0  \n",
       "\n",
       "[5 rows x 24 columns]"
      ]
     },
     "execution_count": 37,
     "metadata": {},
     "output_type": "execute_result"
    }
   ],
   "source": [
    "demographic_df.head()"
   ]
  },
  {
   "cell_type": "markdown",
   "metadata": {},
   "source": [
    "1) Offer receive --- offer completed\n",
    "2) offer reeived---offer viwed --- trasaction --offer completed\n",
    "3) offer received --- offer viewed --(unsuccessful offer)\n",
    "4) trasaction - no reward and no offer id\n",
    "5) offer received- offer completed -- trasaction --offer viewed \n"
   ]
  },
  {
   "cell_type": "code",
   "execution_count": 38,
   "metadata": {},
   "outputs": [
    {
     "data": {
      "text/html": [
       "<div>\n",
       "<style scoped>\n",
       "    .dataframe tbody tr th:only-of-type {\n",
       "        vertical-align: middle;\n",
       "    }\n",
       "\n",
       "    .dataframe tbody tr th {\n",
       "        vertical-align: top;\n",
       "    }\n",
       "\n",
       "    .dataframe thead th {\n",
       "        text-align: right;\n",
       "    }\n",
       "</style>\n",
       "<table border=\"1\" class=\"dataframe\">\n",
       "  <thead>\n",
       "    <tr style=\"text-align: right;\">\n",
       "      <th></th>\n",
       "      <th>customer_id</th>\n",
       "      <th>time</th>\n",
       "      <th>amount</th>\n",
       "      <th>offer_id</th>\n",
       "      <th>reward_given</th>\n",
       "      <th>offer completed</th>\n",
       "      <th>offer received</th>\n",
       "      <th>offer viewed</th>\n",
       "      <th>transaction</th>\n",
       "      <th>age</th>\n",
       "      <th>...</th>\n",
       "      <th>difficulty</th>\n",
       "      <th>duration</th>\n",
       "      <th>reward_offered</th>\n",
       "      <th>email</th>\n",
       "      <th>mobile</th>\n",
       "      <th>social</th>\n",
       "      <th>web</th>\n",
       "      <th>bogo</th>\n",
       "      <th>discount</th>\n",
       "      <th>informational</th>\n",
       "    </tr>\n",
       "  </thead>\n",
       "  <tbody>\n",
       "    <tr>\n",
       "      <th>20282</th>\n",
       "      <td>0610b486422d4921ae7d2bf64640c50b</td>\n",
       "      <td>1</td>\n",
       "      <td>21.51</td>\n",
       "      <td>NaN</td>\n",
       "      <td>NaN</td>\n",
       "      <td>0</td>\n",
       "      <td>0</td>\n",
       "      <td>0</td>\n",
       "      <td>1</td>\n",
       "      <td>55.0</td>\n",
       "      <td>...</td>\n",
       "      <td>NaN</td>\n",
       "      <td>NaN</td>\n",
       "      <td>NaN</td>\n",
       "      <td>NaN</td>\n",
       "      <td>NaN</td>\n",
       "      <td>NaN</td>\n",
       "      <td>NaN</td>\n",
       "      <td>NaN</td>\n",
       "      <td>NaN</td>\n",
       "      <td>NaN</td>\n",
       "    </tr>\n",
       "    <tr>\n",
       "      <th>49501</th>\n",
       "      <td>0610b486422d4921ae7d2bf64640c50b</td>\n",
       "      <td>6</td>\n",
       "      <td>32.28</td>\n",
       "      <td>NaN</td>\n",
       "      <td>NaN</td>\n",
       "      <td>0</td>\n",
       "      <td>0</td>\n",
       "      <td>0</td>\n",
       "      <td>1</td>\n",
       "      <td>55.0</td>\n",
       "      <td>...</td>\n",
       "      <td>NaN</td>\n",
       "      <td>NaN</td>\n",
       "      <td>NaN</td>\n",
       "      <td>NaN</td>\n",
       "      <td>NaN</td>\n",
       "      <td>NaN</td>\n",
       "      <td>NaN</td>\n",
       "      <td>NaN</td>\n",
       "      <td>NaN</td>\n",
       "      <td>NaN</td>\n",
       "    </tr>\n",
       "    <tr>\n",
       "      <th>150597</th>\n",
       "      <td>0610b486422d4921ae7d2bf64640c50b</td>\n",
       "      <td>17</td>\n",
       "      <td>NaN</td>\n",
       "      <td>9b98b8c7a33c4b65b9aebfe6a799e6d9</td>\n",
       "      <td>NaN</td>\n",
       "      <td>0</td>\n",
       "      <td>1</td>\n",
       "      <td>0</td>\n",
       "      <td>0</td>\n",
       "      <td>55.0</td>\n",
       "      <td>...</td>\n",
       "      <td>5.0</td>\n",
       "      <td>7.0</td>\n",
       "      <td>5.0</td>\n",
       "      <td>1.0</td>\n",
       "      <td>1.0</td>\n",
       "      <td>0.0</td>\n",
       "      <td>1.0</td>\n",
       "      <td>1.0</td>\n",
       "      <td>0.0</td>\n",
       "      <td>0.0</td>\n",
       "    </tr>\n",
       "    <tr>\n",
       "      <th>201571</th>\n",
       "      <td>0610b486422d4921ae7d2bf64640c50b</td>\n",
       "      <td>21</td>\n",
       "      <td>NaN</td>\n",
       "      <td>3f207df678b143eea3cee63160fa8bed</td>\n",
       "      <td>NaN</td>\n",
       "      <td>0</td>\n",
       "      <td>1</td>\n",
       "      <td>0</td>\n",
       "      <td>0</td>\n",
       "      <td>55.0</td>\n",
       "      <td>...</td>\n",
       "      <td>0.0</td>\n",
       "      <td>4.0</td>\n",
       "      <td>0.0</td>\n",
       "      <td>1.0</td>\n",
       "      <td>1.0</td>\n",
       "      <td>0.0</td>\n",
       "      <td>1.0</td>\n",
       "      <td>0.0</td>\n",
       "      <td>0.0</td>\n",
       "      <td>1.0</td>\n",
       "    </tr>\n",
       "    <tr>\n",
       "      <th>227842</th>\n",
       "      <td>0610b486422d4921ae7d2bf64640c50b</td>\n",
       "      <td>22</td>\n",
       "      <td>23.22</td>\n",
       "      <td>NaN</td>\n",
       "      <td>NaN</td>\n",
       "      <td>0</td>\n",
       "      <td>0</td>\n",
       "      <td>0</td>\n",
       "      <td>1</td>\n",
       "      <td>55.0</td>\n",
       "      <td>...</td>\n",
       "      <td>NaN</td>\n",
       "      <td>NaN</td>\n",
       "      <td>NaN</td>\n",
       "      <td>NaN</td>\n",
       "      <td>NaN</td>\n",
       "      <td>NaN</td>\n",
       "      <td>NaN</td>\n",
       "      <td>NaN</td>\n",
       "      <td>NaN</td>\n",
       "      <td>NaN</td>\n",
       "    </tr>\n",
       "  </tbody>\n",
       "</table>\n",
       "<p>5 rows × 24 columns</p>\n",
       "</div>"
      ],
      "text/plain": [
       "                             customer_id  time  amount  \\\n",
       "20282   0610b486422d4921ae7d2bf64640c50b     1   21.51   \n",
       "49501   0610b486422d4921ae7d2bf64640c50b     6   32.28   \n",
       "150597  0610b486422d4921ae7d2bf64640c50b    17     NaN   \n",
       "201571  0610b486422d4921ae7d2bf64640c50b    21     NaN   \n",
       "227842  0610b486422d4921ae7d2bf64640c50b    22   23.22   \n",
       "\n",
       "                                offer_id  reward_given  offer completed  \\\n",
       "20282                                NaN           NaN                0   \n",
       "49501                                NaN           NaN                0   \n",
       "150597  9b98b8c7a33c4b65b9aebfe6a799e6d9           NaN                0   \n",
       "201571  3f207df678b143eea3cee63160fa8bed           NaN                0   \n",
       "227842                               NaN           NaN                0   \n",
       "\n",
       "        offer received  offer viewed  transaction   age  ... difficulty  \\\n",
       "20282                0             0            1  55.0  ...        NaN   \n",
       "49501                0             0            1  55.0  ...        NaN   \n",
       "150597               1             0            0  55.0  ...        5.0   \n",
       "201571               1             0            0  55.0  ...        0.0   \n",
       "227842               0             0            1  55.0  ...        NaN   \n",
       "\n",
       "        duration  reward_offered  email  mobile  social  web  bogo  discount  \\\n",
       "20282        NaN             NaN    NaN     NaN     NaN  NaN   NaN       NaN   \n",
       "49501        NaN             NaN    NaN     NaN     NaN  NaN   NaN       NaN   \n",
       "150597       7.0             5.0    1.0     1.0     0.0  1.0   1.0       0.0   \n",
       "201571       4.0             0.0    1.0     1.0     0.0  1.0   0.0       0.0   \n",
       "227842       NaN             NaN    NaN     NaN     NaN  NaN   NaN       NaN   \n",
       "\n",
       "        informational  \n",
       "20282             NaN  \n",
       "49501             NaN  \n",
       "150597            0.0  \n",
       "201571            1.0  \n",
       "227842            NaN  \n",
       "\n",
       "[5 rows x 24 columns]"
      ]
     },
     "execution_count": 38,
     "metadata": {},
     "output_type": "execute_result"
    }
   ],
   "source": [
    "demographic_df[demographic_df['customer_id'].str.match('0610b486422d4921ae7d2bf64640c50b')].head()"
   ]
  },
  {
   "cell_type": "code",
   "execution_count": 39,
   "metadata": {
    "scrolled": false
   },
   "outputs": [
    {
     "data": {
      "text/html": [
       "<div>\n",
       "<style scoped>\n",
       "    .dataframe tbody tr th:only-of-type {\n",
       "        vertical-align: middle;\n",
       "    }\n",
       "\n",
       "    .dataframe tbody tr th {\n",
       "        vertical-align: top;\n",
       "    }\n",
       "\n",
       "    .dataframe thead th {\n",
       "        text-align: right;\n",
       "    }\n",
       "</style>\n",
       "<table border=\"1\" class=\"dataframe\">\n",
       "  <thead>\n",
       "    <tr style=\"text-align: right;\">\n",
       "      <th></th>\n",
       "      <th>customer_id</th>\n",
       "      <th>time</th>\n",
       "      <th>amount</th>\n",
       "      <th>offer_id</th>\n",
       "      <th>reward_given</th>\n",
       "      <th>offer completed</th>\n",
       "      <th>offer received</th>\n",
       "      <th>offer viewed</th>\n",
       "      <th>transaction</th>\n",
       "      <th>age</th>\n",
       "      <th>...</th>\n",
       "      <th>difficulty</th>\n",
       "      <th>duration</th>\n",
       "      <th>reward_offered</th>\n",
       "      <th>email</th>\n",
       "      <th>mobile</th>\n",
       "      <th>social</th>\n",
       "      <th>web</th>\n",
       "      <th>bogo</th>\n",
       "      <th>discount</th>\n",
       "      <th>informational</th>\n",
       "    </tr>\n",
       "  </thead>\n",
       "  <tbody>\n",
       "    <tr>\n",
       "      <th>20282</th>\n",
       "      <td>0610b486422d4921ae7d2bf64640c50b</td>\n",
       "      <td>1</td>\n",
       "      <td>21.51</td>\n",
       "      <td>NaN</td>\n",
       "      <td>NaN</td>\n",
       "      <td>0</td>\n",
       "      <td>0</td>\n",
       "      <td>0</td>\n",
       "      <td>1</td>\n",
       "      <td>55.0</td>\n",
       "      <td>...</td>\n",
       "      <td>NaN</td>\n",
       "      <td>NaN</td>\n",
       "      <td>NaN</td>\n",
       "      <td>NaN</td>\n",
       "      <td>NaN</td>\n",
       "      <td>NaN</td>\n",
       "      <td>NaN</td>\n",
       "      <td>NaN</td>\n",
       "      <td>NaN</td>\n",
       "      <td>NaN</td>\n",
       "    </tr>\n",
       "    <tr>\n",
       "      <th>49501</th>\n",
       "      <td>0610b486422d4921ae7d2bf64640c50b</td>\n",
       "      <td>6</td>\n",
       "      <td>32.28</td>\n",
       "      <td>NaN</td>\n",
       "      <td>NaN</td>\n",
       "      <td>0</td>\n",
       "      <td>0</td>\n",
       "      <td>0</td>\n",
       "      <td>1</td>\n",
       "      <td>55.0</td>\n",
       "      <td>...</td>\n",
       "      <td>NaN</td>\n",
       "      <td>NaN</td>\n",
       "      <td>NaN</td>\n",
       "      <td>NaN</td>\n",
       "      <td>NaN</td>\n",
       "      <td>NaN</td>\n",
       "      <td>NaN</td>\n",
       "      <td>NaN</td>\n",
       "      <td>NaN</td>\n",
       "      <td>NaN</td>\n",
       "    </tr>\n",
       "    <tr>\n",
       "      <th>150597</th>\n",
       "      <td>0610b486422d4921ae7d2bf64640c50b</td>\n",
       "      <td>17</td>\n",
       "      <td>NaN</td>\n",
       "      <td>9b98b8c7a33c4b65b9aebfe6a799e6d9</td>\n",
       "      <td>NaN</td>\n",
       "      <td>0</td>\n",
       "      <td>1</td>\n",
       "      <td>0</td>\n",
       "      <td>0</td>\n",
       "      <td>55.0</td>\n",
       "      <td>...</td>\n",
       "      <td>5.0</td>\n",
       "      <td>7.0</td>\n",
       "      <td>5.0</td>\n",
       "      <td>1.0</td>\n",
       "      <td>1.0</td>\n",
       "      <td>0.0</td>\n",
       "      <td>1.0</td>\n",
       "      <td>1.0</td>\n",
       "      <td>0.0</td>\n",
       "      <td>0.0</td>\n",
       "    </tr>\n",
       "    <tr>\n",
       "      <th>201571</th>\n",
       "      <td>0610b486422d4921ae7d2bf64640c50b</td>\n",
       "      <td>21</td>\n",
       "      <td>NaN</td>\n",
       "      <td>3f207df678b143eea3cee63160fa8bed</td>\n",
       "      <td>NaN</td>\n",
       "      <td>0</td>\n",
       "      <td>1</td>\n",
       "      <td>0</td>\n",
       "      <td>0</td>\n",
       "      <td>55.0</td>\n",
       "      <td>...</td>\n",
       "      <td>0.0</td>\n",
       "      <td>4.0</td>\n",
       "      <td>0.0</td>\n",
       "      <td>1.0</td>\n",
       "      <td>1.0</td>\n",
       "      <td>0.0</td>\n",
       "      <td>1.0</td>\n",
       "      <td>0.0</td>\n",
       "      <td>0.0</td>\n",
       "      <td>1.0</td>\n",
       "    </tr>\n",
       "    <tr>\n",
       "      <th>227842</th>\n",
       "      <td>0610b486422d4921ae7d2bf64640c50b</td>\n",
       "      <td>22</td>\n",
       "      <td>23.22</td>\n",
       "      <td>NaN</td>\n",
       "      <td>NaN</td>\n",
       "      <td>0</td>\n",
       "      <td>0</td>\n",
       "      <td>0</td>\n",
       "      <td>1</td>\n",
       "      <td>55.0</td>\n",
       "      <td>...</td>\n",
       "      <td>NaN</td>\n",
       "      <td>NaN</td>\n",
       "      <td>NaN</td>\n",
       "      <td>NaN</td>\n",
       "      <td>NaN</td>\n",
       "      <td>NaN</td>\n",
       "      <td>NaN</td>\n",
       "      <td>NaN</td>\n",
       "      <td>NaN</td>\n",
       "      <td>NaN</td>\n",
       "    </tr>\n",
       "  </tbody>\n",
       "</table>\n",
       "<p>5 rows × 24 columns</p>\n",
       "</div>"
      ],
      "text/plain": [
       "                             customer_id  time  amount  \\\n",
       "20282   0610b486422d4921ae7d2bf64640c50b     1   21.51   \n",
       "49501   0610b486422d4921ae7d2bf64640c50b     6   32.28   \n",
       "150597  0610b486422d4921ae7d2bf64640c50b    17     NaN   \n",
       "201571  0610b486422d4921ae7d2bf64640c50b    21     NaN   \n",
       "227842  0610b486422d4921ae7d2bf64640c50b    22   23.22   \n",
       "\n",
       "                                offer_id  reward_given  offer completed  \\\n",
       "20282                                NaN           NaN                0   \n",
       "49501                                NaN           NaN                0   \n",
       "150597  9b98b8c7a33c4b65b9aebfe6a799e6d9           NaN                0   \n",
       "201571  3f207df678b143eea3cee63160fa8bed           NaN                0   \n",
       "227842                               NaN           NaN                0   \n",
       "\n",
       "        offer received  offer viewed  transaction   age  ... difficulty  \\\n",
       "20282                0             0            1  55.0  ...        NaN   \n",
       "49501                0             0            1  55.0  ...        NaN   \n",
       "150597               1             0            0  55.0  ...        5.0   \n",
       "201571               1             0            0  55.0  ...        0.0   \n",
       "227842               0             0            1  55.0  ...        NaN   \n",
       "\n",
       "        duration  reward_offered  email  mobile  social  web  bogo  discount  \\\n",
       "20282        NaN             NaN    NaN     NaN     NaN  NaN   NaN       NaN   \n",
       "49501        NaN             NaN    NaN     NaN     NaN  NaN   NaN       NaN   \n",
       "150597       7.0             5.0    1.0     1.0     0.0  1.0   1.0       0.0   \n",
       "201571       4.0             0.0    1.0     1.0     0.0  1.0   0.0       0.0   \n",
       "227842       NaN             NaN    NaN     NaN     NaN  NaN   NaN       NaN   \n",
       "\n",
       "        informational  \n",
       "20282             NaN  \n",
       "49501             NaN  \n",
       "150597            0.0  \n",
       "201571            1.0  \n",
       "227842            NaN  \n",
       "\n",
       "[5 rows x 24 columns]"
      ]
     },
     "execution_count": 39,
     "metadata": {},
     "output_type": "execute_result"
    }
   ],
   "source": [
    "demographic_df[demographic_df['customer_id'].str.match('0610b486422d4921ae7d2bf64640c50b')].head()"
   ]
  },
  {
   "cell_type": "code",
   "execution_count": 40,
   "metadata": {},
   "outputs": [],
   "source": [
    "cols = ['amount', 'reward_given', 'offer completed', 'offer received', 'offer viewed', 'transaction', 'reward_offered', 'email', 'mobile', 'social', 'web', 'bogo', 'informational', 'discount']\n",
    "cols_keep= ['age', 'gender', 'income', 'membership_years', 'year', 'time', 'offer_id', 'difficulty', 'duration']\n",
    "\n",
    "df_temp2= demographic_df.groupby(['customer_id','age', 'gender', 'income', 'membership_years', 'year'])[cols].sum().reset_index()"
   ]
  },
  {
   "cell_type": "code",
   "execution_count": 41,
   "metadata": {
    "scrolled": false
   },
   "outputs": [
    {
     "data": {
      "text/html": [
       "<div>\n",
       "<style scoped>\n",
       "    .dataframe tbody tr th:only-of-type {\n",
       "        vertical-align: middle;\n",
       "    }\n",
       "\n",
       "    .dataframe tbody tr th {\n",
       "        vertical-align: top;\n",
       "    }\n",
       "\n",
       "    .dataframe thead th {\n",
       "        text-align: right;\n",
       "    }\n",
       "</style>\n",
       "<table border=\"1\" class=\"dataframe\">\n",
       "  <thead>\n",
       "    <tr style=\"text-align: right;\">\n",
       "      <th></th>\n",
       "      <th>customer_id</th>\n",
       "      <th>age</th>\n",
       "      <th>gender</th>\n",
       "      <th>income</th>\n",
       "      <th>membership_years</th>\n",
       "      <th>year</th>\n",
       "      <th>amount</th>\n",
       "      <th>reward_given</th>\n",
       "      <th>offer completed</th>\n",
       "      <th>offer received</th>\n",
       "      <th>offer viewed</th>\n",
       "      <th>transaction</th>\n",
       "      <th>reward_offered</th>\n",
       "      <th>email</th>\n",
       "      <th>mobile</th>\n",
       "      <th>social</th>\n",
       "      <th>web</th>\n",
       "      <th>bogo</th>\n",
       "      <th>informational</th>\n",
       "      <th>discount</th>\n",
       "    </tr>\n",
       "  </thead>\n",
       "  <tbody>\n",
       "    <tr>\n",
       "      <th>0</th>\n",
       "      <td>0009655768c64bdeb2e877511632db8f</td>\n",
       "      <td>33.0</td>\n",
       "      <td>M</td>\n",
       "      <td>72000.0</td>\n",
       "      <td>2.89</td>\n",
       "      <td>2017.0</td>\n",
       "      <td>127.60</td>\n",
       "      <td>9.0</td>\n",
       "      <td>3</td>\n",
       "      <td>5</td>\n",
       "      <td>4</td>\n",
       "      <td>8</td>\n",
       "      <td>25.0</td>\n",
       "      <td>12.0</td>\n",
       "      <td>12.0</td>\n",
       "      <td>8.0</td>\n",
       "      <td>10.0</td>\n",
       "      <td>3.0</td>\n",
       "      <td>4.0</td>\n",
       "      <td>5.0</td>\n",
       "    </tr>\n",
       "    <tr>\n",
       "      <th>1</th>\n",
       "      <td>0011e0d4e6b944f998e987f904e8c1e5</td>\n",
       "      <td>40.0</td>\n",
       "      <td>O</td>\n",
       "      <td>57000.0</td>\n",
       "      <td>2.17</td>\n",
       "      <td>2018.0</td>\n",
       "      <td>79.46</td>\n",
       "      <td>13.0</td>\n",
       "      <td>3</td>\n",
       "      <td>5</td>\n",
       "      <td>5</td>\n",
       "      <td>5</td>\n",
       "      <td>39.0</td>\n",
       "      <td>13.0</td>\n",
       "      <td>10.0</td>\n",
       "      <td>5.0</td>\n",
       "      <td>11.0</td>\n",
       "      <td>3.0</td>\n",
       "      <td>4.0</td>\n",
       "      <td>6.0</td>\n",
       "    </tr>\n",
       "    <tr>\n",
       "      <th>2</th>\n",
       "      <td>0020c2b971eb4e9188eac86d93036a77</td>\n",
       "      <td>59.0</td>\n",
       "      <td>F</td>\n",
       "      <td>90000.0</td>\n",
       "      <td>4.02</td>\n",
       "      <td>2016.0</td>\n",
       "      <td>196.86</td>\n",
       "      <td>14.0</td>\n",
       "      <td>3</td>\n",
       "      <td>5</td>\n",
       "      <td>3</td>\n",
       "      <td>8</td>\n",
       "      <td>50.0</td>\n",
       "      <td>11.0</td>\n",
       "      <td>11.0</td>\n",
       "      <td>11.0</td>\n",
       "      <td>8.0</td>\n",
       "      <td>4.0</td>\n",
       "      <td>2.0</td>\n",
       "      <td>5.0</td>\n",
       "    </tr>\n",
       "    <tr>\n",
       "      <th>3</th>\n",
       "      <td>0020ccbbb6d84e358d3414a3ff76cffd</td>\n",
       "      <td>24.0</td>\n",
       "      <td>F</td>\n",
       "      <td>60000.0</td>\n",
       "      <td>3.33</td>\n",
       "      <td>2016.0</td>\n",
       "      <td>154.05</td>\n",
       "      <td>13.0</td>\n",
       "      <td>3</td>\n",
       "      <td>4</td>\n",
       "      <td>4</td>\n",
       "      <td>12</td>\n",
       "      <td>39.0</td>\n",
       "      <td>11.0</td>\n",
       "      <td>11.0</td>\n",
       "      <td>8.0</td>\n",
       "      <td>9.0</td>\n",
       "      <td>6.0</td>\n",
       "      <td>2.0</td>\n",
       "      <td>3.0</td>\n",
       "    </tr>\n",
       "    <tr>\n",
       "      <th>4</th>\n",
       "      <td>003d66b6608740288d6cc97a6903f4f0</td>\n",
       "      <td>26.0</td>\n",
       "      <td>F</td>\n",
       "      <td>73000.0</td>\n",
       "      <td>2.72</td>\n",
       "      <td>2017.0</td>\n",
       "      <td>48.34</td>\n",
       "      <td>9.0</td>\n",
       "      <td>3</td>\n",
       "      <td>5</td>\n",
       "      <td>4</td>\n",
       "      <td>18</td>\n",
       "      <td>22.0</td>\n",
       "      <td>12.0</td>\n",
       "      <td>10.0</td>\n",
       "      <td>8.0</td>\n",
       "      <td>10.0</td>\n",
       "      <td>0.0</td>\n",
       "      <td>4.0</td>\n",
       "      <td>8.0</td>\n",
       "    </tr>\n",
       "  </tbody>\n",
       "</table>\n",
       "</div>"
      ],
      "text/plain": [
       "                        customer_id   age gender   income  membership_years  \\\n",
       "0  0009655768c64bdeb2e877511632db8f  33.0      M  72000.0              2.89   \n",
       "1  0011e0d4e6b944f998e987f904e8c1e5  40.0      O  57000.0              2.17   \n",
       "2  0020c2b971eb4e9188eac86d93036a77  59.0      F  90000.0              4.02   \n",
       "3  0020ccbbb6d84e358d3414a3ff76cffd  24.0      F  60000.0              3.33   \n",
       "4  003d66b6608740288d6cc97a6903f4f0  26.0      F  73000.0              2.72   \n",
       "\n",
       "     year  amount  reward_given  offer completed  offer received  \\\n",
       "0  2017.0  127.60           9.0                3               5   \n",
       "1  2018.0   79.46          13.0                3               5   \n",
       "2  2016.0  196.86          14.0                3               5   \n",
       "3  2016.0  154.05          13.0                3               4   \n",
       "4  2017.0   48.34           9.0                3               5   \n",
       "\n",
       "   offer viewed  transaction  reward_offered  email  mobile  social   web  \\\n",
       "0             4            8            25.0   12.0    12.0     8.0  10.0   \n",
       "1             5            5            39.0   13.0    10.0     5.0  11.0   \n",
       "2             3            8            50.0   11.0    11.0    11.0   8.0   \n",
       "3             4           12            39.0   11.0    11.0     8.0   9.0   \n",
       "4             4           18            22.0   12.0    10.0     8.0  10.0   \n",
       "\n",
       "   bogo  informational  discount  \n",
       "0   3.0            4.0       5.0  \n",
       "1   3.0            4.0       6.0  \n",
       "2   4.0            2.0       5.0  \n",
       "3   6.0            2.0       3.0  \n",
       "4   0.0            4.0       8.0  "
      ]
     },
     "execution_count": 41,
     "metadata": {},
     "output_type": "execute_result"
    }
   ],
   "source": [
    "df_temp2.head()"
   ]
  },
  {
   "cell_type": "code",
   "execution_count": 43,
   "metadata": {
    "scrolled": true
   },
   "outputs": [
    {
     "data": {
      "text/html": [
       "<div>\n",
       "<style scoped>\n",
       "    .dataframe tbody tr th:only-of-type {\n",
       "        vertical-align: middle;\n",
       "    }\n",
       "\n",
       "    .dataframe tbody tr th {\n",
       "        vertical-align: top;\n",
       "    }\n",
       "\n",
       "    .dataframe thead th {\n",
       "        text-align: right;\n",
       "    }\n",
       "</style>\n",
       "<table border=\"1\" class=\"dataframe\">\n",
       "  <thead>\n",
       "    <tr style=\"text-align: right;\">\n",
       "      <th></th>\n",
       "      <th>customer_id</th>\n",
       "      <th>time</th>\n",
       "      <th>amount</th>\n",
       "      <th>offer_id</th>\n",
       "      <th>reward_given</th>\n",
       "      <th>offer completed</th>\n",
       "      <th>offer received</th>\n",
       "      <th>offer viewed</th>\n",
       "      <th>transaction</th>\n",
       "      <th>age</th>\n",
       "      <th>...</th>\n",
       "      <th>difficulty</th>\n",
       "      <th>duration</th>\n",
       "      <th>reward_offered</th>\n",
       "      <th>email</th>\n",
       "      <th>mobile</th>\n",
       "      <th>social</th>\n",
       "      <th>web</th>\n",
       "      <th>bogo</th>\n",
       "      <th>discount</th>\n",
       "      <th>informational</th>\n",
       "    </tr>\n",
       "  </thead>\n",
       "  <tbody>\n",
       "    <tr>\n",
       "      <th>1889</th>\n",
       "      <td>0020c2b971eb4e9188eac86d93036a77</td>\n",
       "      <td>0</td>\n",
       "      <td>NaN</td>\n",
       "      <td>fafdcd668e3743c1bb461111dcafc2a4</td>\n",
       "      <td>NaN</td>\n",
       "      <td>0</td>\n",
       "      <td>1</td>\n",
       "      <td>0</td>\n",
       "      <td>0</td>\n",
       "      <td>59.0</td>\n",
       "      <td>...</td>\n",
       "      <td>10.0</td>\n",
       "      <td>10.0</td>\n",
       "      <td>2.0</td>\n",
       "      <td>1.0</td>\n",
       "      <td>1.0</td>\n",
       "      <td>1.0</td>\n",
       "      <td>1.0</td>\n",
       "      <td>0.0</td>\n",
       "      <td>1.0</td>\n",
       "      <td>0.0</td>\n",
       "    </tr>\n",
       "    <tr>\n",
       "      <th>18431</th>\n",
       "      <td>0020c2b971eb4e9188eac86d93036a77</td>\n",
       "      <td>0</td>\n",
       "      <td>NaN</td>\n",
       "      <td>fafdcd668e3743c1bb461111dcafc2a4</td>\n",
       "      <td>NaN</td>\n",
       "      <td>0</td>\n",
       "      <td>0</td>\n",
       "      <td>1</td>\n",
       "      <td>0</td>\n",
       "      <td>59.0</td>\n",
       "      <td>...</td>\n",
       "      <td>10.0</td>\n",
       "      <td>10.0</td>\n",
       "      <td>2.0</td>\n",
       "      <td>1.0</td>\n",
       "      <td>1.0</td>\n",
       "      <td>1.0</td>\n",
       "      <td>1.0</td>\n",
       "      <td>0.0</td>\n",
       "      <td>1.0</td>\n",
       "      <td>0.0</td>\n",
       "    </tr>\n",
       "    <tr>\n",
       "      <th>31326</th>\n",
       "      <td>0020c2b971eb4e9188eac86d93036a77</td>\n",
       "      <td>2</td>\n",
       "      <td>17.63</td>\n",
       "      <td>NaN</td>\n",
       "      <td>NaN</td>\n",
       "      <td>0</td>\n",
       "      <td>0</td>\n",
       "      <td>0</td>\n",
       "      <td>1</td>\n",
       "      <td>59.0</td>\n",
       "      <td>...</td>\n",
       "      <td>NaN</td>\n",
       "      <td>NaN</td>\n",
       "      <td>NaN</td>\n",
       "      <td>NaN</td>\n",
       "      <td>NaN</td>\n",
       "      <td>NaN</td>\n",
       "      <td>NaN</td>\n",
       "      <td>NaN</td>\n",
       "      <td>NaN</td>\n",
       "      <td>NaN</td>\n",
       "    </tr>\n",
       "    <tr>\n",
       "      <th>31327</th>\n",
       "      <td>0020c2b971eb4e9188eac86d93036a77</td>\n",
       "      <td>2</td>\n",
       "      <td>NaN</td>\n",
       "      <td>fafdcd668e3743c1bb461111dcafc2a4</td>\n",
       "      <td>2.0</td>\n",
       "      <td>1</td>\n",
       "      <td>0</td>\n",
       "      <td>0</td>\n",
       "      <td>0</td>\n",
       "      <td>59.0</td>\n",
       "      <td>...</td>\n",
       "      <td>10.0</td>\n",
       "      <td>10.0</td>\n",
       "      <td>2.0</td>\n",
       "      <td>1.0</td>\n",
       "      <td>1.0</td>\n",
       "      <td>1.0</td>\n",
       "      <td>1.0</td>\n",
       "      <td>0.0</td>\n",
       "      <td>1.0</td>\n",
       "      <td>0.0</td>\n",
       "    </tr>\n",
       "    <tr>\n",
       "      <th>34287</th>\n",
       "      <td>0020c2b971eb4e9188eac86d93036a77</td>\n",
       "      <td>3</td>\n",
       "      <td>32.00</td>\n",
       "      <td>NaN</td>\n",
       "      <td>NaN</td>\n",
       "      <td>0</td>\n",
       "      <td>0</td>\n",
       "      <td>0</td>\n",
       "      <td>1</td>\n",
       "      <td>59.0</td>\n",
       "      <td>...</td>\n",
       "      <td>NaN</td>\n",
       "      <td>NaN</td>\n",
       "      <td>NaN</td>\n",
       "      <td>NaN</td>\n",
       "      <td>NaN</td>\n",
       "      <td>NaN</td>\n",
       "      <td>NaN</td>\n",
       "      <td>NaN</td>\n",
       "      <td>NaN</td>\n",
       "      <td>NaN</td>\n",
       "    </tr>\n",
       "  </tbody>\n",
       "</table>\n",
       "<p>5 rows × 24 columns</p>\n",
       "</div>"
      ],
      "text/plain": [
       "                            customer_id  time  amount  \\\n",
       "1889   0020c2b971eb4e9188eac86d93036a77     0     NaN   \n",
       "18431  0020c2b971eb4e9188eac86d93036a77     0     NaN   \n",
       "31326  0020c2b971eb4e9188eac86d93036a77     2   17.63   \n",
       "31327  0020c2b971eb4e9188eac86d93036a77     2     NaN   \n",
       "34287  0020c2b971eb4e9188eac86d93036a77     3   32.00   \n",
       "\n",
       "                               offer_id  reward_given  offer completed  \\\n",
       "1889   fafdcd668e3743c1bb461111dcafc2a4           NaN                0   \n",
       "18431  fafdcd668e3743c1bb461111dcafc2a4           NaN                0   \n",
       "31326                               NaN           NaN                0   \n",
       "31327  fafdcd668e3743c1bb461111dcafc2a4           2.0                1   \n",
       "34287                               NaN           NaN                0   \n",
       "\n",
       "       offer received  offer viewed  transaction   age  ... difficulty  \\\n",
       "1889                1             0            0  59.0  ...       10.0   \n",
       "18431               0             1            0  59.0  ...       10.0   \n",
       "31326               0             0            1  59.0  ...        NaN   \n",
       "31327               0             0            0  59.0  ...       10.0   \n",
       "34287               0             0            1  59.0  ...        NaN   \n",
       "\n",
       "       duration  reward_offered  email  mobile  social  web  bogo  discount  \\\n",
       "1889       10.0             2.0    1.0     1.0     1.0  1.0   0.0       1.0   \n",
       "18431      10.0             2.0    1.0     1.0     1.0  1.0   0.0       1.0   \n",
       "31326       NaN             NaN    NaN     NaN     NaN  NaN   NaN       NaN   \n",
       "31327      10.0             2.0    1.0     1.0     1.0  1.0   0.0       1.0   \n",
       "34287       NaN             NaN    NaN     NaN     NaN  NaN   NaN       NaN   \n",
       "\n",
       "       informational  \n",
       "1889             0.0  \n",
       "18431            0.0  \n",
       "31326            NaN  \n",
       "31327            0.0  \n",
       "34287            NaN  \n",
       "\n",
       "[5 rows x 24 columns]"
      ]
     },
     "execution_count": 43,
     "metadata": {},
     "output_type": "execute_result"
    }
   ],
   "source": [
    "demographic_df[demographic_df['customer_id'].str.match('0020c2b971eb4e9188eac86d93036a77')].head()"
   ]
  },
  {
   "cell_type": "code",
   "execution_count": 44,
   "metadata": {
    "scrolled": true
   },
   "outputs": [
    {
     "data": {
      "text/plain": [
       "customer_id         0\n",
       "age                 0\n",
       "gender              0\n",
       "income              0\n",
       "membership_years    0\n",
       "year                0\n",
       "amount              0\n",
       "reward_given        0\n",
       "offer completed     0\n",
       "offer received      0\n",
       "offer viewed        0\n",
       "transaction         0\n",
       "reward_offered      0\n",
       "email               0\n",
       "mobile              0\n",
       "social              0\n",
       "web                 0\n",
       "bogo                0\n",
       "informational       0\n",
       "discount            0\n",
       "dtype: int64"
      ]
     },
     "execution_count": 44,
     "metadata": {},
     "output_type": "execute_result"
    }
   ],
   "source": [
    "df_temp2.isna().sum()"
   ]
  },
  {
   "cell_type": "code",
   "execution_count": null,
   "metadata": {},
   "outputs": [],
   "source": [
    "# feature trasaction related to offer and non offer\n",
    "\n",
    "df_temp2['offer_transaction'] = df_temp2['transaction']-df_temp2['offer completed']\n"
   ]
  },
  {
   "cell_type": "code",
   "execution_count": null,
   "metadata": {},
   "outputs": [],
   "source": [
    "df_temp2.head()"
   ]
  },
  {
   "cell_type": "code",
   "execution_count": null,
   "metadata": {},
   "outputs": [],
   "source": [
    "df_temp2.rename(columns={'regular_transaction':'regular transaction', 'transaction': 'offer transaction'}, inplace =True)"
   ]
  },
  {
   "cell_type": "code",
   "execution_count": null,
   "metadata": {},
   "outputs": [],
   "source": [
    "df_temp2.head()"
   ]
  },
  {
   "cell_type": "markdown",
   "metadata": {},
   "source": [
    "offer_completion_rate = Number of completed offers trasaction / Number of offers sent (all offers sum)\n",
    "# Lets check how many offer related transaction\n",
    "54% of data will be used to charecterize demographic"
   ]
  },
  {
   "cell_type": "code",
   "execution_count": null,
   "metadata": {},
   "outputs": [],
   "source": [
    "#http://fluidsurveys.com/university/difference-response-rate-completion-rate/\n",
    "# offer completion rate \n",
    "df_temp2['offer_completion_rate'] =\n",
    "\n",
    "\n",
    "# number of trasaction occured \n",
    "offer_event_count=transcript['event'].value_counts()\n",
    "print(offer_event_count)\n",
    "total_transaction = df_merged[(df_merged['event']=='transaction')]\n",
    "transaction_offer =df_merged[(df_merged['event']=='trasaction')&(df_merged['event']=='offer completed')]\n",
    "transaction_no_offer=((offer_event_count[0]*100)/total_transaction)\n",
    "print('Total offer activity count :',(offer_event_count[1]+offer_event_count[2]+offer_event_count[3])-offer_event_count[0])\n",
    "print('Total transaction count :', total_transaction)\n",
    "print('Total transaction related to offer: ', transaction_offer)\n",
    "print('Total transaction not related to offer :',transaction_no_offer)\n"
   ]
  },
  {
   "cell_type": "markdown",
   "metadata": {},
   "source": [
    "# demographic.head()"
   ]
  },
  {
   "cell_type": "code",
   "execution_count": null,
   "metadata": {},
   "outputs": [],
   "source": [
    "offer_visibilty = transcript_df[transcript_df.event == 'offer viewed'].groupby([transcript_df.offer_id])['event'].count()/transcript_df[transcript_df.event == 'offer received'].groupby([transcript_df.offer_id])['event'].count()*100\n",
    "offer_completion = transcript_df[transcript_df.event == 'offer completed'].groupby([transcript_df.offer_id])['event'].count()/transcript_df[transcript_df.event == 'offer received'].groupby([transcript_df.offer_id])['event'].count()*100\n",
    "portfolio = pd.merge(portfolio_df,offer_completion, on='offer_id', how='left')"
   ]
  },
  {
   "cell_type": "code",
   "execution_count": null,
   "metadata": {},
   "outputs": [],
   "source": []
  },
  {
   "cell_type": "markdown",
   "metadata": {},
   "source": [
    "Feature Engineering \n",
    "1) calculate total trasactions "
   ]
  },
  {
   "cell_type": "code",
   "execution_count": null,
   "metadata": {},
   "outputs": [],
   "source": [
    "demographic_df.columns"
   ]
  },
  {
   "cell_type": "code",
   "execution_count": null,
   "metadata": {},
   "outputs": [],
   "source": []
  },
  {
   "cell_type": "code",
   "execution_count": null,
   "metadata": {},
   "outputs": [],
   "source": [
    "# non offer related transactions\n",
    "306534-290973"
   ]
  },
  {
   "cell_type": "markdown",
   "metadata": {},
   "source": [
    "Analyse no offer @ time 0 transaction EDA seperately... "
   ]
  },
  {
   "cell_type": "code",
   "execution_count": null,
   "metadata": {},
   "outputs": [],
   "source": [
    "#profile_transcript_df[profile_transcript_df['customer_id'].str.match('0009655768c64bdeb2e877511632db8f')]\n",
    "#transcript_df.groupby(transcript_df[transcript_df['customer_id'].str.match('0009655768c64bdeb2e877511632db8f')])['offer_id'].value_counts()"
   ]
  },
  {
   "cell_type": "markdown",
   "metadata": {},
   "source": [
    "#  current features not much useful to understand customer demographic for the Starbuck\n",
    "\n",
    "remove transaction without offer related"
   ]
  },
  {
   "cell_type": "code",
   "execution_count": null,
   "metadata": {},
   "outputs": [],
   "source": [
    "#df_temp3 = pd.merge(profile_df, df_transcript_temp, on='customer_id', how='left')\n",
    "#ustomer_demographic_df = pd.merge(profile_transcript_df, portfolio_df, on='offer_id', how='left')"
   ]
  },
  {
   "cell_type": "code",
   "execution_count": null,
   "metadata": {},
   "outputs": [],
   "source": [
    "# customer demographc dataframe \n",
    "#https://stackoverflow.com/questions/14507794/pandas-how-to-flatten-a-hierarchical-index-in-columns\n",
    "\n",
    "#df_temp.groupby(['customer_id', 'time','amount','offer_id',' reward_offered','difficulty','duration','offer_type'])[[\"email\", \"mobile\", \"social\", \"web\"]].sum()\n",
    "def sum_offer_received(trx):\n",
    "    return np.sum(trx==\"offer received\")\n",
    "def sum_offer_viewed(trx):\n",
    "    return np.sum(trx==\"offer viewed\")\n",
    "def sum_offer_completed(trx):\n",
    "    return np.sum(trx==\"offer completed\")\n",
    "def sum_transaction(trx):\n",
    "    return np.sum(trx==\"transaction\")\n",
    "\n",
    "def offer_type_bogo(trx2):\n",
    "    return np.sum(trx2=='1')\n",
    "def offer_type_informational(trx2):\n",
    "    return np.sum(trx2=='2')\n",
    "def offer_type_discount(trx2):\n",
    "    return np.sum(trx2=='3')\n",
    "def offer_type_nan(trx2):\n",
    "    return np.sum(trx2=='NaN')\n",
    "# add sum of offer send\n",
    "def bogo1(trx3):\n",
    "    return np.sum(trx3=='ae264e3637204a6fb9bb56bc8210ddfd')\n",
    "def bogo2(trx3):\n",
    "    return np.sum(trx3=='4d5c57ea9a6940dd891ad53e9dbe8da0')\n",
    "def informational1(trx3):\n",
    "    return np.sum(trx3=='3f207df678b143eea3cee63160fa8bed')\n",
    "def bogo3(trx3):\n",
    "    return np.sum(trx3=='9b98b8c7a33c4b65b9aebfe6a799e6d9')\n",
    "def discount1(trx3):\n",
    "    return np.sum(trx3=='0b1e1539f2cc45b7b9fa7c272da2e1d7')\n",
    "def discount2(trx3):\n",
    "    return np.sum(trx3=='2298d6c36e964ae4a3e7e9706d1fb8c2')\n",
    "def discount3(trx3):\n",
    "    return np.sum(trx3=='fafdcd668e3743c1bb461111dcafc2a4')\n",
    "def informational2(trx3):\n",
    "    return np.sum(trx3=='5a8bc65990b245e5a138643cd4eb9837')\n",
    "def bogo4(trx3):\n",
    "    return np.sum(trx3=='f19421c1d4aa40978ebb69ca19b0e20d')\n",
    "def discount4(trx3):\n",
    "    return np.sum(trx3=='2906b810c7d4411798c6938adc9daaa5')\n",
    "def no_offer(trx3):\n",
    "    return np.sum(trx3=='abcd')\n",
    "\n",
    "\n",
    "\n",
    "df_customer = customer_demographic_df.groupby([ 'customer_id','age','year','income','year', 'membership_years']\n",
    "                ).agg({'email':np.sum, 'web':np.sum, 'mobile':np.sum, 'social': np.sum,\n",
    "                       'amount':np.sum,'reward_offered':np.sum, 'amount':np.sum,\n",
    "                       'event' : [sum_offer_received,sum_offer_viewed,sum_offer_completed,sum_transaction],\n",
    "                       'offer_id': [bogo1, bogo2, informational1, bogo3, discount1, discount2, discount3, informational2,bogo4,discount4],\n",
    "                       'offer_type': [offer_type_bogo, offer_type_informational,  offer_type_discount]})\n"
   ]
  },
  {
   "cell_type": "code",
   "execution_count": null,
   "metadata": {},
   "outputs": [],
   "source": [
    "df_customer.head()"
   ]
  },
  {
   "cell_type": "code",
   "execution_count": null,
   "metadata": {},
   "outputs": [],
   "source": [
    "df_customer.columns = df_customer.columns.droplevel(0)"
   ]
  },
  {
   "cell_type": "code",
   "execution_count": null,
   "metadata": {},
   "outputs": [],
   "source": [
    "df_customer.head()"
   ]
  },
  {
   "cell_type": "code",
   "execution_count": null,
   "metadata": {},
   "outputs": [],
   "source": [
    "df_customer.columns"
   ]
  },
  {
   "cell_type": "code",
   "execution_count": null,
   "metadata": {},
   "outputs": [],
   "source": [
    "print('Events where an offer is received and used')\n",
    "print(transcript.loc[(transcript['offer_id'].notnull()) & (transcript['reward'].notnull()),'event'].value_counts())\n",
    "print('\\n')\n",
    "print('Events where an offer is received but not used')\n",
    "print(transcript.loc[(transcript['offer_id'].notnull()) & (transcript['reward'].isnull()),'event'].value_counts())\n",
    "print('\\n')\n",
    "print('Events where transaction amount occurs')\n",
    "print(transcript.loc[(transcript['amount'].notnull()) ,'event'].value_counts())"
   ]
  },
  {
   "cell_type": "code",
   "execution_count": null,
   "metadata": {},
   "outputs": [],
   "source": [
    "transcript_new.groupby(['event','offer_type'])['offer_type'].count()"
   ]
  },
  {
   "cell_type": "code",
   "execution_count": null,
   "metadata": {},
   "outputs": [],
   "source": [
    "customer_demographic_df[customer_demographic_df['customer_id'].str.match('0610b486422d4921ae7d2bf64640c50b')]"
   ]
  },
  {
   "cell_type": "markdown",
   "metadata": {},
   "source": [
    "add informational offer received column\n",
    "sum_offer_trasations\n",
    "sum_no offer_trasaction\n",
    "add long-time customer"
   ]
  },
  {
   "cell_type": "code",
   "execution_count": null,
   "metadata": {},
   "outputs": [],
   "source": [
    "df_offer_completed=transcript_df[(transcript_df['event'] =='offer completed')]\n",
    "df_offer_completed.dropna(axis=1, how='all',inplace=True)\n",
    "df_offer_completed\n",
    "\n",
    "df_offer_received=transcript_df[(transcript_df['event'] =='offer received')]\n",
    "df_offer_received.dropna(axis=1, how='all',inplace=True)\n",
    "\n",
    "df_combine_transaction=transcript_df[(transcript_df['event'] =='transaction')]\n",
    "df_combine_transaction.dropna(axis=1, how='all',inplace=True)\n",
    "\n",
    "df_offer_viewed=transcript_df[(transcript_df['event'] =='offer viewed')]\n",
    "df_offer_viewed.dropna(axis=1, how='all',inplace=True)\n",
    "\n",
    "df_offer_trasaction=df_combine_transaction[(df_combine_transaction['time']==0)]\n",
    "df_offer_trasaction.dropna(axis=1, how='all',inplace=True)\n",
    "\n",
    "print(len(df_offer_completed),len(df_offer_received), len(df_combine_transaction), len(df_offer_viewed),len(df_offer_trasaction))"
   ]
  },
  {
   "cell_type": "code",
   "execution_count": null,
   "metadata": {},
   "outputs": [],
   "source": [
    "df_offer_completed.head()"
   ]
  },
  {
   "cell_type": "code",
   "execution_count": null,
   "metadata": {},
   "outputs": [],
   "source": [
    "temp_df = pd.merge(transcript_df, profile_df, on='customer_id')\n",
    "df_final = pd.merge(temp_df, portfolio_df, on='offer_id', how='left')\n",
    "    "
   ]
  },
  {
   "cell_type": "code",
   "execution_count": null,
   "metadata": {},
   "outputs": [],
   "source": [
    "portfolio_df.head()"
   ]
  },
  {
   "cell_type": "code",
   "execution_count": null,
   "metadata": {},
   "outputs": [],
   "source": [
    "temp_df.head()"
   ]
  },
  {
   "cell_type": "code",
   "execution_count": null,
   "metadata": {
    "scrolled": true
   },
   "outputs": [],
   "source": [
    "df_final.head()"
   ]
  },
  {
   "cell_type": "code",
   "execution_count": null,
   "metadata": {},
   "outputs": [],
   "source": [
    "df_final[df_final['event']=='offer received'].groupby('customer_id')['event'].count().hist()"
   ]
  },
  {
   "cell_type": "markdown",
   "metadata": {},
   "source": [
    "# More transaction occured. \n",
    "#Effective offer will be between intersection of  offer recieved, and offer completed. create a new daaframe\n",
    "# customer segmentations for this new dataframe\n",
    "# we can keep trasaction at time 0 which are not influenced by offer ,\n",
    "#we can create test dataset to predict the effectivenes of offer from transaction at time=0 offer. \n"
   ]
  },
  {
   "cell_type": "code",
   "execution_count": null,
   "metadata": {},
   "outputs": [],
   "source": [
    "df_final['event'].value_counts().plot.bar()"
   ]
  },
  {
   "cell_type": "markdown",
   "metadata": {},
   "source": [
    "# we will combine all offers together to carry out customer segmentation and effective offer model development. \n",
    "we will delete following columns\n",
    "\n",
    "### offer _colmpleted - email, mobile reward_x and reward_y are duplicate columns for the combined df - drop\n",
    "### offer_received e\n"
   ]
  },
  {
   "cell_type": "code",
   "execution_count": null,
   "metadata": {},
   "outputs": [],
   "source": [
    "df_offer_completed=df_final[(df_final['event'] =='offer completed')].copy()\n",
    "df_offer_completed.dropna(axis=1, how='all',inplace=True)\n",
    "df_offer_received=df_final[(df_final['event'] =='offer received')].copy()\n",
    "df_offer_received.dropna(axis=1, how='all',inplace=True)\n",
    "df_combine_transaction=df_final[(df_final['event'] =='transaction')].copy()\n",
    "df_combine_transaction.dropna(axis=1, how='all',inplace=True)\n",
    "df_offer_viewed=df_final[(df_final['event'] =='offer viewed')].copy()\n",
    "df_offer_viewed.dropna(axis=1, how='all',inplace=True)\n",
    "print(len(df_offer_completed),len(df_offer_received), len(df_combine_transaction), len(df_offer_viewed))"
   ]
  },
  {
   "cell_type": "code",
   "execution_count": null,
   "metadata": {},
   "outputs": [],
   "source": [
    "df_offer_completed.drop(['email', 'mobile', 'social', 'web'], axis=1,inplace=True)\n",
    "df_offer_viewed.drop(['email', 'mobile', 'social', 'web'], axis=1,inplace=True)\n"
   ]
  },
  {
   "cell_type": "markdown",
   "metadata": {},
   "source": [
    "#keep channels only in offer_recieved otherwise it will be duplicate data\n",
    "#66501 offer sent, same customer may get multiple offers\n",
    "#32444 offer completed, customers may have completed offer without knowing it. Regular customers\n",
    "#Offer related transactions = 123957-32444=91513\n",
    "#49860 offer viewed - we can find customer completing offer without viewing to obtain regular customers\n",
    "\n"
   ]
  },
  {
   "cell_type": "code",
   "execution_count": null,
   "metadata": {
    "scrolled": true
   },
   "outputs": [],
   "source": [
    "df_offer_completed.head()"
   ]
  },
  {
   "cell_type": "code",
   "execution_count": null,
   "metadata": {
    "scrolled": true
   },
   "outputs": [],
   "source": [
    "df_offer_received.head()"
   ]
  },
  {
   "cell_type": "code",
   "execution_count": null,
   "metadata": {},
   "outputs": [],
   "source": [
    "df_offer_viewed.head()"
   ]
  },
  {
   "cell_type": "code",
   "execution_count": null,
   "metadata": {},
   "outputs": [],
   "source": [
    "df_offer_viewed.isna().sum()"
   ]
  },
  {
   "cell_type": "code",
   "execution_count": null,
   "metadata": {},
   "outputs": [],
   "source": [
    "df_combine_transaction.head()"
   ]
  },
  {
   "cell_type": "code",
   "execution_count": null,
   "metadata": {},
   "outputs": [],
   "source": [
    "df_offer_trasaction=df_combine_transaction[(df_combine_transaction['time']==0)].copy()\n",
    "df_offer_trasaction.dropna(axis=1, how='all',inplace=True)"
   ]
  },
  {
   "cell_type": "code",
   "execution_count": null,
   "metadata": {
    "scrolled": false
   },
   "outputs": [],
   "source": [
    "df_offer_trasaction.head()"
   ]
  },
  {
   "cell_type": "code",
   "execution_count": null,
   "metadata": {},
   "outputs": [],
   "source": [
    "temp_offers = pd.merge(df_offer_received, df_offer_viewed, on=['customer_id','offer_id'], how='left')\n",
    "df_alloffers_final = pd.merge(temp_offers, df_offer_completed, on=['customer_id', 'offer_id'], how='left')\n",
    "print(len(df_alloffers_final))"
   ]
  },
  {
   "cell_type": "code",
   "execution_count": null,
   "metadata": {
    "scrolled": true
   },
   "outputs": [],
   "source": [
    "df_alloffers_final.head()"
   ]
  },
  {
   "cell_type": "code",
   "execution_count": null,
   "metadata": {},
   "outputs": [],
   "source": [
    "df_alloffers_final['age_x'].value_counts().head()"
   ]
  },
  {
   "cell_type": "code",
   "execution_count": null,
   "metadata": {},
   "outputs": [],
   "source": [
    "df_alloffers_final['age_y'].value_counts().head()"
   ]
  },
  {
   "cell_type": "code",
   "execution_count": null,
   "metadata": {},
   "outputs": [],
   "source": []
  },
  {
   "cell_type": "code",
   "execution_count": null,
   "metadata": {},
   "outputs": [],
   "source": [
    "df_alloffers_final.isna().sum()"
   ]
  },
  {
   "cell_type": "code",
   "execution_count": null,
   "metadata": {},
   "outputs": [],
   "source": [
    "df_alloffers_final['gender'].value_counts().plot.bar()"
   ]
  },
  {
   "cell_type": "code",
   "execution_count": null,
   "metadata": {},
   "outputs": [],
   "source": [
    "df_alloffers_final['event'].unique()"
   ]
  },
  {
   "cell_type": "code",
   "execution_count": null,
   "metadata": {},
   "outputs": [],
   "source": [
    "df_compleed_offer.drop(['offer_id','reward_x','difficulty', 'duration', 'offer_type',\n",
    "       'reward_y', 'email', 'mobile', 'social', 'web'], axis=1,inplace=True)"
   ]
  },
  {
   "cell_type": "code",
   "execution_count": null,
   "metadata": {},
   "outputs": [],
   "source": [
    "df_compleed_offer.head()"
   ]
  },
  {
   "cell_type": "code",
   "execution_count": null,
   "metadata": {},
   "outputs": [],
   "source": [
    "df_compleed_offer['customer_id'].value_counts()"
   ]
  },
  {
   "cell_type": "code",
   "execution_count": null,
   "metadata": {},
   "outputs": [],
   "source": [
    "df_transaction=df_final[(df_final['event'] =='transaction')].copy()"
   ]
  },
  {
   "cell_type": "code",
   "execution_count": null,
   "metadata": {},
   "outputs": [],
   "source": [
    "len(df_transaction)"
   ]
  },
  {
   "cell_type": "code",
   "execution_count": null,
   "metadata": {},
   "outputs": [],
   "source": [
    "df_transaction.isna().sum()"
   ]
  },
  {
   "cell_type": "code",
   "execution_count": null,
   "metadata": {},
   "outputs": [],
   "source": [
    "df_transaction.columns"
   ]
  },
  {
   "cell_type": "code",
   "execution_count": null,
   "metadata": {},
   "outputs": [],
   "source": [
    "df_transaction.drop(['offer_id','reward_x','difficulty', 'duration', 'offer_type',\n",
    "       'reward_y', 'email', 'mobile', 'social', 'web'], axis=1,inplace=True)"
   ]
  },
  {
   "cell_type": "code",
   "execution_count": null,
   "metadata": {},
   "outputs": [],
   "source": [
    "df_transaction.head()"
   ]
  },
  {
   "cell_type": "code",
   "execution_count": null,
   "metadata": {},
   "outputs": [],
   "source": [
    "df_transaction['customer_id'].value_counts()"
   ]
  },
  {
   "cell_type": "code",
   "execution_count": null,
   "metadata": {},
   "outputs": [],
   "source": [
    "df_final[df_final['event']=='offer received'].groupby('customer_id')['event'].count().hist()"
   ]
  },
  {
   "cell_type": "code",
   "execution_count": null,
   "metadata": {},
   "outputs": [],
   "source": [
    "col_profile= [profile_df.columns.tolist()]\n",
    "\n",
    "for column_name in col_portfolio:\n",
    "    ax=plt.subplots(figsize=(6,3))\n",
    "    ax=portfolio_df[column_name].value_counts().plot(kind='bar')\n",
    "    title=\"Histogram of \" + column_name\n",
    "    plt.title(title, fontsize=12)\n",
    "    plt.show()"
   ]
  },
  {
   "cell_type": "code",
   "execution_count": null,
   "metadata": {},
   "outputs": [],
   "source": [
    "for column_name in col_profile:\n",
    "    ax1=plt.subplots(figsize=(6,3))\n",
    "    # get data by column_name and display a histogram\n",
    "    ax1 = plt.hist(profile_df[column_name], bins=n_bins)\n",
    "    title=\"Histogram of \" + column_name\n",
    "    plt.title(title, fontsize=12)\n",
    "    plt.show()\n"
   ]
  },
  {
   "cell_type": "code",
   "execution_count": null,
   "metadata": {},
   "outputs": [],
   "source": [
    "transcript"
   ]
  },
  {
   "cell_type": "code",
   "execution_count": null,
   "metadata": {},
   "outputs": [],
   "source": []
  },
  {
   "cell_type": "code",
   "execution_count": null,
   "metadata": {},
   "outputs": [],
   "source": []
  },
  {
   "cell_type": "code",
   "execution_count": null,
   "metadata": {},
   "outputs": [],
   "source": [
    "\n",
    "   "
   ]
  }
 ],
 "metadata": {
  "kernelspec": {
   "display_name": "Python 3",
   "language": "python",
   "name": "python3"
  },
  "language_info": {
   "codemirror_mode": {
    "name": "ipython",
    "version": 3
   },
   "file_extension": ".py",
   "mimetype": "text/x-python",
   "name": "python",
   "nbconvert_exporter": "python",
   "pygments_lexer": "ipython3",
   "version": "3.7.3"
  }
 },
 "nbformat": 4,
 "nbformat_minor": 2
}
